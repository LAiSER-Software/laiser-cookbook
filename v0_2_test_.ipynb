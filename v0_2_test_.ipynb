{
  "nbformat": 4,
  "nbformat_minor": 0,
  "metadata": {
    "colab": {
      "provenance": [],
      "gpuType": "T4"
    },
    "kernelspec": {
      "name": "python3",
      "display_name": "Python 3"
    },
    "language_info": {
      "name": "python"
    },
    "accelerator": "GPU"
  },
  "cells": [
    {
      "cell_type": "code",
      "execution_count": 1,
      "metadata": {
        "colab": {
          "base_uri": "https://localhost:8080/",
          "height": 1000
        },
        "id": "kysS7G86CDK6",
        "outputId": "504da843-36f0-4c62-c36f-a16eace62afd"
      },
      "outputs": [
        {
          "output_type": "stream",
          "name": "stdout",
          "text": [
            "Collecting dev-laiser==0.2.31\n",
            "  Downloading dev_laiser-0.2.31-py3-none-any.whl.metadata (6.1 kB)\n",
            "Collecting numpy<2.0.0,>=1.21.0 (from dev-laiser==0.2.31)\n",
            "  Downloading numpy-1.26.4-cp311-cp311-manylinux_2_17_x86_64.manylinux2014_x86_64.whl.metadata (61 kB)\n",
            "\u001b[2K     \u001b[90m━━━━━━━━━━━━━━━━━━━━━━━━━━━━━━━━━━━━━━━━\u001b[0m \u001b[32m61.0/61.0 kB\u001b[0m \u001b[31m1.9 MB/s\u001b[0m eta \u001b[36m0:00:00\u001b[0m\n",
            "\u001b[?25hRequirement already satisfied: pandas==2.2.2 in /usr/local/lib/python3.11/dist-packages (from dev-laiser==0.2.31) (2.2.2)\n",
            "Requirement already satisfied: psutil<6.0.0,>=5.8.0 in /usr/local/lib/python3.11/dist-packages (from dev-laiser==0.2.31) (5.9.5)\n",
            "Collecting skillNer==1.0.3 (from dev-laiser==0.2.31)\n",
            "  Downloading skillNer-1.0.3.tar.gz (24 kB)\n",
            "  Preparing metadata (setup.py) ... \u001b[?25l\u001b[?25hdone\n",
            "Requirement already satisfied: scikit-learn<2.0.0,>=1.0.0 in /usr/local/lib/python3.11/dist-packages (from dev-laiser==0.2.31) (1.6.1)\n",
            "Requirement already satisfied: spacy<4.0.0,>=3.0.0 in /usr/local/lib/python3.11/dist-packages (from dev-laiser==0.2.31) (3.8.7)\n",
            "Requirement already satisfied: transformers<5.0.0,>=4.0.0 in /usr/local/lib/python3.11/dist-packages (from dev-laiser==0.2.31) (4.52.4)\n",
            "Requirement already satisfied: tokenizers<1.0.0,>=0.10.0 in /usr/local/lib/python3.11/dist-packages (from dev-laiser==0.2.31) (0.21.1)\n",
            "Requirement already satisfied: torch==2.6.0 in /usr/local/lib/python3.11/dist-packages (from dev-laiser==0.2.31) (2.6.0+cu124)\n",
            "Requirement already satisfied: ipython<8.0.0,>=7.0.0 in /usr/local/lib/python3.11/dist-packages (from dev-laiser==0.2.31) (7.34.0)\n",
            "Collecting python-dotenv<1.0.0,>=0.19.0 (from dev-laiser==0.2.31)\n",
            "  Downloading python_dotenv-0.21.1-py3-none-any.whl.metadata (21 kB)\n",
            "Collecting vllm<1.0.0,>=0.1.0 (from dev-laiser==0.2.31)\n",
            "  Downloading vllm-0.9.1-cp38-abi3-manylinux1_x86_64.whl.metadata (15 kB)\n",
            "Requirement already satisfied: tqdm<5.0.0,>=4.62.0 in /usr/local/lib/python3.11/dist-packages (from dev-laiser==0.2.31) (4.67.1)\n",
            "Requirement already satisfied: sentence-transformers==4.1.0 in /usr/local/lib/python3.11/dist-packages (from dev-laiser==0.2.31) (4.1.0)\n",
            "Collecting faiss-cpu==1.11.0 (from dev-laiser==0.2.31)\n",
            "  Downloading faiss_cpu-1.11.0-cp311-cp311-manylinux_2_28_x86_64.whl.metadata (4.8 kB)\n",
            "Requirement already satisfied: packaging in /usr/local/lib/python3.11/dist-packages (from faiss-cpu==1.11.0->dev-laiser==0.2.31) (24.2)\n",
            "Requirement already satisfied: python-dateutil>=2.8.2 in /usr/local/lib/python3.11/dist-packages (from pandas==2.2.2->dev-laiser==0.2.31) (2.9.0.post0)\n",
            "Requirement already satisfied: pytz>=2020.1 in /usr/local/lib/python3.11/dist-packages (from pandas==2.2.2->dev-laiser==0.2.31) (2025.2)\n",
            "Requirement already satisfied: tzdata>=2022.7 in /usr/local/lib/python3.11/dist-packages (from pandas==2.2.2->dev-laiser==0.2.31) (2025.2)\n",
            "Requirement already satisfied: scipy in /usr/local/lib/python3.11/dist-packages (from sentence-transformers==4.1.0->dev-laiser==0.2.31) (1.15.3)\n",
            "Requirement already satisfied: huggingface-hub>=0.20.0 in /usr/local/lib/python3.11/dist-packages (from sentence-transformers==4.1.0->dev-laiser==0.2.31) (0.32.4)\n",
            "Requirement already satisfied: Pillow in /usr/local/lib/python3.11/dist-packages (from sentence-transformers==4.1.0->dev-laiser==0.2.31) (11.2.1)\n",
            "Requirement already satisfied: typing_extensions>=4.5.0 in /usr/local/lib/python3.11/dist-packages (from sentence-transformers==4.1.0->dev-laiser==0.2.31) (4.14.0)\n",
            "Requirement already satisfied: nltk in /usr/local/lib/python3.11/dist-packages (from skillNer==1.0.3->dev-laiser==0.2.31) (3.9.1)\n",
            "Collecting jellyfish (from skillNer==1.0.3->dev-laiser==0.2.31)\n",
            "  Downloading jellyfish-1.2.0-cp311-cp311-manylinux_2_17_x86_64.manylinux2014_x86_64.whl.metadata (2.6 kB)\n",
            "Requirement already satisfied: filelock in /usr/local/lib/python3.11/dist-packages (from torch==2.6.0->dev-laiser==0.2.31) (3.18.0)\n",
            "Requirement already satisfied: networkx in /usr/local/lib/python3.11/dist-packages (from torch==2.6.0->dev-laiser==0.2.31) (3.5)\n",
            "Requirement already satisfied: jinja2 in /usr/local/lib/python3.11/dist-packages (from torch==2.6.0->dev-laiser==0.2.31) (3.1.6)\n",
            "Requirement already satisfied: fsspec in /usr/local/lib/python3.11/dist-packages (from torch==2.6.0->dev-laiser==0.2.31) (2025.3.2)\n",
            "Collecting nvidia-cuda-nvrtc-cu12==12.4.127 (from torch==2.6.0->dev-laiser==0.2.31)\n",
            "  Downloading nvidia_cuda_nvrtc_cu12-12.4.127-py3-none-manylinux2014_x86_64.whl.metadata (1.5 kB)\n",
            "Collecting nvidia-cuda-runtime-cu12==12.4.127 (from torch==2.6.0->dev-laiser==0.2.31)\n",
            "  Downloading nvidia_cuda_runtime_cu12-12.4.127-py3-none-manylinux2014_x86_64.whl.metadata (1.5 kB)\n",
            "Collecting nvidia-cuda-cupti-cu12==12.4.127 (from torch==2.6.0->dev-laiser==0.2.31)\n",
            "  Downloading nvidia_cuda_cupti_cu12-12.4.127-py3-none-manylinux2014_x86_64.whl.metadata (1.6 kB)\n",
            "Collecting nvidia-cudnn-cu12==9.1.0.70 (from torch==2.6.0->dev-laiser==0.2.31)\n",
            "  Downloading nvidia_cudnn_cu12-9.1.0.70-py3-none-manylinux2014_x86_64.whl.metadata (1.6 kB)\n",
            "Collecting nvidia-cublas-cu12==12.4.5.8 (from torch==2.6.0->dev-laiser==0.2.31)\n",
            "  Downloading nvidia_cublas_cu12-12.4.5.8-py3-none-manylinux2014_x86_64.whl.metadata (1.5 kB)\n",
            "Collecting nvidia-cufft-cu12==11.2.1.3 (from torch==2.6.0->dev-laiser==0.2.31)\n",
            "  Downloading nvidia_cufft_cu12-11.2.1.3-py3-none-manylinux2014_x86_64.whl.metadata (1.5 kB)\n",
            "Collecting nvidia-curand-cu12==10.3.5.147 (from torch==2.6.0->dev-laiser==0.2.31)\n",
            "  Downloading nvidia_curand_cu12-10.3.5.147-py3-none-manylinux2014_x86_64.whl.metadata (1.5 kB)\n",
            "Collecting nvidia-cusolver-cu12==11.6.1.9 (from torch==2.6.0->dev-laiser==0.2.31)\n",
            "  Downloading nvidia_cusolver_cu12-11.6.1.9-py3-none-manylinux2014_x86_64.whl.metadata (1.6 kB)\n",
            "Collecting nvidia-cusparse-cu12==12.3.1.170 (from torch==2.6.0->dev-laiser==0.2.31)\n",
            "  Downloading nvidia_cusparse_cu12-12.3.1.170-py3-none-manylinux2014_x86_64.whl.metadata (1.6 kB)\n",
            "Requirement already satisfied: nvidia-cusparselt-cu12==0.6.2 in /usr/local/lib/python3.11/dist-packages (from torch==2.6.0->dev-laiser==0.2.31) (0.6.2)\n",
            "Requirement already satisfied: nvidia-nccl-cu12==2.21.5 in /usr/local/lib/python3.11/dist-packages (from torch==2.6.0->dev-laiser==0.2.31) (2.21.5)\n",
            "Requirement already satisfied: nvidia-nvtx-cu12==12.4.127 in /usr/local/lib/python3.11/dist-packages (from torch==2.6.0->dev-laiser==0.2.31) (12.4.127)\n",
            "Collecting nvidia-nvjitlink-cu12==12.4.127 (from torch==2.6.0->dev-laiser==0.2.31)\n",
            "  Downloading nvidia_nvjitlink_cu12-12.4.127-py3-none-manylinux2014_x86_64.whl.metadata (1.5 kB)\n",
            "Requirement already satisfied: triton==3.2.0 in /usr/local/lib/python3.11/dist-packages (from torch==2.6.0->dev-laiser==0.2.31) (3.2.0)\n",
            "Requirement already satisfied: sympy==1.13.1 in /usr/local/lib/python3.11/dist-packages (from torch==2.6.0->dev-laiser==0.2.31) (1.13.1)\n",
            "Requirement already satisfied: mpmath<1.4,>=1.1.0 in /usr/local/lib/python3.11/dist-packages (from sympy==1.13.1->torch==2.6.0->dev-laiser==0.2.31) (1.3.0)\n",
            "Requirement already satisfied: setuptools>=18.5 in /usr/local/lib/python3.11/dist-packages (from ipython<8.0.0,>=7.0.0->dev-laiser==0.2.31) (75.2.0)\n",
            "Collecting jedi>=0.16 (from ipython<8.0.0,>=7.0.0->dev-laiser==0.2.31)\n",
            "  Downloading jedi-0.19.2-py2.py3-none-any.whl.metadata (22 kB)\n",
            "Requirement already satisfied: decorator in /usr/local/lib/python3.11/dist-packages (from ipython<8.0.0,>=7.0.0->dev-laiser==0.2.31) (4.4.2)\n",
            "Requirement already satisfied: pickleshare in /usr/local/lib/python3.11/dist-packages (from ipython<8.0.0,>=7.0.0->dev-laiser==0.2.31) (0.7.5)\n",
            "Requirement already satisfied: traitlets>=4.2 in /usr/local/lib/python3.11/dist-packages (from ipython<8.0.0,>=7.0.0->dev-laiser==0.2.31) (5.7.1)\n",
            "Requirement already satisfied: prompt-toolkit!=3.0.0,!=3.0.1,<3.1.0,>=2.0.0 in /usr/local/lib/python3.11/dist-packages (from ipython<8.0.0,>=7.0.0->dev-laiser==0.2.31) (3.0.51)\n",
            "Requirement already satisfied: pygments in /usr/local/lib/python3.11/dist-packages (from ipython<8.0.0,>=7.0.0->dev-laiser==0.2.31) (2.19.1)\n",
            "Requirement already satisfied: backcall in /usr/local/lib/python3.11/dist-packages (from ipython<8.0.0,>=7.0.0->dev-laiser==0.2.31) (0.2.0)\n",
            "Requirement already satisfied: matplotlib-inline in /usr/local/lib/python3.11/dist-packages (from ipython<8.0.0,>=7.0.0->dev-laiser==0.2.31) (0.1.7)\n",
            "Requirement already satisfied: pexpect>4.3 in /usr/local/lib/python3.11/dist-packages (from ipython<8.0.0,>=7.0.0->dev-laiser==0.2.31) (4.9.0)\n",
            "Requirement already satisfied: joblib>=1.2.0 in /usr/local/lib/python3.11/dist-packages (from scikit-learn<2.0.0,>=1.0.0->dev-laiser==0.2.31) (1.5.1)\n",
            "Requirement already satisfied: threadpoolctl>=3.1.0 in /usr/local/lib/python3.11/dist-packages (from scikit-learn<2.0.0,>=1.0.0->dev-laiser==0.2.31) (3.6.0)\n",
            "Requirement already satisfied: spacy-legacy<3.1.0,>=3.0.11 in /usr/local/lib/python3.11/dist-packages (from spacy<4.0.0,>=3.0.0->dev-laiser==0.2.31) (3.0.12)\n",
            "Requirement already satisfied: spacy-loggers<2.0.0,>=1.0.0 in /usr/local/lib/python3.11/dist-packages (from spacy<4.0.0,>=3.0.0->dev-laiser==0.2.31) (1.0.5)\n",
            "Requirement already satisfied: murmurhash<1.1.0,>=0.28.0 in /usr/local/lib/python3.11/dist-packages (from spacy<4.0.0,>=3.0.0->dev-laiser==0.2.31) (1.0.13)\n",
            "Requirement already satisfied: cymem<2.1.0,>=2.0.2 in /usr/local/lib/python3.11/dist-packages (from spacy<4.0.0,>=3.0.0->dev-laiser==0.2.31) (2.0.11)\n",
            "Requirement already satisfied: preshed<3.1.0,>=3.0.2 in /usr/local/lib/python3.11/dist-packages (from spacy<4.0.0,>=3.0.0->dev-laiser==0.2.31) (3.0.10)\n",
            "Requirement already satisfied: thinc<8.4.0,>=8.3.4 in /usr/local/lib/python3.11/dist-packages (from spacy<4.0.0,>=3.0.0->dev-laiser==0.2.31) (8.3.6)\n",
            "Requirement already satisfied: wasabi<1.2.0,>=0.9.1 in /usr/local/lib/python3.11/dist-packages (from spacy<4.0.0,>=3.0.0->dev-laiser==0.2.31) (1.1.3)\n",
            "Requirement already satisfied: srsly<3.0.0,>=2.4.3 in /usr/local/lib/python3.11/dist-packages (from spacy<4.0.0,>=3.0.0->dev-laiser==0.2.31) (2.5.1)\n",
            "Requirement already satisfied: catalogue<2.1.0,>=2.0.6 in /usr/local/lib/python3.11/dist-packages (from spacy<4.0.0,>=3.0.0->dev-laiser==0.2.31) (2.0.10)\n",
            "Requirement already satisfied: weasel<0.5.0,>=0.1.0 in /usr/local/lib/python3.11/dist-packages (from spacy<4.0.0,>=3.0.0->dev-laiser==0.2.31) (0.4.1)\n",
            "Requirement already satisfied: typer<1.0.0,>=0.3.0 in /usr/local/lib/python3.11/dist-packages (from spacy<4.0.0,>=3.0.0->dev-laiser==0.2.31) (0.16.0)\n",
            "Requirement already satisfied: requests<3.0.0,>=2.13.0 in /usr/local/lib/python3.11/dist-packages (from spacy<4.0.0,>=3.0.0->dev-laiser==0.2.31) (2.32.3)\n",
            "Requirement already satisfied: pydantic!=1.8,!=1.8.1,<3.0.0,>=1.7.4 in /usr/local/lib/python3.11/dist-packages (from spacy<4.0.0,>=3.0.0->dev-laiser==0.2.31) (2.11.5)\n",
            "Requirement already satisfied: langcodes<4.0.0,>=3.2.0 in /usr/local/lib/python3.11/dist-packages (from spacy<4.0.0,>=3.0.0->dev-laiser==0.2.31) (3.5.0)\n",
            "Requirement already satisfied: pyyaml>=5.1 in /usr/local/lib/python3.11/dist-packages (from transformers<5.0.0,>=4.0.0->dev-laiser==0.2.31) (6.0.2)\n",
            "Requirement already satisfied: regex!=2019.12.17 in /usr/local/lib/python3.11/dist-packages (from transformers<5.0.0,>=4.0.0->dev-laiser==0.2.31) (2024.11.6)\n",
            "Requirement already satisfied: safetensors>=0.4.3 in /usr/local/lib/python3.11/dist-packages (from transformers<5.0.0,>=4.0.0->dev-laiser==0.2.31) (0.5.3)\n",
            "Requirement already satisfied: cachetools in /usr/local/lib/python3.11/dist-packages (from vllm<1.0.0,>=0.1.0->dev-laiser==0.2.31) (5.5.2)\n",
            "Requirement already satisfied: sentencepiece in /usr/local/lib/python3.11/dist-packages (from vllm<1.0.0,>=0.1.0->dev-laiser==0.2.31) (0.2.0)\n",
            "Collecting blake3 (from vllm<1.0.0,>=0.1.0->dev-laiser==0.2.31)\n",
            "  Downloading blake3-1.0.5-cp311-cp311-manylinux_2_17_x86_64.manylinux2014_x86_64.whl.metadata (4.2 kB)\n",
            "Requirement already satisfied: py-cpuinfo in /usr/local/lib/python3.11/dist-packages (from vllm<1.0.0,>=0.1.0->dev-laiser==0.2.31) (9.0.0)\n",
            "Requirement already satisfied: protobuf in /usr/local/lib/python3.11/dist-packages (from vllm<1.0.0,>=0.1.0->dev-laiser==0.2.31) (5.29.5)\n",
            "Requirement already satisfied: fastapi>=0.115.0 in /usr/local/lib/python3.11/dist-packages (from fastapi[standard]>=0.115.0->vllm<1.0.0,>=0.1.0->dev-laiser==0.2.31) (0.115.12)\n",
            "Requirement already satisfied: aiohttp in /usr/local/lib/python3.11/dist-packages (from vllm<1.0.0,>=0.1.0->dev-laiser==0.2.31) (3.11.15)\n",
            "Requirement already satisfied: openai>=1.52.0 in /usr/local/lib/python3.11/dist-packages (from vllm<1.0.0,>=0.1.0->dev-laiser==0.2.31) (1.84.0)\n",
            "Requirement already satisfied: prometheus_client>=0.18.0 in /usr/local/lib/python3.11/dist-packages (from vllm<1.0.0,>=0.1.0->dev-laiser==0.2.31) (0.22.1)\n",
            "Collecting prometheus-fastapi-instrumentator>=7.0.0 (from vllm<1.0.0,>=0.1.0->dev-laiser==0.2.31)\n",
            "  Downloading prometheus_fastapi_instrumentator-7.1.0-py3-none-any.whl.metadata (13 kB)\n",
            "Requirement already satisfied: tiktoken>=0.6.0 in /usr/local/lib/python3.11/dist-packages (from vllm<1.0.0,>=0.1.0->dev-laiser==0.2.31) (0.9.0)\n",
            "Collecting lm-format-enforcer<0.11,>=0.10.11 (from vllm<1.0.0,>=0.1.0->dev-laiser==0.2.31)\n",
            "  Downloading lm_format_enforcer-0.10.11-py3-none-any.whl.metadata (17 kB)\n",
            "Collecting llguidance<0.8.0,>=0.7.11 (from vllm<1.0.0,>=0.1.0->dev-laiser==0.2.31)\n",
            "  Downloading llguidance-0.7.29-cp39-abi3-manylinux_2_17_x86_64.manylinux2014_x86_64.whl.metadata (9.9 kB)\n",
            "Collecting outlines==0.1.11 (from vllm<1.0.0,>=0.1.0->dev-laiser==0.2.31)\n",
            "  Downloading outlines-0.1.11-py3-none-any.whl.metadata (17 kB)\n",
            "Collecting lark==1.2.2 (from vllm<1.0.0,>=0.1.0->dev-laiser==0.2.31)\n",
            "  Downloading lark-1.2.2-py3-none-any.whl.metadata (1.8 kB)\n",
            "Collecting xgrammar==0.1.19 (from vllm<1.0.0,>=0.1.0->dev-laiser==0.2.31)\n",
            "  Downloading xgrammar-0.1.19-cp311-cp311-manylinux_2_17_x86_64.manylinux2014_x86_64.whl.metadata (3.6 kB)\n",
            "Collecting partial-json-parser (from vllm<1.0.0,>=0.1.0->dev-laiser==0.2.31)\n",
            "  Downloading partial_json_parser-0.2.1.1.post5-py3-none-any.whl.metadata (6.1 kB)\n",
            "Collecting pyzmq>=25.0.0 (from vllm<1.0.0,>=0.1.0->dev-laiser==0.2.31)\n",
            "  Downloading pyzmq-27.0.0-cp311-cp311-manylinux_2_27_x86_64.manylinux_2_28_x86_64.whl.metadata (6.0 kB)\n",
            "Collecting msgspec (from vllm<1.0.0,>=0.1.0->dev-laiser==0.2.31)\n",
            "  Downloading msgspec-0.19.0-cp311-cp311-manylinux_2_17_x86_64.manylinux2014_x86_64.whl.metadata (6.9 kB)\n",
            "Collecting gguf>=0.13.0 (from vllm<1.0.0,>=0.1.0->dev-laiser==0.2.31)\n",
            "  Downloading gguf-0.17.0-py3-none-any.whl.metadata (4.4 kB)\n",
            "Collecting mistral_common>=1.5.4 (from mistral_common[opencv]>=1.5.4->vllm<1.0.0,>=0.1.0->dev-laiser==0.2.31)\n",
            "  Downloading mistral_common-1.6.2-py3-none-any.whl.metadata (3.2 kB)\n",
            "Requirement already satisfied: opencv-python-headless>=4.11.0 in /usr/local/lib/python3.11/dist-packages (from vllm<1.0.0,>=0.1.0->dev-laiser==0.2.31) (4.11.0.86)\n",
            "Requirement already satisfied: einops in /usr/local/lib/python3.11/dist-packages (from vllm<1.0.0,>=0.1.0->dev-laiser==0.2.31) (0.8.1)\n",
            "Collecting compressed-tensors==0.10.1 (from vllm<1.0.0,>=0.1.0->dev-laiser==0.2.31)\n",
            "  Downloading compressed_tensors-0.10.1-py3-none-any.whl.metadata (7.0 kB)\n",
            "Collecting depyf==0.18.0 (from vllm<1.0.0,>=0.1.0->dev-laiser==0.2.31)\n",
            "  Downloading depyf-0.18.0-py3-none-any.whl.metadata (7.1 kB)\n",
            "Requirement already satisfied: cloudpickle in /usr/local/lib/python3.11/dist-packages (from vllm<1.0.0,>=0.1.0->dev-laiser==0.2.31) (3.1.1)\n",
            "Collecting watchfiles (from vllm<1.0.0,>=0.1.0->dev-laiser==0.2.31)\n",
            "  Downloading watchfiles-1.0.5-cp311-cp311-manylinux_2_17_x86_64.manylinux2014_x86_64.whl.metadata (4.9 kB)\n",
            "Collecting python-json-logger (from vllm<1.0.0,>=0.1.0->dev-laiser==0.2.31)\n",
            "  Downloading python_json_logger-3.3.0-py3-none-any.whl.metadata (4.0 kB)\n",
            "Collecting ninja (from vllm<1.0.0,>=0.1.0->dev-laiser==0.2.31)\n",
            "  Downloading ninja-1.11.1.4-py3-none-manylinux_2_12_x86_64.manylinux2010_x86_64.whl.metadata (5.0 kB)\n",
            "Collecting opentelemetry-sdk>=1.26.0 (from vllm<1.0.0,>=0.1.0->dev-laiser==0.2.31)\n",
            "  Downloading opentelemetry_sdk-1.34.1-py3-none-any.whl.metadata (1.6 kB)\n",
            "Collecting opentelemetry-api>=1.26.0 (from vllm<1.0.0,>=0.1.0->dev-laiser==0.2.31)\n",
            "  Downloading opentelemetry_api-1.34.1-py3-none-any.whl.metadata (1.5 kB)\n",
            "Collecting opentelemetry-exporter-otlp>=1.26.0 (from vllm<1.0.0,>=0.1.0->dev-laiser==0.2.31)\n",
            "  Downloading opentelemetry_exporter_otlp-1.34.1-py3-none-any.whl.metadata (2.4 kB)\n",
            "Collecting opentelemetry-semantic-conventions-ai>=0.4.1 (from vllm<1.0.0,>=0.1.0->dev-laiser==0.2.31)\n",
            "  Downloading opentelemetry_semantic_conventions_ai-0.4.9-py3-none-any.whl.metadata (1.1 kB)\n",
            "Collecting numba==0.61.2 (from vllm<1.0.0,>=0.1.0->dev-laiser==0.2.31)\n",
            "  Downloading numba-0.61.2-cp311-cp311-manylinux2014_x86_64.manylinux_2_17_x86_64.whl.metadata (2.8 kB)\n",
            "Collecting ray!=2.44.*,>=2.43.0 (from ray[cgraph]!=2.44.*,>=2.43.0->vllm<1.0.0,>=0.1.0->dev-laiser==0.2.31)\n",
            "  Downloading ray-2.47.0-cp311-cp311-manylinux2014_x86_64.whl.metadata (20 kB)\n",
            "INFO: pip is looking at multiple versions of vllm to determine which version is compatible with other requirements. This could take a while.\n",
            "Collecting vllm<1.0.0,>=0.1.0 (from dev-laiser==0.2.31)\n",
            "  Downloading vllm-0.9.0.1-cp38-abi3-manylinux1_x86_64.whl.metadata (15 kB)\n",
            "Collecting compressed-tensors==0.9.4 (from vllm<1.0.0,>=0.1.0->dev-laiser==0.2.31)\n",
            "  Downloading compressed_tensors-0.9.4-py3-none-any.whl.metadata (7.0 kB)\n",
            "Collecting vllm<1.0.0,>=0.1.0 (from dev-laiser==0.2.31)\n",
            "  Downloading vllm-0.9.0-cp38-abi3-manylinux1_x86_64.whl.metadata (15 kB)\n",
            "  Downloading vllm-0.8.5.post1-cp38-abi3-manylinux1_x86_64.whl.metadata (14 kB)\n",
            "Collecting xgrammar==0.1.18 (from vllm<1.0.0,>=0.1.0->dev-laiser==0.2.31)\n",
            "  Downloading xgrammar-0.1.18-cp311-cp311-manylinux_2_17_x86_64.manylinux2014_x86_64.whl.metadata (3.6 kB)\n",
            "Requirement already satisfied: importlib_metadata in /usr/local/lib/python3.11/dist-packages (from vllm<1.0.0,>=0.1.0->dev-laiser==0.2.31) (8.7.0)\n",
            "Collecting compressed-tensors==0.9.3 (from vllm<1.0.0,>=0.1.0->dev-laiser==0.2.31)\n",
            "  Downloading compressed_tensors-0.9.3-py3-none-any.whl.metadata (7.0 kB)\n",
            "Collecting opentelemetry-sdk<1.27.0,>=1.26.0 (from vllm<1.0.0,>=0.1.0->dev-laiser==0.2.31)\n",
            "  Downloading opentelemetry_sdk-1.26.0-py3-none-any.whl.metadata (1.5 kB)\n",
            "Collecting opentelemetry-api<1.27.0,>=1.26.0 (from vllm<1.0.0,>=0.1.0->dev-laiser==0.2.31)\n",
            "  Downloading opentelemetry_api-1.26.0-py3-none-any.whl.metadata (1.4 kB)\n",
            "Collecting opentelemetry-exporter-otlp<1.27.0,>=1.26.0 (from vllm<1.0.0,>=0.1.0->dev-laiser==0.2.31)\n",
            "  Downloading opentelemetry_exporter_otlp-1.26.0-py3-none-any.whl.metadata (2.3 kB)\n",
            "Requirement already satisfied: torchaudio==2.6.0 in /usr/local/lib/python3.11/dist-packages (from vllm<1.0.0,>=0.1.0->dev-laiser==0.2.31) (2.6.0+cu124)\n",
            "Requirement already satisfied: torchvision==0.21.0 in /usr/local/lib/python3.11/dist-packages (from vllm<1.0.0,>=0.1.0->dev-laiser==0.2.31) (0.21.0+cu124)\n",
            "Collecting xformers==0.0.29.post2 (from vllm<1.0.0,>=0.1.0->dev-laiser==0.2.31)\n",
            "  Downloading xformers-0.0.29.post2-cp311-cp311-manylinux_2_28_x86_64.whl.metadata (1.0 kB)\n",
            "Collecting astor (from depyf==0.18.0->vllm<1.0.0,>=0.1.0->dev-laiser==0.2.31)\n",
            "  Downloading astor-0.8.1-py2.py3-none-any.whl.metadata (4.2 kB)\n",
            "Requirement already satisfied: dill in /usr/local/lib/python3.11/dist-packages (from depyf==0.18.0->vllm<1.0.0,>=0.1.0->dev-laiser==0.2.31) (0.3.7)\n",
            "Collecting llvmlite<0.45,>=0.44.0dev0 (from numba==0.61.2->vllm<1.0.0,>=0.1.0->dev-laiser==0.2.31)\n",
            "  Downloading llvmlite-0.44.0-cp311-cp311-manylinux_2_17_x86_64.manylinux2014_x86_64.whl.metadata (4.8 kB)\n",
            "Collecting interegular (from outlines==0.1.11->vllm<1.0.0,>=0.1.0->dev-laiser==0.2.31)\n",
            "  Downloading interegular-0.3.3-py37-none-any.whl.metadata (3.0 kB)\n",
            "Requirement already satisfied: nest_asyncio in /usr/local/lib/python3.11/dist-packages (from outlines==0.1.11->vllm<1.0.0,>=0.1.0->dev-laiser==0.2.31) (1.6.0)\n",
            "Collecting diskcache (from outlines==0.1.11->vllm<1.0.0,>=0.1.0->dev-laiser==0.2.31)\n",
            "  Downloading diskcache-5.6.3-py3-none-any.whl.metadata (20 kB)\n",
            "Requirement already satisfied: referencing in /usr/local/lib/python3.11/dist-packages (from outlines==0.1.11->vllm<1.0.0,>=0.1.0->dev-laiser==0.2.31) (0.36.2)\n",
            "Requirement already satisfied: jsonschema in /usr/local/lib/python3.11/dist-packages (from outlines==0.1.11->vllm<1.0.0,>=0.1.0->dev-laiser==0.2.31) (4.24.0)\n",
            "Collecting pycountry (from outlines==0.1.11->vllm<1.0.0,>=0.1.0->dev-laiser==0.2.31)\n",
            "  Downloading pycountry-24.6.1-py3-none-any.whl.metadata (12 kB)\n",
            "Collecting airportsdata (from outlines==0.1.11->vllm<1.0.0,>=0.1.0->dev-laiser==0.2.31)\n",
            "  Downloading airportsdata-20250523-py3-none-any.whl.metadata (9.1 kB)\n",
            "Collecting outlines_core==0.1.26 (from outlines==0.1.11->vllm<1.0.0,>=0.1.0->dev-laiser==0.2.31)\n",
            "  Downloading outlines_core-0.1.26-cp311-cp311-manylinux_2_17_x86_64.manylinux2014_x86_64.whl.metadata (3.8 kB)\n",
            "Requirement already satisfied: starlette<0.47.0,>=0.40.0 in /usr/local/lib/python3.11/dist-packages (from fastapi>=0.115.0->fastapi[standard]>=0.115.0->vllm<1.0.0,>=0.1.0->dev-laiser==0.2.31) (0.46.2)\n",
            "Collecting fastapi-cli>=0.0.5 (from fastapi-cli[standard]>=0.0.5; extra == \"standard\"->fastapi[standard]>=0.115.0->vllm<1.0.0,>=0.1.0->dev-laiser==0.2.31)\n",
            "  Downloading fastapi_cli-0.0.7-py3-none-any.whl.metadata (6.2 kB)\n",
            "Requirement already satisfied: httpx>=0.23.0 in /usr/local/lib/python3.11/dist-packages (from fastapi[standard]>=0.115.0->vllm<1.0.0,>=0.1.0->dev-laiser==0.2.31) (0.28.1)\n",
            "Requirement already satisfied: python-multipart>=0.0.18 in /usr/local/lib/python3.11/dist-packages (from fastapi[standard]>=0.115.0->vllm<1.0.0,>=0.1.0->dev-laiser==0.2.31) (0.0.20)\n",
            "Collecting email-validator>=2.0.0 (from fastapi[standard]>=0.115.0->vllm<1.0.0,>=0.1.0->dev-laiser==0.2.31)\n",
            "  Downloading email_validator-2.2.0-py3-none-any.whl.metadata (25 kB)\n",
            "Requirement already satisfied: uvicorn>=0.12.0 in /usr/local/lib/python3.11/dist-packages (from uvicorn[standard]>=0.12.0; extra == \"standard\"->fastapi[standard]>=0.115.0->vllm<1.0.0,>=0.1.0->dev-laiser==0.2.31) (0.34.3)\n",
            "Requirement already satisfied: hf-xet<2.0.0,>=1.1.2 in /usr/local/lib/python3.11/dist-packages (from huggingface-hub>=0.20.0->sentence-transformers==4.1.0->dev-laiser==0.2.31) (1.1.2)\n",
            "Requirement already satisfied: parso<0.9.0,>=0.8.4 in /usr/local/lib/python3.11/dist-packages (from jedi>=0.16->ipython<8.0.0,>=7.0.0->dev-laiser==0.2.31) (0.8.4)\n",
            "Requirement already satisfied: MarkupSafe>=2.0 in /usr/local/lib/python3.11/dist-packages (from jinja2->torch==2.6.0->dev-laiser==0.2.31) (3.0.2)\n",
            "Requirement already satisfied: language-data>=1.2 in /usr/local/lib/python3.11/dist-packages (from langcodes<4.0.0,>=3.2.0->spacy<4.0.0,>=3.0.0->dev-laiser==0.2.31) (1.3.0)\n",
            "Requirement already satisfied: anyio<5,>=3.5.0 in /usr/local/lib/python3.11/dist-packages (from openai>=1.52.0->vllm<1.0.0,>=0.1.0->dev-laiser==0.2.31) (4.9.0)\n",
            "Requirement already satisfied: distro<2,>=1.7.0 in /usr/local/lib/python3.11/dist-packages (from openai>=1.52.0->vllm<1.0.0,>=0.1.0->dev-laiser==0.2.31) (1.9.0)\n",
            "Requirement already satisfied: jiter<1,>=0.4.0 in /usr/local/lib/python3.11/dist-packages (from openai>=1.52.0->vllm<1.0.0,>=0.1.0->dev-laiser==0.2.31) (0.10.0)\n",
            "Requirement already satisfied: sniffio in /usr/local/lib/python3.11/dist-packages (from openai>=1.52.0->vllm<1.0.0,>=0.1.0->dev-laiser==0.2.31) (1.3.1)\n",
            "Collecting deprecated>=1.2.6 (from opentelemetry-api<1.27.0,>=1.26.0->vllm<1.0.0,>=0.1.0->dev-laiser==0.2.31)\n",
            "  Downloading Deprecated-1.2.18-py2.py3-none-any.whl.metadata (5.7 kB)\n",
            "Collecting importlib_metadata (from vllm<1.0.0,>=0.1.0->dev-laiser==0.2.31)\n",
            "  Downloading importlib_metadata-8.0.0-py3-none-any.whl.metadata (4.6 kB)\n",
            "Requirement already satisfied: zipp>=0.5 in /usr/local/lib/python3.11/dist-packages (from importlib_metadata->vllm<1.0.0,>=0.1.0->dev-laiser==0.2.31) (3.22.0)\n",
            "Collecting opentelemetry-exporter-otlp-proto-grpc==1.26.0 (from opentelemetry-exporter-otlp<1.27.0,>=1.26.0->vllm<1.0.0,>=0.1.0->dev-laiser==0.2.31)\n",
            "  Downloading opentelemetry_exporter_otlp_proto_grpc-1.26.0-py3-none-any.whl.metadata (2.3 kB)\n",
            "Collecting opentelemetry-exporter-otlp-proto-http==1.26.0 (from opentelemetry-exporter-otlp<1.27.0,>=1.26.0->vllm<1.0.0,>=0.1.0->dev-laiser==0.2.31)\n",
            "  Downloading opentelemetry_exporter_otlp_proto_http-1.26.0-py3-none-any.whl.metadata (2.3 kB)\n",
            "Requirement already satisfied: googleapis-common-protos~=1.52 in /usr/local/lib/python3.11/dist-packages (from opentelemetry-exporter-otlp-proto-grpc==1.26.0->opentelemetry-exporter-otlp<1.27.0,>=1.26.0->vllm<1.0.0,>=0.1.0->dev-laiser==0.2.31) (1.70.0)\n",
            "Requirement already satisfied: grpcio<2.0.0,>=1.0.0 in /usr/local/lib/python3.11/dist-packages (from opentelemetry-exporter-otlp-proto-grpc==1.26.0->opentelemetry-exporter-otlp<1.27.0,>=1.26.0->vllm<1.0.0,>=0.1.0->dev-laiser==0.2.31) (1.72.1)\n",
            "Collecting opentelemetry-exporter-otlp-proto-common==1.26.0 (from opentelemetry-exporter-otlp-proto-grpc==1.26.0->opentelemetry-exporter-otlp<1.27.0,>=1.26.0->vllm<1.0.0,>=0.1.0->dev-laiser==0.2.31)\n",
            "  Downloading opentelemetry_exporter_otlp_proto_common-1.26.0-py3-none-any.whl.metadata (1.8 kB)\n",
            "Collecting opentelemetry-proto==1.26.0 (from opentelemetry-exporter-otlp-proto-grpc==1.26.0->opentelemetry-exporter-otlp<1.27.0,>=1.26.0->vllm<1.0.0,>=0.1.0->dev-laiser==0.2.31)\n",
            "  Downloading opentelemetry_proto-1.26.0-py3-none-any.whl.metadata (2.3 kB)\n",
            "Collecting protobuf (from vllm<1.0.0,>=0.1.0->dev-laiser==0.2.31)\n",
            "  Downloading protobuf-4.25.8-cp37-abi3-manylinux2014_x86_64.whl.metadata (541 bytes)\n",
            "Collecting opentelemetry-semantic-conventions==0.47b0 (from opentelemetry-sdk<1.27.0,>=1.26.0->vllm<1.0.0,>=0.1.0->dev-laiser==0.2.31)\n",
            "  Downloading opentelemetry_semantic_conventions-0.47b0-py3-none-any.whl.metadata (2.4 kB)\n",
            "Requirement already satisfied: ptyprocess>=0.5 in /usr/local/lib/python3.11/dist-packages (from pexpect>4.3->ipython<8.0.0,>=7.0.0->dev-laiser==0.2.31) (0.7.0)\n",
            "Requirement already satisfied: wcwidth in /usr/local/lib/python3.11/dist-packages (from prompt-toolkit!=3.0.0,!=3.0.1,<3.1.0,>=2.0.0->ipython<8.0.0,>=7.0.0->dev-laiser==0.2.31) (0.2.13)\n",
            "Requirement already satisfied: annotated-types>=0.6.0 in /usr/local/lib/python3.11/dist-packages (from pydantic!=1.8,!=1.8.1,<3.0.0,>=1.7.4->spacy<4.0.0,>=3.0.0->dev-laiser==0.2.31) (0.7.0)\n",
            "Requirement already satisfied: pydantic-core==2.33.2 in /usr/local/lib/python3.11/dist-packages (from pydantic!=1.8,!=1.8.1,<3.0.0,>=1.7.4->spacy<4.0.0,>=3.0.0->dev-laiser==0.2.31) (2.33.2)\n",
            "Requirement already satisfied: typing-inspection>=0.4.0 in /usr/local/lib/python3.11/dist-packages (from pydantic!=1.8,!=1.8.1,<3.0.0,>=1.7.4->spacy<4.0.0,>=3.0.0->dev-laiser==0.2.31) (0.4.1)\n",
            "Requirement already satisfied: six>=1.5 in /usr/local/lib/python3.11/dist-packages (from python-dateutil>=2.8.2->pandas==2.2.2->dev-laiser==0.2.31) (1.17.0)\n",
            "Requirement already satisfied: click>=7.0 in /usr/local/lib/python3.11/dist-packages (from ray!=2.44.*,>=2.43.0->ray[cgraph]!=2.44.*,>=2.43.0->vllm<1.0.0,>=0.1.0->dev-laiser==0.2.31) (8.2.1)\n",
            "Requirement already satisfied: msgpack<2.0.0,>=1.0.0 in /usr/local/lib/python3.11/dist-packages (from ray!=2.44.*,>=2.43.0->ray[cgraph]!=2.44.*,>=2.43.0->vllm<1.0.0,>=0.1.0->dev-laiser==0.2.31) (1.1.0)\n",
            "Requirement already satisfied: cupy-cuda12x in /usr/local/lib/python3.11/dist-packages (from ray[cgraph]!=2.44.*,>=2.43.0->vllm<1.0.0,>=0.1.0->dev-laiser==0.2.31) (13.3.0)\n",
            "Requirement already satisfied: charset-normalizer<4,>=2 in /usr/local/lib/python3.11/dist-packages (from requests<3.0.0,>=2.13.0->spacy<4.0.0,>=3.0.0->dev-laiser==0.2.31) (3.4.2)\n",
            "Requirement already satisfied: idna<4,>=2.5 in /usr/local/lib/python3.11/dist-packages (from requests<3.0.0,>=2.13.0->spacy<4.0.0,>=3.0.0->dev-laiser==0.2.31) (3.10)\n",
            "Requirement already satisfied: urllib3<3,>=1.21.1 in /usr/local/lib/python3.11/dist-packages (from requests<3.0.0,>=2.13.0->spacy<4.0.0,>=3.0.0->dev-laiser==0.2.31) (2.4.0)\n",
            "Requirement already satisfied: certifi>=2017.4.17 in /usr/local/lib/python3.11/dist-packages (from requests<3.0.0,>=2.13.0->spacy<4.0.0,>=3.0.0->dev-laiser==0.2.31) (2025.4.26)\n",
            "Requirement already satisfied: blis<1.4.0,>=1.3.0 in /usr/local/lib/python3.11/dist-packages (from thinc<8.4.0,>=8.3.4->spacy<4.0.0,>=3.0.0->dev-laiser==0.2.31) (1.3.0)\n",
            "Requirement already satisfied: confection<1.0.0,>=0.0.1 in /usr/local/lib/python3.11/dist-packages (from thinc<8.4.0,>=8.3.4->spacy<4.0.0,>=3.0.0->dev-laiser==0.2.31) (0.1.5)\n",
            "INFO: pip is looking at multiple versions of thinc to determine which version is compatible with other requirements. This could take a while.\n",
            "Collecting thinc<8.4.0,>=8.3.4 (from spacy<4.0.0,>=3.0.0->dev-laiser==0.2.31)\n",
            "  Downloading thinc-8.3.4-cp311-cp311-manylinux_2_17_x86_64.manylinux2014_x86_64.whl.metadata (15 kB)\n",
            "Collecting blis<1.3.0,>=1.2.0 (from thinc<8.4.0,>=8.3.4->spacy<4.0.0,>=3.0.0->dev-laiser==0.2.31)\n",
            "  Downloading blis-1.2.1-cp311-cp311-manylinux_2_17_x86_64.manylinux2014_x86_64.whl.metadata (7.4 kB)\n",
            "Requirement already satisfied: shellingham>=1.3.0 in /usr/local/lib/python3.11/dist-packages (from typer<1.0.0,>=0.3.0->spacy<4.0.0,>=3.0.0->dev-laiser==0.2.31) (1.5.4)\n",
            "Requirement already satisfied: rich>=10.11.0 in /usr/local/lib/python3.11/dist-packages (from typer<1.0.0,>=0.3.0->spacy<4.0.0,>=3.0.0->dev-laiser==0.2.31) (13.9.4)\n",
            "Requirement already satisfied: cloudpathlib<1.0.0,>=0.7.0 in /usr/local/lib/python3.11/dist-packages (from weasel<0.5.0,>=0.1.0->spacy<4.0.0,>=3.0.0->dev-laiser==0.2.31) (0.21.1)\n",
            "Requirement already satisfied: smart-open<8.0.0,>=5.2.1 in /usr/local/lib/python3.11/dist-packages (from weasel<0.5.0,>=0.1.0->spacy<4.0.0,>=3.0.0->dev-laiser==0.2.31) (7.1.0)\n",
            "Requirement already satisfied: aiohappyeyeballs>=2.3.0 in /usr/local/lib/python3.11/dist-packages (from aiohttp->vllm<1.0.0,>=0.1.0->dev-laiser==0.2.31) (2.6.1)\n",
            "Requirement already satisfied: aiosignal>=1.1.2 in /usr/local/lib/python3.11/dist-packages (from aiohttp->vllm<1.0.0,>=0.1.0->dev-laiser==0.2.31) (1.3.2)\n",
            "Requirement already satisfied: attrs>=17.3.0 in /usr/local/lib/python3.11/dist-packages (from aiohttp->vllm<1.0.0,>=0.1.0->dev-laiser==0.2.31) (25.3.0)\n",
            "Requirement already satisfied: frozenlist>=1.1.1 in /usr/local/lib/python3.11/dist-packages (from aiohttp->vllm<1.0.0,>=0.1.0->dev-laiser==0.2.31) (1.6.0)\n",
            "Requirement already satisfied: multidict<7.0,>=4.5 in /usr/local/lib/python3.11/dist-packages (from aiohttp->vllm<1.0.0,>=0.1.0->dev-laiser==0.2.31) (6.4.4)\n",
            "Requirement already satisfied: propcache>=0.2.0 in /usr/local/lib/python3.11/dist-packages (from aiohttp->vllm<1.0.0,>=0.1.0->dev-laiser==0.2.31) (0.3.1)\n",
            "Requirement already satisfied: yarl<2.0,>=1.17.0 in /usr/local/lib/python3.11/dist-packages (from aiohttp->vllm<1.0.0,>=0.1.0->dev-laiser==0.2.31) (1.20.0)\n",
            "Requirement already satisfied: wrapt<2,>=1.10 in /usr/local/lib/python3.11/dist-packages (from deprecated>=1.2.6->opentelemetry-api<1.27.0,>=1.26.0->vllm<1.0.0,>=0.1.0->dev-laiser==0.2.31) (1.17.2)\n",
            "Collecting dnspython>=2.0.0 (from email-validator>=2.0.0->fastapi[standard]>=0.115.0->vllm<1.0.0,>=0.1.0->dev-laiser==0.2.31)\n",
            "  Downloading dnspython-2.7.0-py3-none-any.whl.metadata (5.8 kB)\n",
            "Collecting rich-toolkit>=0.11.1 (from fastapi-cli>=0.0.5->fastapi-cli[standard]>=0.0.5; extra == \"standard\"->fastapi[standard]>=0.115.0->vllm<1.0.0,>=0.1.0->dev-laiser==0.2.31)\n",
            "  Downloading rich_toolkit-0.14.7-py3-none-any.whl.metadata (999 bytes)\n",
            "Requirement already satisfied: httpcore==1.* in /usr/local/lib/python3.11/dist-packages (from httpx>=0.23.0->fastapi[standard]>=0.115.0->vllm<1.0.0,>=0.1.0->dev-laiser==0.2.31) (1.0.9)\n",
            "Requirement already satisfied: h11>=0.16 in /usr/local/lib/python3.11/dist-packages (from httpcore==1.*->httpx>=0.23.0->fastapi[standard]>=0.115.0->vllm<1.0.0,>=0.1.0->dev-laiser==0.2.31) (0.16.0)\n",
            "Requirement already satisfied: jsonschema-specifications>=2023.03.6 in /usr/local/lib/python3.11/dist-packages (from jsonschema->outlines==0.1.11->vllm<1.0.0,>=0.1.0->dev-laiser==0.2.31) (2025.4.1)\n",
            "Requirement already satisfied: rpds-py>=0.7.1 in /usr/local/lib/python3.11/dist-packages (from jsonschema->outlines==0.1.11->vllm<1.0.0,>=0.1.0->dev-laiser==0.2.31) (0.25.1)\n",
            "Requirement already satisfied: marisa-trie>=1.1.0 in /usr/local/lib/python3.11/dist-packages (from language-data>=1.2->langcodes<4.0.0,>=3.2.0->spacy<4.0.0,>=3.0.0->dev-laiser==0.2.31) (1.2.1)\n",
            "Requirement already satisfied: markdown-it-py>=2.2.0 in /usr/local/lib/python3.11/dist-packages (from rich>=10.11.0->typer<1.0.0,>=0.3.0->spacy<4.0.0,>=3.0.0->dev-laiser==0.2.31) (3.0.0)\n",
            "Collecting httptools>=0.6.3 (from uvicorn[standard]>=0.12.0; extra == \"standard\"->fastapi[standard]>=0.115.0->vllm<1.0.0,>=0.1.0->dev-laiser==0.2.31)\n",
            "  Downloading httptools-0.6.4-cp311-cp311-manylinux_2_5_x86_64.manylinux1_x86_64.manylinux_2_17_x86_64.manylinux2014_x86_64.whl.metadata (3.6 kB)\n",
            "Collecting uvloop>=0.15.1 (from uvicorn[standard]>=0.12.0; extra == \"standard\"->fastapi[standard]>=0.115.0->vllm<1.0.0,>=0.1.0->dev-laiser==0.2.31)\n",
            "  Downloading uvloop-0.21.0-cp311-cp311-manylinux_2_17_x86_64.manylinux2014_x86_64.whl.metadata (4.9 kB)\n",
            "Requirement already satisfied: websockets>=10.4 in /usr/local/lib/python3.11/dist-packages (from uvicorn[standard]>=0.12.0; extra == \"standard\"->fastapi[standard]>=0.115.0->vllm<1.0.0,>=0.1.0->dev-laiser==0.2.31) (15.0.1)\n",
            "Requirement already satisfied: fastrlock>=0.5 in /usr/local/lib/python3.11/dist-packages (from cupy-cuda12x->ray[cgraph]!=2.44.*,>=2.43.0->vllm<1.0.0,>=0.1.0->dev-laiser==0.2.31) (0.8.3)\n",
            "Requirement already satisfied: mdurl~=0.1 in /usr/local/lib/python3.11/dist-packages (from markdown-it-py>=2.2.0->rich>=10.11.0->typer<1.0.0,>=0.3.0->spacy<4.0.0,>=3.0.0->dev-laiser==0.2.31) (0.1.2)\n",
            "Downloading dev_laiser-0.2.31-py3-none-any.whl (23 kB)\n",
            "Downloading faiss_cpu-1.11.0-cp311-cp311-manylinux_2_28_x86_64.whl (31.3 MB)\n",
            "\u001b[2K   \u001b[90m━━━━━━━━━━━━━━━━━━━━━━━━━━━━━━━━━━━━━━━━\u001b[0m \u001b[32m31.3/31.3 MB\u001b[0m \u001b[31m69.3 MB/s\u001b[0m eta \u001b[36m0:00:00\u001b[0m\n",
            "\u001b[?25hDownloading nvidia_cublas_cu12-12.4.5.8-py3-none-manylinux2014_x86_64.whl (363.4 MB)\n",
            "\u001b[2K   \u001b[90m━━━━━━━━━━━━━━━━━━━━━━━━━━━━━━━━━━━━━━━━\u001b[0m \u001b[32m363.4/363.4 MB\u001b[0m \u001b[31m3.9 MB/s\u001b[0m eta \u001b[36m0:00:00\u001b[0m\n",
            "\u001b[?25hDownloading nvidia_cuda_cupti_cu12-12.4.127-py3-none-manylinux2014_x86_64.whl (13.8 MB)\n",
            "\u001b[2K   \u001b[90m━━━━━━━━━━━━━━━━━━━━━━━━━━━━━━━━━━━━━━━━\u001b[0m \u001b[32m13.8/13.8 MB\u001b[0m \u001b[31m122.5 MB/s\u001b[0m eta \u001b[36m0:00:00\u001b[0m\n",
            "\u001b[?25hDownloading nvidia_cuda_nvrtc_cu12-12.4.127-py3-none-manylinux2014_x86_64.whl (24.6 MB)\n",
            "\u001b[2K   \u001b[90m━━━━━━━━━━━━━━━━━━━━━━━━━━━━━━━━━━━━━━━━\u001b[0m \u001b[32m24.6/24.6 MB\u001b[0m \u001b[31m92.0 MB/s\u001b[0m eta \u001b[36m0:00:00\u001b[0m\n",
            "\u001b[?25hDownloading nvidia_cuda_runtime_cu12-12.4.127-py3-none-manylinux2014_x86_64.whl (883 kB)\n",
            "\u001b[2K   \u001b[90m━━━━━━━━━━━━━━━━━━━━━━━━━━━━━━━━━━━━━━━━\u001b[0m \u001b[32m883.7/883.7 kB\u001b[0m \u001b[31m63.5 MB/s\u001b[0m eta \u001b[36m0:00:00\u001b[0m\n",
            "\u001b[?25hDownloading nvidia_cudnn_cu12-9.1.0.70-py3-none-manylinux2014_x86_64.whl (664.8 MB)\n",
            "\u001b[2K   \u001b[90m━━━━━━━━━━━━━━━━━━━━━━━━━━━━━━━━━━━━━━━━\u001b[0m \u001b[32m664.8/664.8 MB\u001b[0m \u001b[31m2.7 MB/s\u001b[0m eta \u001b[36m0:00:00\u001b[0m\n",
            "\u001b[?25hDownloading nvidia_cufft_cu12-11.2.1.3-py3-none-manylinux2014_x86_64.whl (211.5 MB)\n",
            "\u001b[2K   \u001b[90m━━━━━━━━━━━━━━━━━━━━━━━━━━━━━━━━━━━━━━━━\u001b[0m \u001b[32m211.5/211.5 MB\u001b[0m \u001b[31m5.3 MB/s\u001b[0m eta \u001b[36m0:00:00\u001b[0m\n",
            "\u001b[?25hDownloading nvidia_curand_cu12-10.3.5.147-py3-none-manylinux2014_x86_64.whl (56.3 MB)\n",
            "\u001b[2K   \u001b[90m━━━━━━━━━━━━━━━━━━━━━━━━━━━━━━━━━━━━━━━━\u001b[0m \u001b[32m56.3/56.3 MB\u001b[0m \u001b[31m15.2 MB/s\u001b[0m eta \u001b[36m0:00:00\u001b[0m\n",
            "\u001b[?25hDownloading nvidia_cusolver_cu12-11.6.1.9-py3-none-manylinux2014_x86_64.whl (127.9 MB)\n",
            "\u001b[2K   \u001b[90m━━━━━━━━━━━━━━━━━━━━━━━━━━━━━━━━━━━━━━━━\u001b[0m \u001b[32m127.9/127.9 MB\u001b[0m \u001b[31m7.5 MB/s\u001b[0m eta \u001b[36m0:00:00\u001b[0m\n",
            "\u001b[?25hDownloading nvidia_cusparse_cu12-12.3.1.170-py3-none-manylinux2014_x86_64.whl (207.5 MB)\n",
            "\u001b[2K   \u001b[90m━━━━━━━━━━━━━━━━━━━━━━━━━━━━━━━━━━━━━━━━\u001b[0m \u001b[32m207.5/207.5 MB\u001b[0m \u001b[31m5.3 MB/s\u001b[0m eta \u001b[36m0:00:00\u001b[0m\n",
            "\u001b[?25hDownloading nvidia_nvjitlink_cu12-12.4.127-py3-none-manylinux2014_x86_64.whl (21.1 MB)\n",
            "\u001b[2K   \u001b[90m━━━━━━━━━━━━━━━━━━━━━━━━━━━━━━━━━━━━━━━━\u001b[0m \u001b[32m21.1/21.1 MB\u001b[0m \u001b[31m42.7 MB/s\u001b[0m eta \u001b[36m0:00:00\u001b[0m\n",
            "\u001b[?25hDownloading numpy-1.26.4-cp311-cp311-manylinux_2_17_x86_64.manylinux2014_x86_64.whl (18.3 MB)\n",
            "\u001b[2K   \u001b[90m━━━━━━━━━━━━━━━━━━━━━━━━━━━━━━━━━━━━━━━━\u001b[0m \u001b[32m18.3/18.3 MB\u001b[0m \u001b[31m115.6 MB/s\u001b[0m eta \u001b[36m0:00:00\u001b[0m\n",
            "\u001b[?25hDownloading python_dotenv-0.21.1-py3-none-any.whl (19 kB)\n",
            "Downloading vllm-0.8.5.post1-cp38-abi3-manylinux1_x86_64.whl (326.4 MB)\n",
            "\u001b[2K   \u001b[90m━━━━━━━━━━━━━━━━━━━━━━━━━━━━━━━━━━━━━━━━\u001b[0m \u001b[32m326.4/326.4 MB\u001b[0m \u001b[31m1.1 MB/s\u001b[0m eta \u001b[36m0:00:00\u001b[0m\n",
            "\u001b[?25hDownloading compressed_tensors-0.9.3-py3-none-any.whl (98 kB)\n",
            "\u001b[2K   \u001b[90m━━━━━━━━━━━━━━━━━━━━━━━━━━━━━━━━━━━━━━━━\u001b[0m \u001b[32m98.4/98.4 kB\u001b[0m \u001b[31m10.5 MB/s\u001b[0m eta \u001b[36m0:00:00\u001b[0m\n",
            "\u001b[?25hDownloading depyf-0.18.0-py3-none-any.whl (38 kB)\n",
            "Downloading lark-1.2.2-py3-none-any.whl (111 kB)\n",
            "\u001b[2K   \u001b[90m━━━━━━━━━━━━━━━━━━━━━━━━━━━━━━━━━━━━━━━━\u001b[0m \u001b[32m111.0/111.0 kB\u001b[0m \u001b[31m11.8 MB/s\u001b[0m eta \u001b[36m0:00:00\u001b[0m\n",
            "\u001b[?25hDownloading numba-0.61.2-cp311-cp311-manylinux2014_x86_64.manylinux_2_17_x86_64.whl (3.8 MB)\n",
            "\u001b[2K   \u001b[90m━━━━━━━━━━━━━━━━━━━━━━━━━━━━━━━━━━━━━━━━\u001b[0m \u001b[32m3.8/3.8 MB\u001b[0m \u001b[31m106.6 MB/s\u001b[0m eta \u001b[36m0:00:00\u001b[0m\n",
            "\u001b[?25hDownloading outlines-0.1.11-py3-none-any.whl (87 kB)\n",
            "\u001b[2K   \u001b[90m━━━━━━━━━━━━━━━━━━━━━━━━━━━━━━━━━━━━━━━━\u001b[0m \u001b[32m87.6/87.6 kB\u001b[0m \u001b[31m9.5 MB/s\u001b[0m eta \u001b[36m0:00:00\u001b[0m\n",
            "\u001b[?25hDownloading xformers-0.0.29.post2-cp311-cp311-manylinux_2_28_x86_64.whl (44.3 MB)\n",
            "\u001b[2K   \u001b[90m━━━━━━━━━━━━━━━━━━━━━━━━━━━━━━━━━━━━━━━━\u001b[0m \u001b[32m44.3/44.3 MB\u001b[0m \u001b[31m16.2 MB/s\u001b[0m eta \u001b[36m0:00:00\u001b[0m\n",
            "\u001b[?25hDownloading xgrammar-0.1.18-cp311-cp311-manylinux_2_17_x86_64.manylinux2014_x86_64.whl (4.8 MB)\n",
            "\u001b[2K   \u001b[90m━━━━━━━━━━━━━━━━━━━━━━━━━━━━━━━━━━━━━━━━\u001b[0m \u001b[32m4.8/4.8 MB\u001b[0m \u001b[31m81.0 MB/s\u001b[0m eta \u001b[36m0:00:00\u001b[0m\n",
            "\u001b[?25hDownloading outlines_core-0.1.26-cp311-cp311-manylinux_2_17_x86_64.manylinux2014_x86_64.whl (343 kB)\n",
            "\u001b[2K   \u001b[90m━━━━━━━━━━━━━━━━━━━━━━━━━━━━━━━━━━━━━━━━\u001b[0m \u001b[32m343.3/343.3 kB\u001b[0m \u001b[31m27.5 MB/s\u001b[0m eta \u001b[36m0:00:00\u001b[0m\n",
            "\u001b[?25hDownloading gguf-0.17.0-py3-none-any.whl (95 kB)\n",
            "\u001b[2K   \u001b[90m━━━━━━━━━━━━━━━━━━━━━━━━━━━━━━━━━━━━━━━━\u001b[0m \u001b[32m95.8/95.8 kB\u001b[0m \u001b[31m9.3 MB/s\u001b[0m eta \u001b[36m0:00:00\u001b[0m\n",
            "\u001b[?25hDownloading jedi-0.19.2-py2.py3-none-any.whl (1.6 MB)\n",
            "\u001b[2K   \u001b[90m━━━━━━━━━━━━━━━━━━━━━━━━━━━━━━━━━━━━━━━━\u001b[0m \u001b[32m1.6/1.6 MB\u001b[0m \u001b[31m66.4 MB/s\u001b[0m eta \u001b[36m0:00:00\u001b[0m\n",
            "\u001b[?25hDownloading llguidance-0.7.29-cp39-abi3-manylinux_2_17_x86_64.manylinux2014_x86_64.whl (15.0 MB)\n",
            "\u001b[2K   \u001b[90m━━━━━━━━━━━━━━━━━━━━━━━━━━━━━━━━━━━━━━━━\u001b[0m \u001b[32m15.0/15.0 MB\u001b[0m \u001b[31m96.6 MB/s\u001b[0m eta \u001b[36m0:00:00\u001b[0m\n",
            "\u001b[?25hDownloading lm_format_enforcer-0.10.11-py3-none-any.whl (44 kB)\n",
            "\u001b[2K   \u001b[90m━━━━━━━━━━━━━━━━━━━━━━━━━━━━━━━━━━━━━━━━\u001b[0m \u001b[32m44.2/44.2 kB\u001b[0m \u001b[31m4.2 MB/s\u001b[0m eta \u001b[36m0:00:00\u001b[0m\n",
            "\u001b[?25hDownloading mistral_common-1.6.2-py3-none-any.whl (6.5 MB)\n",
            "\u001b[2K   \u001b[90m━━━━━━━━━━━━━━━━━━━━━━━━━━━━━━━━━━━━━━━━\u001b[0m \u001b[32m6.5/6.5 MB\u001b[0m \u001b[31m91.6 MB/s\u001b[0m eta \u001b[36m0:00:00\u001b[0m\n",
            "\u001b[?25hDownloading opentelemetry_api-1.26.0-py3-none-any.whl (61 kB)\n",
            "\u001b[2K   \u001b[90m━━━━━━━━━━━━━━━━━━━━━━━━━━━━━━━━━━━━━━━━\u001b[0m \u001b[32m61.5/61.5 kB\u001b[0m \u001b[31m5.7 MB/s\u001b[0m eta \u001b[36m0:00:00\u001b[0m\n",
            "\u001b[?25hDownloading importlib_metadata-8.0.0-py3-none-any.whl (24 kB)\n",
            "Downloading opentelemetry_exporter_otlp-1.26.0-py3-none-any.whl (7.0 kB)\n",
            "Downloading opentelemetry_exporter_otlp_proto_grpc-1.26.0-py3-none-any.whl (18 kB)\n",
            "Downloading opentelemetry_exporter_otlp_proto_http-1.26.0-py3-none-any.whl (16 kB)\n",
            "Downloading opentelemetry_exporter_otlp_proto_common-1.26.0-py3-none-any.whl (17 kB)\n",
            "Downloading opentelemetry_proto-1.26.0-py3-none-any.whl (52 kB)\n",
            "\u001b[2K   \u001b[90m━━━━━━━━━━━━━━━━━━━━━━━━━━━━━━━━━━━━━━━━\u001b[0m \u001b[32m52.5/52.5 kB\u001b[0m \u001b[31m5.4 MB/s\u001b[0m eta \u001b[36m0:00:00\u001b[0m\n",
            "\u001b[?25hDownloading opentelemetry_sdk-1.26.0-py3-none-any.whl (109 kB)\n",
            "\u001b[2K   \u001b[90m━━━━━━━━━━━━━━━━━━━━━━━━━━━━━━━━━━━━━━━━\u001b[0m \u001b[32m109.5/109.5 kB\u001b[0m \u001b[31m11.4 MB/s\u001b[0m eta \u001b[36m0:00:00\u001b[0m\n",
            "\u001b[?25hDownloading opentelemetry_semantic_conventions-0.47b0-py3-none-any.whl (138 kB)\n",
            "\u001b[2K   \u001b[90m━━━━━━━━━━━━━━━━━━━━━━━━━━━━━━━━━━━━━━━━\u001b[0m \u001b[32m138.0/138.0 kB\u001b[0m \u001b[31m14.1 MB/s\u001b[0m eta \u001b[36m0:00:00\u001b[0m\n",
            "\u001b[?25hDownloading opentelemetry_semantic_conventions_ai-0.4.9-py3-none-any.whl (5.6 kB)\n",
            "Downloading prometheus_fastapi_instrumentator-7.1.0-py3-none-any.whl (19 kB)\n",
            "Downloading protobuf-4.25.8-cp37-abi3-manylinux2014_x86_64.whl (294 kB)\n",
            "\u001b[2K   \u001b[90m━━━━━━━━━━━━━━━━━━━━━━━━━━━━━━━━━━━━━━━━\u001b[0m \u001b[32m294.9/294.9 kB\u001b[0m \u001b[31m21.7 MB/s\u001b[0m eta \u001b[36m0:00:00\u001b[0m\n",
            "\u001b[?25hDownloading pyzmq-27.0.0-cp311-cp311-manylinux_2_27_x86_64.manylinux_2_28_x86_64.whl (856 kB)\n",
            "\u001b[2K   \u001b[90m━━━━━━━━━━━━━━━━━━━━━━━━━━━━━━━━━━━━━━━━\u001b[0m \u001b[32m856.6/856.6 kB\u001b[0m \u001b[31m53.1 MB/s\u001b[0m eta \u001b[36m0:00:00\u001b[0m\n",
            "\u001b[?25hDownloading ray-2.47.0-cp311-cp311-manylinux2014_x86_64.whl (68.9 MB)\n",
            "\u001b[2K   \u001b[90m━━━━━━━━━━━━━━━━━━━━━━━━━━━━━━━━━━━━━━━━\u001b[0m \u001b[32m68.9/68.9 MB\u001b[0m \u001b[31m10.9 MB/s\u001b[0m eta \u001b[36m0:00:00\u001b[0m\n",
            "\u001b[?25hDownloading thinc-8.3.4-cp311-cp311-manylinux_2_17_x86_64.manylinux2014_x86_64.whl (3.9 MB)\n",
            "\u001b[2K   \u001b[90m━━━━━━━━━━━━━━━━━━━━━━━━━━━━━━━━━━━━━━━━\u001b[0m \u001b[32m3.9/3.9 MB\u001b[0m \u001b[31m118.6 MB/s\u001b[0m eta \u001b[36m0:00:00\u001b[0m\n",
            "\u001b[?25hDownloading blake3-1.0.5-cp311-cp311-manylinux_2_17_x86_64.manylinux2014_x86_64.whl (385 kB)\n",
            "\u001b[2K   \u001b[90m━━━━━━━━━━━━━━━━━━━━━━━━━━━━━━━━━━━━━━━━\u001b[0m \u001b[32m385.5/385.5 kB\u001b[0m \u001b[31m35.3 MB/s\u001b[0m eta \u001b[36m0:00:00\u001b[0m\n",
            "\u001b[?25hDownloading jellyfish-1.2.0-cp311-cp311-manylinux_2_17_x86_64.manylinux2014_x86_64.whl (356 kB)\n",
            "\u001b[2K   \u001b[90m━━━━━━━━━━━━━━━━━━━━━━━━━━━━━━━━━━━━━━━━\u001b[0m \u001b[32m356.9/356.9 kB\u001b[0m \u001b[31m35.7 MB/s\u001b[0m eta \u001b[36m0:00:00\u001b[0m\n",
            "\u001b[?25hDownloading msgspec-0.19.0-cp311-cp311-manylinux_2_17_x86_64.manylinux2014_x86_64.whl (210 kB)\n",
            "\u001b[2K   \u001b[90m━━━━━━━━━━━━━━━━━━━━━━━━━━━━━━━━━━━━━━━━\u001b[0m \u001b[32m210.7/210.7 kB\u001b[0m \u001b[31m20.9 MB/s\u001b[0m eta \u001b[36m0:00:00\u001b[0m\n",
            "\u001b[?25hDownloading ninja-1.11.1.4-py3-none-manylinux_2_12_x86_64.manylinux2010_x86_64.whl (422 kB)\n",
            "\u001b[2K   \u001b[90m━━━━━━━━━━━━━━━━━━━━━━━━━━━━━━━━━━━━━━━━\u001b[0m \u001b[32m422.8/422.8 kB\u001b[0m \u001b[31m37.8 MB/s\u001b[0m eta \u001b[36m0:00:00\u001b[0m\n",
            "\u001b[?25hDownloading partial_json_parser-0.2.1.1.post5-py3-none-any.whl (10 kB)\n",
            "Downloading python_json_logger-3.3.0-py3-none-any.whl (15 kB)\n",
            "Downloading watchfiles-1.0.5-cp311-cp311-manylinux_2_17_x86_64.manylinux2014_x86_64.whl (454 kB)\n",
            "\u001b[2K   \u001b[90m━━━━━━━━━━━━━━━━━━━━━━━━━━━━━━━━━━━━━━━━\u001b[0m \u001b[32m454.8/454.8 kB\u001b[0m \u001b[31m43.8 MB/s\u001b[0m eta \u001b[36m0:00:00\u001b[0m\n",
            "\u001b[?25hDownloading blis-1.2.1-cp311-cp311-manylinux_2_17_x86_64.manylinux2014_x86_64.whl (11.7 MB)\n",
            "\u001b[2K   \u001b[90m━━━━━━━━━━━━━━━━━━━━━━━━━━━━━━━━━━━━━━━━\u001b[0m \u001b[32m11.7/11.7 MB\u001b[0m \u001b[31m126.8 MB/s\u001b[0m eta \u001b[36m0:00:00\u001b[0m\n",
            "\u001b[?25hDownloading Deprecated-1.2.18-py2.py3-none-any.whl (10.0 kB)\n",
            "Downloading email_validator-2.2.0-py3-none-any.whl (33 kB)\n",
            "Downloading fastapi_cli-0.0.7-py3-none-any.whl (10 kB)\n",
            "Downloading interegular-0.3.3-py37-none-any.whl (23 kB)\n",
            "Downloading llvmlite-0.44.0-cp311-cp311-manylinux_2_17_x86_64.manylinux2014_x86_64.whl (42.4 MB)\n",
            "\u001b[2K   \u001b[90m━━━━━━━━━━━━━━━━━━━━━━━━━━━━━━━━━━━━━━━━\u001b[0m \u001b[32m42.4/42.4 MB\u001b[0m \u001b[31m17.7 MB/s\u001b[0m eta \u001b[36m0:00:00\u001b[0m\n",
            "\u001b[?25hDownloading airportsdata-20250523-py3-none-any.whl (912 kB)\n",
            "\u001b[2K   \u001b[90m━━━━━━━━━━━━━━━━━━━━━━━━━━━━━━━━━━━━━━━━\u001b[0m \u001b[32m912.7/912.7 kB\u001b[0m \u001b[31m65.3 MB/s\u001b[0m eta \u001b[36m0:00:00\u001b[0m\n",
            "\u001b[?25hDownloading astor-0.8.1-py2.py3-none-any.whl (27 kB)\n",
            "Downloading diskcache-5.6.3-py3-none-any.whl (45 kB)\n",
            "\u001b[2K   \u001b[90m━━━━━━━━━━━━━━━━━━━━━━━━━━━━━━━━━━━━━━━━\u001b[0m \u001b[32m45.5/45.5 kB\u001b[0m \u001b[31m4.8 MB/s\u001b[0m eta \u001b[36m0:00:00\u001b[0m\n",
            "\u001b[?25hDownloading pycountry-24.6.1-py3-none-any.whl (6.3 MB)\n",
            "\u001b[2K   \u001b[90m━━━━━━━━━━━━━━━━━━━━━━━━━━━━━━━━━━━━━━━━\u001b[0m \u001b[32m6.3/6.3 MB\u001b[0m \u001b[31m125.0 MB/s\u001b[0m eta \u001b[36m0:00:00\u001b[0m\n",
            "\u001b[?25hDownloading dnspython-2.7.0-py3-none-any.whl (313 kB)\n",
            "\u001b[2K   \u001b[90m━━━━━━━━━━━━━━━━━━━━━━━━━━━━━━━━━━━━━━━━\u001b[0m \u001b[32m313.6/313.6 kB\u001b[0m \u001b[31m29.5 MB/s\u001b[0m eta \u001b[36m0:00:00\u001b[0m\n",
            "\u001b[?25hDownloading httptools-0.6.4-cp311-cp311-manylinux_2_5_x86_64.manylinux1_x86_64.manylinux_2_17_x86_64.manylinux2014_x86_64.whl (459 kB)\n",
            "\u001b[2K   \u001b[90m━━━━━━━━━━━━━━━━━━━━━━━━━━━━━━━━━━━━━━━━\u001b[0m \u001b[32m459.8/459.8 kB\u001b[0m \u001b[31m39.8 MB/s\u001b[0m eta \u001b[36m0:00:00\u001b[0m\n",
            "\u001b[?25hDownloading rich_toolkit-0.14.7-py3-none-any.whl (24 kB)\n",
            "Downloading uvloop-0.21.0-cp311-cp311-manylinux_2_17_x86_64.manylinux2014_x86_64.whl (4.0 MB)\n",
            "\u001b[2K   \u001b[90m━━━━━━━━━━━━━━━━━━━━━━━━━━━━━━━━━━━━━━━━\u001b[0m \u001b[32m4.0/4.0 MB\u001b[0m \u001b[31m111.1 MB/s\u001b[0m eta \u001b[36m0:00:00\u001b[0m\n",
            "\u001b[?25hBuilding wheels for collected packages: skillNer\n",
            "  Building wheel for skillNer (setup.py) ... \u001b[?25l\u001b[?25hdone\n",
            "  Created wheel for skillNer: filename=skillNer-1.0.3-py3-none-any.whl size=25625 sha256=b9f6afd69268610232aa18f78d490947ad1f62de389bbb9efc16d3e019b25d95\n",
            "  Stored in directory: /root/.cache/pip/wheels/62/01/98/b823d6086aacca94c7d9083081aee3effca467bedb621410e9\n",
            "Successfully built skillNer\n",
            "Installing collected packages: blake3, uvloop, pyzmq, python-json-logger, python-dotenv, pycountry, protobuf, partial-json-parser, opentelemetry-semantic-conventions-ai, nvidia-nvjitlink-cu12, nvidia-curand-cu12, nvidia-cufft-cu12, nvidia-cuda-runtime-cu12, nvidia-cuda-nvrtc-cu12, nvidia-cuda-cupti-cu12, nvidia-cublas-cu12, numpy, ninja, msgspec, llvmlite, llguidance, lark, jellyfish, jedi, interegular, importlib_metadata, httptools, dnspython, diskcache, deprecated, astor, airportsdata, watchfiles, opentelemetry-proto, opentelemetry-api, nvidia-cusparse-cu12, nvidia-cudnn-cu12, numba, gguf, faiss-cpu, email-validator, depyf, blis, rich-toolkit, prometheus-fastapi-instrumentator, opentelemetry-semantic-conventions, opentelemetry-exporter-otlp-proto-common, nvidia-cusolver-cu12, lm-format-enforcer, thinc, ray, outlines_core, opentelemetry-sdk, mistral_common, fastapi-cli, xgrammar, xformers, outlines, opentelemetry-exporter-otlp-proto-http, opentelemetry-exporter-otlp-proto-grpc, compressed-tensors, skillNer, opentelemetry-exporter-otlp, vllm, dev-laiser\n",
            "  Attempting uninstall: pyzmq\n",
            "    Found existing installation: pyzmq 24.0.1\n",
            "    Uninstalling pyzmq-24.0.1:\n",
            "      Successfully uninstalled pyzmq-24.0.1\n",
            "  Attempting uninstall: protobuf\n",
            "    Found existing installation: protobuf 5.29.5\n",
            "    Uninstalling protobuf-5.29.5:\n",
            "      Successfully uninstalled protobuf-5.29.5\n",
            "  Attempting uninstall: nvidia-nvjitlink-cu12\n",
            "    Found existing installation: nvidia-nvjitlink-cu12 12.5.82\n",
            "    Uninstalling nvidia-nvjitlink-cu12-12.5.82:\n",
            "      Successfully uninstalled nvidia-nvjitlink-cu12-12.5.82\n",
            "  Attempting uninstall: nvidia-curand-cu12\n",
            "    Found existing installation: nvidia-curand-cu12 10.3.6.82\n",
            "    Uninstalling nvidia-curand-cu12-10.3.6.82:\n",
            "      Successfully uninstalled nvidia-curand-cu12-10.3.6.82\n",
            "  Attempting uninstall: nvidia-cufft-cu12\n",
            "    Found existing installation: nvidia-cufft-cu12 11.2.3.61\n",
            "    Uninstalling nvidia-cufft-cu12-11.2.3.61:\n",
            "      Successfully uninstalled nvidia-cufft-cu12-11.2.3.61\n",
            "  Attempting uninstall: nvidia-cuda-runtime-cu12\n",
            "    Found existing installation: nvidia-cuda-runtime-cu12 12.5.82\n",
            "    Uninstalling nvidia-cuda-runtime-cu12-12.5.82:\n",
            "      Successfully uninstalled nvidia-cuda-runtime-cu12-12.5.82\n",
            "  Attempting uninstall: nvidia-cuda-nvrtc-cu12\n",
            "    Found existing installation: nvidia-cuda-nvrtc-cu12 12.5.82\n",
            "    Uninstalling nvidia-cuda-nvrtc-cu12-12.5.82:\n",
            "      Successfully uninstalled nvidia-cuda-nvrtc-cu12-12.5.82\n",
            "  Attempting uninstall: nvidia-cuda-cupti-cu12\n",
            "    Found existing installation: nvidia-cuda-cupti-cu12 12.5.82\n",
            "    Uninstalling nvidia-cuda-cupti-cu12-12.5.82:\n",
            "      Successfully uninstalled nvidia-cuda-cupti-cu12-12.5.82\n",
            "  Attempting uninstall: nvidia-cublas-cu12\n",
            "    Found existing installation: nvidia-cublas-cu12 12.5.3.2\n",
            "    Uninstalling nvidia-cublas-cu12-12.5.3.2:\n",
            "      Successfully uninstalled nvidia-cublas-cu12-12.5.3.2\n",
            "  Attempting uninstall: numpy\n",
            "    Found existing installation: numpy 2.0.2\n",
            "    Uninstalling numpy-2.0.2:\n",
            "      Successfully uninstalled numpy-2.0.2\n",
            "  Attempting uninstall: llvmlite\n",
            "    Found existing installation: llvmlite 0.43.0\n",
            "    Uninstalling llvmlite-0.43.0:\n",
            "      Successfully uninstalled llvmlite-0.43.0\n",
            "  Attempting uninstall: importlib_metadata\n",
            "    Found existing installation: importlib_metadata 8.7.0\n",
            "    Uninstalling importlib_metadata-8.7.0:\n",
            "      Successfully uninstalled importlib_metadata-8.7.0\n",
            "  Attempting uninstall: nvidia-cusparse-cu12\n",
            "    Found existing installation: nvidia-cusparse-cu12 12.5.1.3\n",
            "    Uninstalling nvidia-cusparse-cu12-12.5.1.3:\n",
            "      Successfully uninstalled nvidia-cusparse-cu12-12.5.1.3\n",
            "  Attempting uninstall: nvidia-cudnn-cu12\n",
            "    Found existing installation: nvidia-cudnn-cu12 9.3.0.75\n",
            "    Uninstalling nvidia-cudnn-cu12-9.3.0.75:\n",
            "      Successfully uninstalled nvidia-cudnn-cu12-9.3.0.75\n",
            "  Attempting uninstall: numba\n",
            "    Found existing installation: numba 0.60.0\n",
            "    Uninstalling numba-0.60.0:\n",
            "      Successfully uninstalled numba-0.60.0\n",
            "  Attempting uninstall: blis\n",
            "    Found existing installation: blis 1.3.0\n",
            "    Uninstalling blis-1.3.0:\n",
            "      Successfully uninstalled blis-1.3.0\n",
            "  Attempting uninstall: nvidia-cusolver-cu12\n",
            "    Found existing installation: nvidia-cusolver-cu12 11.6.3.83\n",
            "    Uninstalling nvidia-cusolver-cu12-11.6.3.83:\n",
            "      Successfully uninstalled nvidia-cusolver-cu12-11.6.3.83\n",
            "  Attempting uninstall: thinc\n",
            "    Found existing installation: thinc 8.3.6\n",
            "    Uninstalling thinc-8.3.6:\n",
            "      Successfully uninstalled thinc-8.3.6\n",
            "\u001b[31mERROR: pip's dependency resolver does not currently take into account all the packages that are installed. This behaviour is the source of the following dependency conflicts.\n",
            "distributed-ucxx-cu12 0.42.0 requires numba<0.61.0a0,>=0.59.1, but you have numba 0.61.2 which is incompatible.\n",
            "ydf 0.12.0 requires protobuf<6.0.0,>=5.29.1, but you have protobuf 4.25.8 which is incompatible.\n",
            "dask-cuda 25.2.0 requires numba<0.61.0a0,>=0.59.1, but you have numba 0.61.2 which is incompatible.\n",
            "cudf-cu12 25.2.1 requires numba<0.61.0a0,>=0.59.1, but you have numba 0.61.2 which is incompatible.\n",
            "grpcio-status 1.71.0 requires protobuf<6.0dev,>=5.26.1, but you have protobuf 4.25.8 which is incompatible.\n",
            "cuml-cu12 25.2.1 requires numba<0.61.0a0,>=0.59.1, but you have numba 0.61.2 which is incompatible.\u001b[0m\u001b[31m\n",
            "\u001b[0mSuccessfully installed airportsdata-20250523 astor-0.8.1 blake3-1.0.5 blis-1.2.1 compressed-tensors-0.9.3 deprecated-1.2.18 depyf-0.18.0 dev-laiser-0.2.31 diskcache-5.6.3 dnspython-2.7.0 email-validator-2.2.0 faiss-cpu-1.11.0 fastapi-cli-0.0.7 gguf-0.17.0 httptools-0.6.4 importlib_metadata-8.0.0 interegular-0.3.3 jedi-0.19.2 jellyfish-1.2.0 lark-1.2.2 llguidance-0.7.29 llvmlite-0.44.0 lm-format-enforcer-0.10.11 mistral_common-1.6.2 msgspec-0.19.0 ninja-1.11.1.4 numba-0.61.2 numpy-1.26.4 nvidia-cublas-cu12-12.4.5.8 nvidia-cuda-cupti-cu12-12.4.127 nvidia-cuda-nvrtc-cu12-12.4.127 nvidia-cuda-runtime-cu12-12.4.127 nvidia-cudnn-cu12-9.1.0.70 nvidia-cufft-cu12-11.2.1.3 nvidia-curand-cu12-10.3.5.147 nvidia-cusolver-cu12-11.6.1.9 nvidia-cusparse-cu12-12.3.1.170 nvidia-nvjitlink-cu12-12.4.127 opentelemetry-api-1.26.0 opentelemetry-exporter-otlp-1.26.0 opentelemetry-exporter-otlp-proto-common-1.26.0 opentelemetry-exporter-otlp-proto-grpc-1.26.0 opentelemetry-exporter-otlp-proto-http-1.26.0 opentelemetry-proto-1.26.0 opentelemetry-sdk-1.26.0 opentelemetry-semantic-conventions-0.47b0 opentelemetry-semantic-conventions-ai-0.4.9 outlines-0.1.11 outlines_core-0.1.26 partial-json-parser-0.2.1.1.post5 prometheus-fastapi-instrumentator-7.1.0 protobuf-4.25.8 pycountry-24.6.1 python-dotenv-0.21.1 python-json-logger-3.3.0 pyzmq-27.0.0 ray-2.47.0 rich-toolkit-0.14.7 skillNer-1.0.3 thinc-8.3.4 uvloop-0.21.0 vllm-0.8.5.post1 watchfiles-1.0.5 xformers-0.0.29.post2 xgrammar-0.1.18\n"
          ]
        },
        {
          "output_type": "display_data",
          "data": {
            "application/vnd.colab-display-data+json": {
              "pip_warning": {
                "packages": [
                  "google",
                  "importlib_metadata",
                  "numpy",
                  "zmq"
                ]
              },
              "id": "9e9b965a56374c3e86c674aa39516198"
            }
          },
          "metadata": {}
        }
      ],
      "source": [
        "!pip install dev-laiser==0.2.31"
      ]
    },
    {
      "cell_type": "code",
      "source": [
        "import torch\n",
        "import pandas as pd\n",
        "import argparse\n",
        "from laiser.skill_extractor import Skill_Extractor\n",
        "\n",
        "# TODO: verify if everything is working fine with the latest version of the library\n",
        "# Check with and without GPU availablility\n",
        "\n",
        "# Parse command-line arguments\n",
        "# parser = argparse.ArgumentParser(description='Run Skill Extractor on jobs and syllabi data.')\n",
        "# parser.add_argument('--HF_TOKEN', type=str, default=None, help='Hugging Face token for authentication')\n",
        "# parser.add_argument('--AI_MODEL_ID', type=str, default=None, help='Model name for Skill Extractor')\n",
        "# parser.add_argument('--use_gpu', type=str, default=str(torch.cuda.is_available()), help='Enable or disable GPU use.')\n",
        "# parser.add_argument('--batch_size', type=int, default=32, help='Batch size for skills extraction')\n",
        "# args = parser.parse_args()\n",
        "\n",
        "\n",
        "use_gpu = True if torch.cuda.is_available() == True else False\n",
        "\n",
        "# based on the above arguments, to run this script:\n",
        "# python main.py --HF_TOKEN <your_hf_token> --AI_MODEL_ID <your_model_id> --use_gpu True --batch_size 32\n",
        "\n",
        "print('\\n\\nInitializing the Skill Extractor...')\n",
        "se = Skill_Extractor()\n",
        "print('The Skill Extractor has been initialized successfully!\\n')\n",
        "\n",
        "# Skill extraction from jobs data\n",
        "print('\\n\\nLoading a sample dataset of 50 jobs...')\n",
        "job_sample = pd.read_csv('https://raw.githubusercontent.com/LAiSER-Software/datasets/refs/heads/master/jobs-data/linkedin_jobs_sample_36rows.csv')\n",
        "print('The sample jobs dataset has been loaded successfully!\\n')\n",
        "\n",
        "job_sample = job_sample[['description', 'job_id']]\n",
        "job_sample = job_sample[1:3]\n",
        "print('The sample dataset has been filtered successfully!\\n')\n",
        "print('Head of the sample:\\n', job_sample.head())\n",
        "\n",
        "output = se.extractor(job_sample, 'job_id', text_columns=['description'])\n",
        "print('The skills have been extracted from jobs data successfully...\\n')\n",
        "\n",
        "# Save the extracted skills to a CSV file\n",
        "print(output)\n",
        "file_name = f'extracted_skills_for_{len(job_sample)}Jobs.csv'\n",
        "output.to_csv(file_name, index=False)\n",
        "print('The extracted skills have been saved to the file named:', file_name)\n",
        "\n",
        "# Skill extraction from syllabi data\n",
        "print('\\n\\nLoading a sample dataset of 50 syllabi...')\n",
        "syllabi_sample = pd.read_csv('https://raw.githubusercontent.com/LAiSER-Software/datasets/refs/heads/master/syllabi-data/preprocessed_50_opensyllabus_syllabi_data.csv')\n",
        "print('The sample syllabi dataset has been loaded successfully!\\n')\n",
        "\n",
        "syllabi_sample = syllabi_sample[['id', 'description', 'learning_outcomes']]\n",
        "syllabi_sample = syllabi_sample[1:3]\n",
        "print('The sample dataset has been filtered successfully!\\n')\n",
        "print('Head of the sample:\\n', syllabi_sample.head())\n",
        "\n",
        "output = se.extractor(syllabi_sample, 'id', text_columns=['description', 'learning_outcomes'], input_type='syllabus')\n",
        "print('The skills have been extracted from syllabi data successfully...\\n')\n",
        "\n",
        "# Save the extracted skills to a CSV file\n",
        "print(output)\n",
        "file_name = f'extracted_skills_for_{len(syllabi_sample)}Syllabi.csv'\n",
        "output.to_csv(file_name, index=False)\n",
        "print('The extracted skills have been saved to the file named:', file_name)"
      ],
      "metadata": {
        "colab": {
          "base_uri": "https://localhost:8080/",
          "height": 1000,
          "referenced_widgets": [
            "642daeaf0ee44c06a1e055ea4d621dd6",
            "37647b5a26574d489df7e778fd3d909d",
            "54b7dc5250d14af3921e4aa0afca8540",
            "f08447c510734a3fa0fa21d2251529d1",
            "3291e021e57b486bb52ad79d5d8f5d02",
            "9c936d466c83439880462532cf195bbf",
            "d023aa81e4ed45389923fbf0099dace8",
            "f70fd710495f4f49921aa86da088c0fd",
            "de0967edafa84a82a664c2400a817a7b",
            "032a10268d0342298c7c199e968286c8",
            "48e1cd0cf8eb4f38a1b659c2fca4fba1",
            "f22a4128a2a74ccba98962b7ef15af51",
            "48fd1ebd6c974e01b21c0a207230adc7",
            "df5792cf59784ef2950a9955d92500b1",
            "f94a27b1f61d4a3c99da1b46aa21e9d7",
            "081ac37396f94549ae23f93f92717429",
            "34f52ff45c464b7ea03e58b93974a61b",
            "9f3843000faf4880bd95229fb6973dcf",
            "70e66c4254094344b9056743b01a592f",
            "2702c38ebeba40eba4ce3fe5a744c4df",
            "e3069952fd91474b885c7f7405921576",
            "29ee29c4ccab4b6397bebaf30dd5b770",
            "a4f39e5b111643a190231d364b7308b9",
            "1aebccbe6c32495abdb93a43c9caa921",
            "f4bcfd177bd9440aa8bcbc9fba3939b2",
            "7f051f866eeb487d99708b60e758c759",
            "6f74020d6d414dcd9c09df0d028cb81f",
            "fbc27a88132441bb8701d3a7e74e5928",
            "bb60aea239b444ca94441db729d4442c",
            "5be3d96313ce44e689813ac154f19358",
            "4bba4b8435074e03b4321f762258401a",
            "72564465e569451a848a9b50c929e8fb",
            "e9d83c1ce7b04ca198d14a2e8878bae8",
            "2db22e7966eb48989c869aa06a3e928a",
            "80dec76df5e14bd48ac739057235cf24",
            "e70a53b9c29b4a4e8751728f828c648e",
            "84b0bed8a45c45f18e5cdf69a39d307d",
            "bd0a61aab23d4de1854864e973113fda",
            "59be4fde1dfb440798b24c2651f997d8",
            "d8c81ebfece64b52888bfa6d695850b6",
            "eeecc1c779b048849da484c7ddd6f6aa",
            "f43dcc211cef47eca857694bd3237cee",
            "7d30c77935b045a29f01e4a928c7bc7c",
            "1068e5559b7f41c493546c99db8e3592",
            "de642b4244d04970a5e5c58c8e4e1a3f",
            "e5a4b65aaed748f38f5967409d7bd15a",
            "c22f8c206f674453adafc7ae2001e76d",
            "f7b09d87befa4ac28c12e81e0f4ffdf3",
            "ec0b96b892c746179d1404d149231749",
            "9d5f5b2235f24060adb8cefda8ab35a1",
            "f1ff9648a523438895cb4b52f3496903",
            "ba39f68280064133b9c5b73c92176e08",
            "e1910cebb9b04011a4745901bcdd82ce",
            "812bb5c3862445468f104ff11dc39eb1",
            "f5ca28fbb33748c9aa938820fd3ff49d",
            "7fc9ed0c3d464143a0c9e8e0d20bf7e3",
            "63ee3f3dac2a4cc9b996d91be592bd45",
            "f35222121db9447c913e415e1edf4767",
            "8a57e3b1f4304dccbca3edd7a6db647b",
            "28e8b10708f7464f942f7b793613a2df",
            "cb047e9fc5194ff1846ef42598a78783",
            "d28a1d5c2fcb45588eb2d8a5857d78de",
            "7a2d71dd73334166b03d0aaf85d6308d",
            "5ce2bebd018a4332b561f771c2adfe6f",
            "02b69d245379411b9416d8e13400094d",
            "9025fe77138d42338736d8b2ff1d6450",
            "7290851a2176449488cfed319fdb3a2d",
            "5e21c0affb69422ca4659fc732d1d17f",
            "3fe1ace7c528406b8e52d15e92797ab9",
            "0ad66e22576b4d7e8a7e7f1460d0cfe1",
            "ade8ec1899524bce887025b8de4ff54a",
            "ecdf852cfafb44caa8b35d924e32c7ca",
            "63706f7ac2ae4fa4a5588ba18c219bfe",
            "5d5c6d7272fa4763b5c6abdb99efe354",
            "94d76b495c4747c98a8126ff44c35262",
            "2f0e5a9b7a1a430ea1c0fc0599a63796",
            "ae1283c95dbd43d7ba3747705bd32aba",
            "3f7c460be9cb4e1ea86369d0156e3711",
            "9286c96aebf843058dd6dc63eea05844",
            "5fb8ce2a167b4a2c8cc16d71e4383a37",
            "ec4b2015a53a47ea82f8914693350acf",
            "4718356ac8494aa7827d4c5e8a77833b",
            "b4bf188bc82242b19e2fbcb2d0fa1588",
            "1322ea9f23b448898e2768f4bbeeeba5",
            "0bbbcc280ff14ec493bc04b03612d5ec",
            "a5519fa50c1e4b599ed950bef9eccd6c",
            "fd5b26c77af240a5830b64a90b7284b9",
            "70ef1b5ff5d14d218986cf88935afbaa",
            "262bfb4044c645f7bfa9d05356c8b32d",
            "d680086986cb4425b2676ae3c9454a86",
            "b94ab98b06a44da1b6c3e938e20ab392",
            "bebb354c38d64e91bbb48cf73885120d",
            "c7a867595ff14785bbf38d541c3c30e7",
            "2637989802da4ccf970cdf5a776b039f",
            "131fda9f830a4f8182554dca88045e95",
            "425dd1c317bc453187df10b45a91badf",
            "97361609074c4308bf031505cad130bb",
            "f9f047158de74eeaae1277ee931fbbb7",
            "c2e8e76d850f447b89794742245031fc",
            "726d32724e044fe4984628203d81c2cb",
            "ab6617289f284482ab6a4ec000aca889",
            "c575b0b8a7f848bfadde373b1365568b",
            "c321d8b58e864024b197f0c9311435b1",
            "2621e117c96e4d83936a325423dd9849",
            "633f5cdc41c34031b64c5f611650bd64",
            "2d5ca42c911f418c9b5f8c08614b64eb",
            "c0e2c4fc36a04d428aa03b71005b6a9a",
            "03cbb201f1014cb091c9e06597023aa2",
            "940ef92ba34e4071a6175af5c58dfdc3",
            "1889fb0c80ed41d391e620f4746be6b4",
            "f1738d99159b4a229cd84871b976b081",
            "35d68afb1f964fb08cfbc1fec13cb1ee",
            "af4602d64ceb4080abf096204b7e03b4",
            "d6ab661bdb254aec9f836032192020a5",
            "39ad389e0d8149bcae0814ed78c386e5",
            "bc58c0ca50664aeaa3b619dd3e9cc0b9",
            "9cba518b5a854a7a9accc80e5886ccd4",
            "c99af67d3f174cbba6ff2616754ea51c",
            "d35ca8c1d5a648629c9b5d454b6ec99d",
            "aa3240841e0a4450999a539bb16f2ffe",
            "858142552de84224a0583e70c853823e",
            "b6c342e74a904771bdaad518a97cb9b8",
            "34d3b5efc3894d2cb82fbf018d5752fd",
            "0cb604e6f0054b368df43c8333a76220",
            "dc330030bd3a4b3f9f90ff056b92e557",
            "8ada4960bd814acdbbbbb20be0cc8a26",
            "cd4dd7953ca24dd0b233033870d05dc7",
            "505ba881625a4d1ca90a4ca8a8a415b1",
            "2e6e1e98405947cbb5a03645eb16c411",
            "b2e953313abf40d1a9783cbbf2fde7dc",
            "295ece6bda824e43aad02370c7868374",
            "9a33cfeaf9bc4871a183934aca360690",
            "02c2235cc9c741cb9e15ce4340e180e5",
            "52a27e9071184c5da4f51f682a4a1cc2",
            "3febdcd6591d4910be939ba0a89f4b75",
            "e97594417cf84b7f934e16ce536e06fb",
            "e34fe54454f74d9b974b03712049814e",
            "ed955e68980a40f3ac9aabe061b2081b",
            "9ef52f7e0900483aa5c210ea29d8b3e0",
            "34fb1778b3e148b9b56d8ad82e7aff16",
            "554c5cb15332494c93a35b461d066c2b",
            "4ee2cd1154154740b5f08b58f15072a0",
            "80ca6fda6089402784ec8e4c96bda4e1",
            "37462220d0a6467a87f2ca8030ef1405",
            "5737f9308f8b46ecb9466132a1652645",
            "11f62db409ce4d44ac2fe2a8a7372603",
            "1bcd571fbb2e425abe44b9ebbc706f8b",
            "5dce7a02f2cb4ed9a8b08efc2ff7f0b2",
            "cb6513797fdf43709d1c8979f443151b",
            "875076b566f24db88c9f3823f1ce6aa2",
            "82b4cd0be0fe4fc9b8d0be54727407ae",
            "f2a63da45b6a4c109f340e5bf1a9cc9d",
            "c421cfbb28ba462985e289eef2ead91e",
            "2c330099727f45f5b7abfecf19b0cecf",
            "725e2decb8bb45088ef2493741f60d6e",
            "efbf789902764664b94bd8ac2da03054",
            "7faf925db76845f399c787e66c8b3c9e",
            "bc65d8e6bed541b5b785fe727be9d38d",
            "de77bd702f4549ea89dea8193a64c088",
            "fc627700c9e94959a9ee81c15272aa61",
            "7b9a0ebeb2794bdab03b48fa9472a81e",
            "0ccc902bc7bc4fc99870cad6a6fee901",
            "0a48f822c06146d793cad67836b7bf6c",
            "ed6ff4077ca443a382b7c91710a71546",
            "96245159675345b9bfdb096b65168f8f",
            "16d9740aa6864892a94bd00eec801146",
            "fa4dd70686c940549b505973dc3f9132",
            "da7dc2b9877b4194a641c223c50a3615",
            "942eae719b5a4857b9385bc4ecd3340b",
            "3abd0befe107400ca497b0ff92750c52",
            "4a996943c0ae49f7b8fdb5d9220e7191",
            "68667047bb274c23950d07a883a8ff80",
            "29a6410167d44852a19e12d2b4a2b717",
            "c1743c770abf4b87aab06ed56937a5d8",
            "74d8bdabeaab4966b7660fd5134047eb",
            "92e3d30b205f4f3699554ad1fe10883d",
            "b7161cd526eb442ca42f5ef1e089d5ec",
            "d0dd8b776bbe4c809528f2b3569dae94",
            "04fdf19dde9b4a25b0a2513372974085",
            "14b7004d4112498d8b1f44bdc5947ac2",
            "e5ec415a010146aa9ed30eb5d8522d23",
            "999f8d490fb64e86b40806b95affeb06",
            "4695db7e752c457da95814737c605e5d",
            "9e579134dbf44360b8908d835f9af5a6",
            "5bbda5a0e5e546cea943fd2d94d51bae",
            "1a6a77e88fcf4ce9ad52db8008fc7d00",
            "5dfdbe16ee0747c89804fa2eee738b12",
            "7bc7e948d00f4f61889b5200b2643d1a",
            "7ad2ea85cc254d0f95df56f97a41f48a",
            "42ebeffe6d33472abdfa736e7be6f583",
            "762f53743d904f44971e2400e3aeb2f0",
            "7c66164ba1344ba4acb379c5524000ad",
            "915aa2edc5ba4175882619ef1c4a081f",
            "a2e9250f4bb042f19eadee5191ef90d3",
            "d120044ac1aa4ffea4f5561393b356fe",
            "e1a1802bef6645abb959874e45af468b",
            "008944fa82834ab482d5e74535172597",
            "1677c29ee9eb439f8c0edd5c95081a70",
            "d5fca531d28f4cfa89a238da237fb3d7",
            "3e3c5ee9b36f4dd8b0f84679a825ab27",
            "ac45cfa60a3c4727b206a1f6a108e00c",
            "85b398b4feac4c7088131c108788b2d1",
            "f115035fd42a4af2ba11e971e6492cb9",
            "ddc6a53feafc476b9a41351f6d459859",
            "061e8dd538374d6282c1979879abf22a",
            "9c574458e8164bc18079b5411b5245be",
            "fd93a415081c4f07bc4dc0fae77b51ad",
            "fdfbf5cfc17141ac9e2fbf26be3393b9",
            "a2b87d2b7912436183733739730c50ca",
            "caf2f9e57f764d4aa8a2e3c27bde5ae6",
            "06552e1dc1dd4d7dbc683ced86fb3282",
            "66e8da0de79d457387263bcea5758a1c",
            "db80b2ae07474653b71845b194750ab6",
            "1ef5c0d824d34b52b71984685a97c5b7",
            "3583ef61ffef4df7a3ccc48b8d0a0a5b",
            "2e3b38b4fb6749acb6500dc1e3647d1d",
            "db2276c6283f405a9c805539579e6a58",
            "853f2d16dc7a4ce6bfe3554042d04052",
            "a6fdbf7b8ee6413687ceb8e2049156a9",
            "02431b29521f41c2bef16796e9406210",
            "7b6e5426691246d88e3dbd611c5dbd81",
            "acfc8c7b57274132a52fb4e66ba1c77c",
            "658a6feb828744c7911f78999229dfec",
            "e24ec37e31a04a13baf681fa2650cac8",
            "81569dfbd2934bff81809a15c434988a",
            "8b246e66403f4f389b90dc98e282d150",
            "70fc8e55b82a4747ae803dc97c07ecb2",
            "b6158c68a772418f80acca2873caee25",
            "72f15526a50f42a6bda6d479218abd0e",
            "167293f56c634f9196a954e9918e8ffa",
            "4fee25bd5d9b44c4b5268663a58d1a45",
            "2a5027db9ed149f4afbcabf45e1855b5",
            "d3273fcccf9c47bfbcc1d31c757ed725",
            "3562c18528194f7fbbc5b0255f886f28",
            "544d410db5784486a1df6c174688e500",
            "63c01fa86fd14579a49231d322d03914",
            "fad47b9f8a3f49d49b7c8bf3c6527d6a",
            "de3632a80eda43699851b5b4b70701bc",
            "8708b9c552c141b585b35be7b78af89f",
            "2bb26401fadc40d2bd709d27a3ae85ed",
            "9c14e5b283a94a45bd25f56bdf6307aa",
            "b6e773d146054fb1914a99a9c538b55e",
            "524a7b21cc7542b3820ba7f8be18e914",
            "247a37267247403c9f9da43379616ecc",
            "dbf3a44c41bc470bbf6bd0f4708f8c18",
            "33d49a7dbd9b42e581233ba8487783c4",
            "1f0508e9dc284d85acdc20dad06478ce",
            "24f89fe96d3744ed9d014e0d7eabbb8f",
            "e4ffb6ab934a42cd9290fac51c75c703",
            "2d43df4deefb41a7b42b1bb35170dd6f",
            "f3aceec8ac9647ec9756db03f1f793b6",
            "3e47cd60a6ee45d588384a9d71e08191",
            "6123d7d9cc9e44ac8418dcecb62afc81",
            "d6c6378f692f4952a2ef239ee5480156",
            "c74d0bfd9a8c4871a45b0f9e6a102037",
            "0580a5c0a9aa43449c2740310e1e92ed",
            "99fa2667f5974baa88ebf80ebf167a73",
            "ce22539dc0724b7bb9587687c2a4b300",
            "214f2b1b513c4a01a784a96ab36a5c47",
            "8f43fcb9204f4e51bfc65cf992957022",
            "f3b1e959e0fe472eb2ccc36ef737b253",
            "3c98ac89b2884232b52f7b3b177ec708",
            "bb76c0c6a4d74a26a757f40664dde934",
            "98550a5d20a949a1a4020c220f7232e4",
            "b7e7ec53126d4503a00311a54518dd39",
            "210251a74fab43ce9d5bd6ec657aba19",
            "88372893f5854ea5bfed91f321a8a7fc",
            "05915cb1793a447786a771e67be55c55",
            "a7fc6b656cb5460bbb7fe1f2d26ad33b",
            "81f9a63002e94ce3aac81f533bc7890d",
            "6a928a69fb504f8bb63259d0f1d248d5",
            "285b580cb2964fb7bc66ac5e0173ae05",
            "5954033b3a5f4381b3c5b17ad8f69518",
            "50bdb831fe4b4917837c09c1934fddae",
            "8c77e46c73e64e5c82bb7d960261ba53",
            "16dfe7513a5e459e887433fd32276735",
            "c9d022e34dc04725b68a32728e00180b",
            "bae9439523294c7b96597e8d6d92d836",
            "05269b2428474b5cb0ba0b5b41104cc6",
            "9848b0c3613049c6a6a2ad5a0e84018e",
            "752de123358a489f9868781c674c0778",
            "9aecce5367d94282a395ec3de9a95cec",
            "92514e4bb49f495ba4c4cbcab9d78fd0",
            "f6d6e83939bf47788a9ff6f01dec3f3f",
            "9418886dc7d54e7a874cb967530a34bf",
            "1356f58c595b41329cdcaccf6ab762c0",
            "b277e04723ab4282acbaaeab7cf83a82",
            "5ddf4ddfa00c40e4bcdba65bda3765c4",
            "cb92850753294f66b94832ff005c5d69",
            "88e4965cb7ae4d1cb98853f702ede3fa",
            "5587382bf234470994d880dba0349c0b",
            "254e0865bd914f7ea8f738b105f016b4",
            "ba18da0633d94bf9bea87f8110544493",
            "bbe1d11a07cf4d8295875ff519ebb48b",
            "301e1d6240d344058fda98510a37fcd5",
            "0683c3ee3d1a45bd8b2e8977641a5ed7",
            "0f19f2b84ffb41789b74f7a81065ff98",
            "e5d8fe9cb48f4b3bb8d10267f08f2f1c",
            "f04e0bedee1c4c4d82944a2c0dcef516",
            "15f2dc2c25a44740a55b848633804495",
            "1fa5bab5067c4007a3198ea93ebf3e7c",
            "b26b33f8142f4ed39720b6bfe3245535",
            "1102446a2d8f4946a844ffb00a219aeb",
            "f1efb63494494f158110402e75dd7c3a",
            "219fe8df1110494c96dc6f996a7b6fb1",
            "80b19df4deda447dbb5b2ccf2112c897",
            "1d55fb724dff403da46db3c70577c0a5",
            "4d1d641d69d64d958ee60682eab929b9",
            "5fc722078d97489eb26d56d72086cec3",
            "97c5b82dc5dd4a54ac97bdff7c0b12ae",
            "f3361170acae4ad99568367397c9815f",
            "930ae77c4144457a8182ce753c8fbfb9",
            "2e43df51ef87494589e463d1ecfdfde0",
            "ae6029f1ba2f48cab8c599110c832be1",
            "1da9c5989e494c43b8f21fbda8b55177",
            "ed7e9f639766447db5ae2a13554ba446",
            "0336367242994f6a81a2ce48d21ff91d",
            "97c374ad590343e9bbd891d1beda171d",
            "e8ef858227a948708c4b4355d654ec43",
            "fdacae48268f4f65a5c47c8881c748e3",
            "ee304af552bb47e88dfb62247a5b38cf",
            "c7c33ed215964736b8425badbb50bafd",
            "bce5e20bc5a14b47a54ed7bfeb0643d6",
            "72b059f88cb846fc8a332bb3ce0fadc6",
            "a8d4b01e24a8465690ee6e48cfc68a0a",
            "066f69eb105744d6a5e069173b71091a",
            "73eed11897eb49b49287783547cab3fd",
            "8c160efbe3f84a71a19be50fe04c03b5",
            "c6526fa630db40338485f35712121dee",
            "a5b377c6fd354fb581adba7efcb47e70",
            "9fb01c61bb4f4e7c9df5aa20ef8be3dd",
            "1005d366471d4fa5bf3aa666d9349064",
            "4b9da60f7922482ba9faa016bcc952e5",
            "c428c8a1722d408bb4eec7ccc950fb4e",
            "51836942df544c7a915032226c90576e",
            "57ffa9e92686488aadf55f543c3af372",
            "f6994272b0b84f85bb22d53b5a9afdba",
            "bb4dcfda37a944cc9fe6814eeb210faf",
            "ba91da342227451abe60ceac928aea93",
            "56be9326cf244dc2a1ea810f9ed0168d",
            "a5320b8043d54c78a05125026484fe50",
            "59de2cb097994a14a3b4dac49dce0bdd",
            "3d68b508ce0443d1a38d8158b7438d3a",
            "6f958b0ab7314a5aa3fbc62cb02564e6",
            "8a12d2062315498f97cc1f644806a6d0",
            "291182cdce4e448ea3d74e515f33b8e4",
            "dddb1ddc967940d1b157dd5996665e70",
            "a137032e299a4f9eaa1082ca31a25d1d",
            "01cd5bee58b14f0fa2967545f7511839",
            "6b631dddee2b4354b27ca712c22147c1",
            "162bddc6f16a4980816c947db36d0dae",
            "0d9e8d8ffe134c0ba46fbb25f8fca50d",
            "cfd3a1f3e855466ab2c1346d936db914",
            "bfddb9ef328a43bda8f7ea1574ccf9b2",
            "9d377da1b04a4bc1a338d93057ad172d",
            "335d4608e4e44e5e8a23d044dba67636",
            "68eb9ece66f54e6fa851b29dfe9bfdee",
            "164e69c3ad5a4a5b871177500374f89a",
            "e29b72c80491481aaeec515293ac5e94",
            "0ed04dafc0f94652951ef3f3691622da",
            "009029e1562c40979b4a12b3e87176a7",
            "848297c8696a4e458205dcc9f778e862",
            "80ec7eb3e5a24b8ebc8ff726d5433156",
            "f1ad5f2a94884cfaba98aeec87b4c606",
            "0de6112127ae4d92a57a11ecbd526976",
            "4d0c988d4d79430897f0470e7f5a68d5",
            "792e6611f3a04e82afe66a420c7c3c76",
            "d3dfd42f05b54e61abc89e7ab77a1c7d",
            "5be86e028d9f4c84bc437997300b6540",
            "3fae46e00ed14ccf9446fffa270f91fd",
            "c0727b858a7a443da27294ed0c6bc4bd",
            "93dada30c0df423289e7ccf271ab4941",
            "7185032bb780449dafcacd476c4f1a75",
            "f27ebe36ac804d66a4d45879bbe21e09",
            "1915f0ccff37452f8b59913fb5d59b55",
            "1ea33ff73a8a422098a3f514ace7d13f",
            "bf2fa66b755745b69877baf4314b1045",
            "be9c9df75f404faa8f4e7343ed099687",
            "b4e5073366d14b92bf7294c95a126e91",
            "dc6eee0e51fe45dc821b42099ebe9d54",
            "4b4af7ae27624dc4a574903469e61f45",
            "565967ffb948415ea255cdc30fb1be64",
            "fbf4214dc26a4f799af4209c20f427aa",
            "99bcbc7ab4034e0dbc3a8deb72b69e10",
            "f34b9962dd124d8894661acf27e3d71e",
            "193e41b57fd54f01a33e6e23d478adf2",
            "51d00790cb1442c09630b48e266ab84b",
            "ff40c403c9304c1a94367efcb084a001",
            "232023b539ad499686e4d7bb4f54fad3",
            "b3b1aebafa4548ffba7272c41caef4db",
            "77976b6cd1434929bdd6956b33c93338",
            "ded187f6a88844ee8426353c1e3646b4",
            "b672ba19817947cab97862aef703343e",
            "35a9797567b24f1ba0b79fecd611a058",
            "4dbd219acf9e491ea6adad9054f2716f",
            "6a403d34fdb947d9949bf5b7cf2d221c",
            "aec3dd2a4462432694781de95851f1d2",
            "0188d02d5b4a4821b0fe4fcd5f973268",
            "9560a3fc5d674cb8a74d92a4ea6c0ebc",
            "395d794a09f8410eb3f150eaa0585ad5",
            "652d7df4b513485ab3d91b25635f4fef",
            "531603e87a5d47faa9f7b84cb501088c",
            "27198640fb5b499db4a8920de950dc66",
            "5dfee399660244f8b7416426d969a6b0",
            "67a692213a924b73b0cdfaf3f23e41e4",
            "5f6b42ee1cfb430a933e41d72254175a",
            "e964550caa0941a8ae335c0808db831b",
            "e388ea167e1240e7ba798c9779a17a6d",
            "cff23a388c5e4714bcb7771184287f3e",
            "e1911482d4264e369a52ee88e680654f",
            "0b581f287dc549f282abe854eb75f75b",
            "b3f7a64fbde74133a2fe1cd4c59e14a5",
            "6f4378237b9a4638b44921d053acc869",
            "67b39c4d67e2417380f3a503c71f88db",
            "d51aab64e3054e7db0f3efc7f6124682",
            "b3024b3bc936443699a2af5501008645",
            "e54644b1d6c940feabe5d634c97c9b55",
            "5acc1d4ffb35493cb0c75a44ffb8b36f",
            "611d034639bf46cc8cd87d877afab2d7",
            "babc2adc424e47f693e18970227f9e2d",
            "762c7a7a88c94223aeee4586f97371a7",
            "2ec7d332ef4d4d1295ae9a7c32015ffe",
            "faef0220170e4ed884efd1a5cafba529",
            "d711ff05634d40a59e8dfd0030c071ce",
            "a87ccc51d8144b25ad61ecf66392f075",
            "ca3a467971e649f58c9b96ecbad2f145",
            "d632ab76ef8e42549ef7fc5595c94a0e",
            "c9db988a66604d3193ba24751f27fcd3",
            "492d12673a0a487a8d64839debc360fb",
            "2d9edecb7a2c43b9a32a3e452049d92e",
            "336aeb05d5754dc7a75c2aaec9865189",
            "be9265b06879431c98a1226440471e79",
            "55db0f966d9c44de8082c368023258d7",
            "c2b5308450b04dd08dd693fbd3c31b86",
            "99756ce7a499419aba99c34ccbeb1f07",
            "90e7ddf79fed410797e286a9443f479b",
            "a430d957cc6a45fd812fba9b8b62da45",
            "38f1bda1b485481ca5c477b304dfd94f",
            "695d00ffd1e1443d9b5bb81425e414f5",
            "34ba385f6c614c9385b6782128f955ec",
            "ae1896c6e960471f99e292c8aa70d8dc",
            "e2e519ac56ea43f696eb33ae16e653c5",
            "5ca4a8cb6ae9413aad617bc6d54c6cf7",
            "e5a3c4d6835343c1a983146c239eb6e4",
            "13eea8651e5f4ff983fdb1da674eae79",
            "7e28d9b800194bf2a30f8239f4d0d05f",
            "4f335fc306dc4ad08da80f27026c99ca",
            "6a1905eab6304a8ab70e886a3f976297",
            "01b6835aa7734fd0b6dac9c303905ad4",
            "db5bc27811c14257ab39c88a930d8b0a",
            "9d41e63e25d044fe9fa3c34ef305e993",
            "c1c13d2d3e6147999e277a8da6f4ebc0",
            "4039824782174b2f8fd59034b9db8df7",
            "3420a487482046febd2f2ec6e319b4aa",
            "0a68c5cd961845f6a3f4f4e58da9b4ba",
            "01099eeb3ff44d98b21453d72f916858",
            "370f8eb82c3146ba9a683aa0a41a859b",
            "0b8b5e2ffce645b0a22dcc7c717ebb13",
            "da1f044c769b42de98654f0c82ed6c40",
            "963ed7daea5449b8b2026599983df9d7",
            "21fdf368331e41c8898487aac3cc1fa7",
            "3652005e8eb94cd4b777906be2bdc14b",
            "ecc29197296547d1bb1d795f31cba3bf",
            "c5c0765f0a334f48afeab5add8aa04ff",
            "47381b2c88c641a7be87148c78c83d74",
            "6331551d7d754e77a871091b51710e17",
            "aa4fcf0c3720419eb6f27c13cc33df25",
            "ce0589ae231e49a5b88e145cf19ee30e",
            "db421835cfd74141a460047deb493b8e",
            "82577a7836274e78a301c88893d5c59a",
            "1e9312c2c6584465b84bd40efaf4002b",
            "f4a95ba8ed8d40f7b1f215fc63c2a1d9",
            "805191b9784c406c8ec664de8275da64",
            "4e7244725c334c0183aa61dda9fd090c",
            "9db14aee5974439f90d1123f011b56ff",
            "682866057748405882ddbae9d85102cf",
            "c2277f28fff944cf8524adbe9c287a9c",
            "19361cdeb6e24064ae8635e8635b6484",
            "9e2851904b3149e68cbc3541a9bcd694",
            "1935fb0283de4d209ec67da7195b3d01",
            "8faeaa43a442494995008397ca904723",
            "fc6447df1eb241299488474644b31dee",
            "0d9a98f9d15940be89a1225126f68de2",
            "97badf3eb6824ea681ff2c83eb8bd09c",
            "d0fbecaf1ea84d269b9af70bc7b04516",
            "778816ad322d45a893c04414bc064220",
            "a31a2e06252748d29ff2c3c02c236fec",
            "0cd99b02972047f294105560e6136ae5",
            "7509c751401c473ca49efedc2a88f087",
            "35288f8ee76c4edb93d37d0745735ef5",
            "33a40c5e665f47cbbc5d68f77953f76a",
            "8f6e1cd7aa704eeb88cba52aef6b02a5",
            "2396e3a271904a9699067223a7b58a6e",
            "fb456f00944640fca8655fa533cfcd34",
            "f70dc48e4171492f9e43990ba99ca522",
            "8a8ed6caad2a4369a7cd2a5fdf553d3b",
            "833e51509dcc49bca5fdca80139d4b61",
            "02116701a1c647d284bac8ba1020d431",
            "f971246d2c6647aa9c14d49be9942af8",
            "0f8d9ee6b1ee47229042f4c2531c62e9",
            "494708e6325a48889ecc2852ca1138e5",
            "fbe99541ff7e4025b1cf91b10d78b64b",
            "3a71f2904b384d94b606b64120b96549",
            "c9bc0a45907b45d5b8a3e6ce672f6cd1",
            "73dfbc83e5fd46c9af2cdc3d79432dac",
            "9eef2dc58ed447afb612cbeaf1239ce7",
            "cd68e58b9f2444c5944e611c6397983b",
            "14741acf811d41e2931dab1ea3cd27c4",
            "abb3ddd455de4d3fa10f71c244e8e4e2",
            "2e04bcad5b0e4f4bbda7b8de21ce43cc",
            "b7e27ca8640d40d6b534392b36c7249f",
            "dfe946e2c7d0465ab519c9ab58721c88",
            "faa6c0184ea647dc89faeb5720d9c60d",
            "cdd859bb70c747a0a27a0ccc3ee2f58c",
            "25cc2109194748298be89e213f26a33b",
            "22041768b8c54518a63a2b3ef2f2f79b",
            "01e4812647514e4aad38faadf5cd460c",
            "6d313f3181274c1e85f21f99e14844d2",
            "c6bf5560035b4475878c0cec58477830",
            "a1515487fd2545009f0e47e651db2e51",
            "beca0b3034b749c888d5d13c3c90920f",
            "e5758f2b59d2459c92db6e0ede788569",
            "b9e05009a1454b33866f5179e4bc4f46",
            "1467b3183efc40d5abb4277ca48cb488",
            "16d3bf04b8dd4ff78711b3c811e2cec7",
            "1d122b601b6c47c881b516ff472d503a",
            "210d7efac209482593755ebe6a5b082c",
            "6ccbd4c1e071406f8f721cb4b4e09422",
            "a9075dd425d146ffbb5728c9ebaa08f6",
            "3e263019c33d4e8499d005637d7e406a",
            "6d38026728304d2f9d0c79eb924e39ab",
            "2996b415f2224fac92f990d4b175bbc1",
            "8891911aa0864692b9c80b8027dc6324",
            "b012b99157b946c4a7d103741348873a",
            "ab83d20cc1e64312817e016baa8db714",
            "bd70a90ddd914238b658204fd9eb00d3",
            "d5c30c7aaf14410b82e4d9a6dcf38903",
            "17ae07847314417ab3d92dbbd7505711",
            "661da9cdb8904a66be5986e3da8b06e8",
            "373612fb0cd7480f85d95376f62a6a9d",
            "1ede7783f2b64495af65e9ea4d1d1435",
            "8d21e79848044c918da0e6cb95fd86b9",
            "2e05825c84534127a99edb92ca2968b1",
            "0354af937466460e9c9ed281d8a97848",
            "f07091ea926d4be7879af567144ee26d",
            "4c6daaf14fc5444abed41af728920a4f",
            "fb4f53f2864d47dc93c7ff56f03c4818",
            "e2dcd7b3e21745d99cc55e1ba2363c45",
            "9d853cb94c33452484f330c336649ad1",
            "ff5b9e4a592d47a1a64edd455ee676be",
            "cc35aaef56d14f58bf8dea7059b46e5a",
            "3cf419c4842846f38f0e8ab1f40fc6fc",
            "c02943dc8c6141c487943b1beecab9fa",
            "9a6308812ed040468be78e6e1e1d7538",
            "4dd7977a6e024eaab3e4a26df0668509",
            "0f220d927e5f4b578bafc3cb32de4fc1",
            "8997c5e3866d47d68059fc83df7b0bae",
            "162fa6eee9214cd39ae47bb4ab25a351",
            "a6d1975daba64271b9753bc6c8e51be8",
            "56ea8156f6b74731b204cd4561e8b393",
            "a754286615e84830a02bbfd33947cedb",
            "5d08b4fce13247a8b0ec0984967b7206",
            "3cc3b6ba29604b978e884d322de99030",
            "1fcbf53438fa40fa91c7b9f815cf0d17",
            "ab66d9064d0440ff96838e93f6b0c614",
            "f7025bb5a54d4010a33de5a1180cc293",
            "038de7c9c9ca41eea955e1c09ecfd1ff",
            "6b28707cef91413aa09c475038e9a718",
            "b18ae2f5b69b4eae9be589a5963d0f45",
            "3a88b15d4cf8407e98d54643383331f0",
            "b75f5bbe21f04ebbb45cdafe19ff51da",
            "a5378e17c8344a2da194117326e07868",
            "5648a75bcbd24089aa40f97975b0786d",
            "1489eb5e19da42a68e1d699c447af47c",
            "4ffc6e8c43c8436ab32486589a66e699",
            "a8b8c988288f424c851fed099efac081",
            "daa1763d98f04f3a8d65bfd04301ab54",
            "8939afccf3b0475fa12227c6676e494d",
            "2c716d1df36d44e8a2ed37e61120bfe8",
            "27b0872f1f3547938a15972b0fddc2c5",
            "6999a0d2f2f44fb3894032c9a051f9d4",
            "066114ff461f4bf98e756503741426d1",
            "ad54fb17957449fab1ef89b7308484cc",
            "ad53329e499f4ae59b77cd503ec3f84a",
            "45493704485b43568a867dfb2c7284ca",
            "c733d195d7684076944faac07f1bb4a5",
            "4726d8b5bc42473ca2e4538e60b9db9d",
            "ea5d7ae6acd24db9bb29a8f5fba3fe7d",
            "da73e51794a544468e16826f9d768e98",
            "3a32bde7ba284718aec7f2919b396a53",
            "a9166b347516475282cd6ac4545f267a",
            "202b40cc45c4475590f40acfc634b81c",
            "3df3b6501c7245db8b187d0edd827848",
            "48f2cfdea3ed4ec5b09330f32ddc4bb9",
            "2a8291eae0b7480d9dd3a3ed90f45ff3",
            "86052ed2c88e4dd8bbcaf30dfa99706e",
            "4e0e646b624649ffbfd44457564aeec6",
            "22d75d80d1db4441b59cf0ff470dad46",
            "f53b20476bd440ffb8954dfcb6b5b3bd",
            "359b2f090fa1414fa4a00e62b8272b2b",
            "e4f85c049f144b81a560672088bec236",
            "492c8847be7c43b98e3a6edcf74ac7d9",
            "91309338e0b4404bb3761148523dcd9b",
            "1414f8e095304f0aa73aa56b6b69cd0a",
            "55691f28542e4dd8935f99241c726869",
            "abc0d0368ce546bc92dda4f541976815",
            "45ad965b74d04367b2d753588abb0f80",
            "08ffd090c1a24f4bb84137aa6a53a035",
            "7b78671ec8b34b3884ca1cc28ed12cdb",
            "e9f32dcdc2054aa6b011e26e5bd17668",
            "b7a692947adc4b739bb4443ffa6d3a26",
            "ea21be84936641b5add167d0c80d216a",
            "7e879080f4bc4ed19b2f5565d17c18a3",
            "960a6232440f41d782280d6d8c0bb8ed",
            "ba0a4fa230424dd5b1ca0d72b1085aa6",
            "308f8207911a451cbc72fa0e0a1cd5fe",
            "fb3559efa399447e96117207113e3cf5",
            "38a29f5d1e1c41c2ba2fbb2d224c589a",
            "2463dd7fc5f6479daec620f9b1ed6bbf",
            "7fdbc20f2d304164b380a514804443dc",
            "25377c69d7f64c599b86bcca83d9a145",
            "07769560b7524452a51f9f6761459fc0",
            "6d692cc1665643beb1c8268d26536241",
            "86b2cf94a4294ff2827cbb65c7f1216d",
            "3d6b14a7987c4572a95c7fd1ce99c895",
            "04e587ef4b924350b5d811de43e2da6b",
            "7a3a560d76d74390a856e52881687269",
            "d1abe01517454066bc61461a27cbb141",
            "29f2a7dc904b45b39f9602467b1595dc",
            "53c9be4d9fca4d5eb9f02a2221473243",
            "ce8b03ac92cc4d1497c4754d2d9ada7a",
            "0f34a9c259574ab3b6b858b488cc0867",
            "3a332b0a322f4f9a80a63ae6e755bd3f",
            "d5a2a54012ab4525a03493f78cbe85d2",
            "17122321b7dd4ed4a48aab8d318e4a53",
            "4531791ec9b24c9fbf4b78b7933db3e2",
            "9b71594a75ae4924b6d7f476dcb4d090",
            "b04575463575407da271c513d7e17386",
            "9ab666b5c4fd4d7795a5c476d0b5e942",
            "c55c14f47ebe468298670ac5cb68f773",
            "623c0c8a29534dfabbdeecce297e206e",
            "7389d42805844a478560f06349fcc2b4",
            "aa85542e3be9472a896acc62c44eedb5",
            "eeea06ecab7142b68c6fec323ad873cb",
            "e262783f99dc483b9396ab6c7630fc9e",
            "c2ac42116c9f41cf8ca66f31dc9892c6",
            "23da13af77794acbbd8022ae8b4540e9",
            "b1e63b95bf0b4baeb5884ef554741977",
            "025d69b8ae07427d803e252272d94bdc",
            "81dcdc23a48f457081f4dfd1d73824f0",
            "94abf1277ea44ba18e78d845d4474898",
            "b13ea421fa8640bbb20f4819628dce88",
            "2fe54901c1944e118d1c83a68d8993c8",
            "5cc498298a164461aa6d08d080cdd18d",
            "ffd9db3a04ce44bf84fafd668516cc77",
            "6fc9037722c14b9aa8691c37faa977cc",
            "fcb94953a5764100bdf6bf9bfca32005",
            "9e477c5b7d5842d39a6f129e0cc8e266",
            "e31ea6c7230647f5ac4e3b3010aef665",
            "5c38618056a146a28e424e863570aee6",
            "fcabfabe59194e9dbb381a04b39dc287",
            "0312c92636574dd68811bde669760fc8",
            "019b93dd885e4e238f56f6e11f527d4e",
            "a7472cbb50a64340812b83e2da19e90a",
            "660dbb04485b4ff380052ea9ebfcb91b",
            "cc22697db15645b3a1ce21215bcd8c56",
            "c2e0d2d0f5d24f1c8fab7eccc9ec15d1",
            "a2fcf0c1ab2642cf8b9d7761fb626740",
            "fbd707a3cc8c483993f9ed5caea2e7a8",
            "d853649b08e240b49fb2b6892427a297",
            "0f7b4703c02846b78889d87244f27c79",
            "80da7455d0f74b9eb2bc9b901aaada12",
            "c82dbbf3e5e74e51bae7cb40668766ea",
            "944f92bbfc2d4ce194bf6fdc63d34558",
            "725e67b18c1c40cf95b30692dd176bc7",
            "5300186e37564d509083b1275896156f",
            "8df876c950fb4ec1830d2478661cae5e",
            "e42da8457bab49859dc4263d28b01183",
            "a3b4436dbd2846ac8f5f0463069dd96a",
            "77cc032f61c34ef48b88643f682c03cf",
            "b5fbfadba09b45959c2e6dad1de1b511",
            "8da974039d75401d9afb6e2b07187b8c",
            "dab018ada5df4161b72bb1e72dce37d0",
            "17c1be5d3f354c73b730b22438b22231",
            "b1af46662ad74f57b73a28e728acf381",
            "99cb9ef16c144c2896395452163b1cf8",
            "3f0b795aa301433bb60c0ab51625b0fe",
            "cccf83ab1c6f43919cd04cae2077fbba",
            "a388b4ec687a459abc88da18c4dc5115",
            "cebcf8931ac34d659e37fa4f238e7519",
            "c77bba345da54648a4b658cb56fcdecc",
            "0b1592049dcc450ca8b677b6374c810f",
            "101c13782b8b4202a07df9d87079700d",
            "33d7dc7b492343eea765e372145f0c4f",
            "b44fca67f16c45e48ef1c6b239082196",
            "fca6fee4f81543c5b133a758107445ab",
            "f232552e0ad4446db946ac8b0c420c0f",
            "1a6e510617d54a3e96b389c926af84d3",
            "4f12b0b56f7849d9b8891d4e5e66fee2",
            "4549409e87a7409b82b1f358999c0d41",
            "e05af70ca930422282dab2434ff8d567",
            "e2e41e6eac944808922a70e22bbe5054",
            "3a2a6543143b49898ae4f10e0ce59738",
            "0748f1d2fbe34e5bb2d5ac1eacbee619",
            "22ac242d62524c3f9207a59496d919f0",
            "ff4b10858d7245c187b82541ccc29fc0",
            "485bffb4f3aa435c83c1f003331032d8",
            "65f4e42ab8474833b875cc413d1ae42f",
            "bca1eb5fe13f4fc8893dc5d0c77c5c47",
            "657bfcc1f60c4e23acb21c188c779e5b",
            "d004a16ba1eb49479c5a4fa5274e4d06",
            "fd8634fefd9f4b1a940f5975551ffcc2",
            "f38eb2862cee4886991958ac57b0a8b0",
            "cc644aef71a24427ba86d0980fd1ee52",
            "ab096027febd41038611f1ba7e463722",
            "191282a77b764f7692f94eea5e89fbb4",
            "6b4555e2437544fa88858bcacd554a2f",
            "e54fd97a4e834f6f85426b6da3ca8789",
            "f71ad98ca33f45c7ac01939c7b5b99a2",
            "bcdbb017c7e14580a80c3da8428d56e4",
            "4a8c571a50a24ff1addb328ade9f2f4a",
            "c2cc9038aecd4a9a85fdc015e69c2850",
            "788a70ba978a40738e04dce94d7cccb7",
            "c3e4a24f6750419fb749ba06430b33ca",
            "b812332ef6ec48ebab0d633cd8a93683",
            "8448d29b54bd4ba891f03558734d18be",
            "8b8062ac514443b98f7c1cf9ecbbed5c",
            "e1fde5f8dc9f4d86a461af3056f4dc1c",
            "2c6fea3a0e9c4bf99238c77d714edad9",
            "a9182750d1634ddeac0af73d257fc4cb",
            "3449a0043eba4e02940feafac2726812",
            "05efe155b481427ebb9245a5fb4a9b7d",
            "cc97629b79ec42c29f163364a3459deb",
            "b8948a350d784799aab49686a41294a7",
            "8a38263067c242d0a701a04c320abac2",
            "57d06d8b505c4dc8af89e3d29828438e",
            "ab510e32e47942ef954aaf0a29300511",
            "5a61cd4e7f2447869ea68a285e0bdce7",
            "05da20d7587b4fc6be8e6c8c3ccf66e4",
            "2199a3e5e06443cca56e371c9352ff99",
            "7aa4fe606c9a4ea6aa0f7912e8a673f6",
            "7b8e41fbca004aa888c4f4e636b3fddf",
            "dd865cc697af4bdaabd7ef829056577f",
            "c7d7ae270c6d44efb02e6f38700db130",
            "f1219d214a7e46e08dca78eea3088f2d",
            "f9d51656a29f4e2383701ce79bb39f2d",
            "ce02c48d4e5946e29e9496d074bc9657",
            "0e9c3cf949e54b6a8068afaf7f3389be",
            "95a80f0797d447ac8ebaa031b2e61ca3",
            "ee0fbdc4042744158c95c747a3cbc359",
            "999a3a1e0a5d44638f0795f3bb6276ab",
            "e2a4f20bf99d4693b0b44e0c27957767",
            "7d9fcaabefe34772ba080d92d187bee4",
            "bb98578753da4aeea1694b0fab553f40",
            "e00967db4cdd4831a515e4dede0d4e9c",
            "82c75be6c81046e1a3f6473332d3a357",
            "12036cb86de94a2891a794573a981a51",
            "36c1f597d5ad4a1ba0db44c436a5575e",
            "23c71b1f80ac4984a007cf818adf5d31",
            "65219d6ebacb42409db1a9864352d81a",
            "98458a3acc5d45a286716e0d5ef4eb8c",
            "1a9d641a89a64a3ca144acd053f1acd1",
            "41c591d33cfc4cfab683ecfdd15a97ab",
            "ff4e6be7596d496783500d599254a10a",
            "6328d65e9eae41af8f46f724252cd419",
            "727a2c7ef4d746388689ca65f3e4400a",
            "c83ae41a661c4dd991b1aabfdec28304",
            "136f50a6f6be437db4defc4151f36d7e",
            "d57c774579c342fc99b674312493c6ee",
            "291a9b5c6c43499c864ac0a27f4bbc3f",
            "509a10c437d245aaba779efe5a4c1cf3",
            "fa166d5b085c42408546ef1a8e106790",
            "11461d96f4ca4436b9e85f7ea7a9bc5a",
            "313b8185b86142aba40152d95756e1a8",
            "c9d7db730c7947f0b61dbd54ea254d35",
            "c1c07f454fa84ad2a419849e7039edb2",
            "2397549c8e3d48e983a41783c10de47e",
            "5483e600a0aa47209238034d44221fe4",
            "0148a733c8394b6cb514b492f067df1f",
            "43d773804c674875aecd5bf14851e9be",
            "cc130456e7514f06b3120edf54d6d4b7",
            "e13fa7a2b97b46978c3fb68aad8bec14",
            "8ed77fa011ee496bbc6c5256675b738d",
            "e7400216d9ba43cba715e964d077667a",
            "94ceb3596c2c40188b0543f5d272ce53",
            "b07ea6631a2148c3bd37791762ea5e02",
            "b48607a11a4e4b7ca976fa0d585cd1c6",
            "f21a50ae989e424eb0fbfabce9c147d2",
            "e446eb7660314ed0a93e7bf1fb528dfb",
            "7b5f082361974b34b01db4d18da29020",
            "4530918101414ab8a9eba74b84d3b7f7",
            "b3fa4d42c59643989cf016cfb65bc285",
            "90080f6bfb9b4145b81b40e3d6d80d51",
            "96d329dc0e2547e78cab7afc15fe33cf",
            "1ccc0d2d22f94682bc9d6b22843907a2",
            "76e46a26dd9b4c9b8389bf6f8e5d2609",
            "7d6158666fda4fe7b0b55f86b4837ce0",
            "43b100a1a2674623976424601ea94270",
            "110f50dfb21a4574b370fb6bf61822ab",
            "8e743a7a73a74d9c889ad285d69a151d",
            "d62439025f1a4d66beabcf81cda09ade",
            "433e461bd578450fb30370b59ca9face",
            "7135e686518c4074b931053141f26f91",
            "7106da3f101543ff85f6fadd6d939675",
            "fe55b4486fba419987eef269e7930cc5",
            "2dea5479da544092b6545456956cb6ef",
            "73beadd491d74232bfe47857d07adf95",
            "f9bcfdc10a8642ef807e455f2b43c30f",
            "d922c78c230e4588af524703baed63e5",
            "3bcccd271aec4e32b2465088f99d40ce",
            "8b9b6fd5c410446287fdfd0601de701e",
            "279a4253e3c54c768f2fed11ebcef41e",
            "abba460c239e444c89512a83983c0bd3",
            "57eec8073f25456f86393876abd393bc",
            "4c7d00232a764969b882dac2f5e339f2",
            "ab11a4115bfe46359d204531acb570ce",
            "baaff1dd289649d78c0e99f0aaa20c22",
            "7a81b87e7a7a493098ebb40d406248bc",
            "03add56cb1b04b3fb65777a8c5c106ef",
            "3a7512d2cce04a2083c4584bc48a5074",
            "309434a4d1844230b767867578d6cf41",
            "36e98818713d47c9910fc8d8095fb0bb",
            "87f5350b5fb746bcbe32902c02853775",
            "f363ec693f50432a96a6e5871b4c5290",
            "0a159afb214d49968b475e37215ffd02",
            "7625e261c1d24833b642bd4163d02cc7",
            "26cbc1d9fe4a43ee8d87bb5f99635973",
            "3762002179374c6abe864e1c2a084a7b",
            "a46d0110f1164cfb8c586e7d4bbd2d57",
            "4ec2b9875abc4d7294e894b6a6c51067",
            "037c767ed9b14ed1bd38fca8fdb3f43d",
            "9ac2917a7c2849f6a850888bbbe07770",
            "5b77e794834942958fe0c4f9a8188e1e",
            "a6086123e51b44718ca93c9962dc5d40",
            "6ac63b05f3944443b97cb1bcf3da0a48",
            "932aa109004f40f3bc87756944f2317d",
            "646caeae9f4c439592f6785f3fb27981",
            "b456a50b141b4dcda5b785a8a47d35dc",
            "f6fd3a99a81e411094a252108d482353",
            "80ef9bd7383d45b3b53980a5c614dbda",
            "7c59828b9ca64fa0a1a508773f6d5d5d",
            "e220c924f1874e0cafa9e743690a15e3",
            "100a13fde77f4cb782f0cefdb2eca412",
            "adc38e62cb534669b597e09dc9cc3c5a",
            "e115618ed1474db2a8ead2ee452bf1fe",
            "1c8110f4be86464aadf8397d40761104",
            "c6f00b2fb2054d80a5c72ddfa3844921",
            "925db67eff2b4a63a65d44d7289adf44",
            "31f4ab6a26ba4ae6b67555bd7e3ccca9",
            "b5d51c3ca6b64d3e8b0e94db6432de22",
            "2f812e6f17c44c228ae81486f580b6cf",
            "9ce8a8399b8b43bf904b62474c63777f",
            "ec0197570d744921b52892227b40ded1",
            "43068cd75daa4a42bacbf1ae9a35f089",
            "694e452019d344d8b4a1b1b7933c3997",
            "91e046dc88ea4ac78b67fd5ab2b55ae5",
            "5e112b002d2f47a4b3aecd3ebd39a86f",
            "06043dc529ae40d687b0648e2062660d",
            "3a792e81f1624a9d9c165b128d98b4e4",
            "b58aacc8ed8a4afa879924b3626c49ca",
            "718f8f24f3d24c9ca48c61eb4a7f91a3",
            "a17550e04c41465e938283bd1d70f280",
            "5c6db83a7cfa451b81f4899d056fdda1",
            "87023f2622294a1798fa05e2886ce798",
            "7db7456f9b8b48d5b67d17b7be72bf3b",
            "44cef2db423b4cab84cc8c6f38cc9268",
            "b23f22ef77684e1a86c03c44fa227b14",
            "16273e16d6524050a92560db798d9c84",
            "5ac3748a033142f3a8e2d85b030b43a6",
            "20fee9623f7247f99b8b2fca7b886fdc",
            "ed1b2a70e8e2495cb027e0f31cbcd542",
            "2d42164fa7624ac68f9a1b83bdb299b4",
            "bff3560acc1c4f89a496f3e2697c384e",
            "7205db6d410047efa4d958470b27f171",
            "44d6569a5db645539931a5c774469977",
            "be6ee2ded6a44a818340113c98eb3e62",
            "d44055c5f1ab40c980c6f023af1e57c4",
            "14d5ec20498a4d60a45ff5c060754e14",
            "7c04c0fc3a9e4add9fac54b101994748",
            "d275bcd4c0a548118f85bdad712e929a",
            "9d8dc354c2934f07b7f8b0cf1f742fa6",
            "f051eb439bce4dd19d733719bed3cda0",
            "84ba920060244a95a13f94ff9b961ab9",
            "e93499edc87f4fdda0f5eb04e52b43a2",
            "f406bdee61db4c0d82a4683dc62f4e73",
            "c5f6cf75e68246f1b88a595ef20aa871",
            "0258bde8c37b418b9a574917b124dd26",
            "657214ff8b4940d0a4b5d9539a8cb4fc",
            "e5365ca452e24164add6c86c5b0a9ccc",
            "8abbdc425a834b60a72f2eb6e5c97366",
            "ad3617370fc240fe8a24c669aa8712ca",
            "dc398a57bd5b43a997af20c74954e73d",
            "a91cff5c809c4fa69c9f9b839fa5e3ff",
            "083e309e427b422480e929c9a6d6ecbc",
            "9f4afe838a8a4144889600871ab2d0fb",
            "a95fb887bcd34fd597fb4ff5d1814d42",
            "83d58b30bf6748ae93bb3043c1374ea1",
            "f177ca314ef445638224d62047ba0fe8",
            "cba041f5434341dba5ec6596756fdafa",
            "d36b23d5c6b9411a86d345a469dec545",
            "a5280160291449bf814d4dad3ded7aa4",
            "1ce802de7c334fd596d68f03870f4edb",
            "20197498ad0f4ae2a929076c540b8cf2",
            "0cb6b965b96a49e9a13eaf23d697d172",
            "6e6b030a8b1749ea990ae6c1db1efc7f",
            "a06965a1011149ba8a85f97a0e90d4bb",
            "ab01d6c2b17e472481be609b442aaf7d",
            "5dac99ab14d04bf4b7fce23588fe633b",
            "6e65c14151404b53b60075125aae8ab2",
            "5a5edb9eea1046ca8ad6ae8136eec854",
            "6766f05362d54e9e8ec937f0519d87a5",
            "206022b817d0487c8a807a7f61f57743",
            "1276d35691834101a4f42e494937f73b",
            "f73356ef69d0481a9e58f8d50aad908a",
            "e7de991054024ee385712b2736a21435",
            "f15ab0b22c4f444cacc6260b505d3863",
            "5920dcda953c4a1ca8d7dcabf527485d",
            "4bdee1b66f3f400293453d8fd233c228",
            "38a81ecb54fe4024a5fae8ad0bf61d14",
            "9f7ddb9195e14b2586eaf1b1785f8275",
            "d5fe99c095154e08a1c87a7666b685ef",
            "b2f22447eeb84d95aa2cc5dca3b1d4f2",
            "9e4e808e62874348a30cdd22f3f2be89",
            "b32768dde77946d6aaa82cfe5d539afb",
            "62d47341e2044b3f9af868d7425bab56",
            "aaa77380b90b4849b74002cbafcbecfb",
            "0a987100a0fc4c108a5fd6a526028a01",
            "2b0f777e91224fbb9cd20bc9966596db",
            "be4a781aeea34bf1a61dba45736325a3",
            "0b6cfb0f8a284ec1b8a040c277dd1b62",
            "5a6832234716400b8f05130e7108d68f",
            "4846fa50861f4b06a22c3f16f9935e56",
            "37c63152049148c5a3a73466b4ffdee8",
            "3c64bb902f57470ebe65cb1477545652",
            "c2869019a51549479ab85e276ae1e32a",
            "87a1c01783cd49b2b2369b223bf87ff7",
            "98be4c8671bf4231ac8cdaa133eb4605",
            "6c51f4b9afe64fa481fa89e17ec735e9",
            "45e75477e82d4e75ad0ccb05bb1c0268",
            "1641ebfe61d84472baf55bf223396307",
            "8424d6d7abc24317a8f6059cc11ffd18",
            "d7d645123a66441b939d162a978ef67e",
            "ed7752d901c14d158b3628acf613bac1",
            "444c2867791f45ee8914a4867de2474d",
            "5aece233b9234ab588f5791aa8818406",
            "6fdab1ee8c9e423ba2bb9d5d50b5b1d8",
            "84e9553e57da4efbab0c87fe9b5858db",
            "078deba9d2e34bb3b7235241e97e04a1",
            "93ad6ef16c5d4e7fa381155bb7f72d7d",
            "375ac2115cf74e10a1638d6edca493f0",
            "b24657fa993c4b36be192610ff51d319",
            "532cec5cb26d4670a1881aa1ff2a2504",
            "efa35285f2ed4ae7a7ec632c9991f0c7",
            "e037fca7e20c4b709747048f8e3894da",
            "db6d8d3638124b65add34c90153a59e3",
            "1abd28071a3248c2a8c5eb95be929e06",
            "c590e2612af147e8a9d8141532a54ee4",
            "c004a106b8ba4c409d77a59cb5ccbfe7",
            "c44d8ce41a6b4bf68e76eaa5057db8e8",
            "f4b958984a82424599e8ab7a07c01d2b",
            "3ee3fb40d45d416f8b27b7ffc1fe63d3",
            "f67a83632d144acb8e8e31d840dd4eaa",
            "f70440d5422846b8af8c9b0f2b7ce9c7",
            "c2b65ee99b1f4f76ab34ebf642052795",
            "a1800791d8984becaee769ca228158db",
            "32712ae68aee4c11a14961f9a3851b9d",
            "f04edc32e4564fa0a0bb2ee686c386d8",
            "b2fd5e47429d46c78b8c191526d40efe",
            "29a752c9a5a6443c9ea633387e8c8dcf",
            "cee89b6281cc4145912cf4c69ded84e9",
            "ee4c18a5956d4207803eab0f4856dbe8",
            "2850727423e444a4ba5db44798788f5b",
            "1f2e134a2d484012ba9ce8e0f653258f",
            "64bbeb638c924b06966e7d767adcbbc4",
            "f182aaf8c804424490f32011bba9ac75",
            "a3afb3a9a3f94bcb95426cf56d676115",
            "6094d6a9383f4888915f77d62c594a30",
            "7ddc898697d34b17b0090b17013f7f65",
            "5def554a2d3c4a589283dfc73569da63",
            "ff97d5c7a94943f4bfabc25409d31b4b",
            "d6c218fe8ef44df692c8d099be8d5930",
            "20898412d6634b83bb192101eaecf595",
            "a7f0d96a556e443cafb3e7f53b39015d",
            "64f2252b10644f3ea5d2c55dfd5b18a8",
            "89b62bb4ae0b461cae313ef26525d8a5",
            "536381f6a6bb46988fb9a85035e08d3a",
            "026283ddbcd3430281953e96053bc829",
            "e6503936275649a6a505dce410f598e2",
            "e106ad18d5764ba79e68871867dea8ef",
            "681c0bbeac474a7ebce98e56b7764f78",
            "9880b250534749fca9f9cf99706a9bcd",
            "8c9c6fd13dd341ebbbfcd3ad9c55f99b",
            "bf4126e789af4fb3aa5447943aedec10",
            "ce9f81885b09474fb4cffa58d88357b3",
            "beee40d20aa045a8ac05a3ab4435e1ce",
            "4a5b3151b84548dd88cb9cd04912b848",
            "8ba17dfcfad74163934cf20ae9385c6c",
            "f9453888cbf546338ed471d661c08f2f",
            "bf36875b58a1423cb1dc899b9abdc6a9",
            "7b0630b65a0e4e7e9480affc91766ce6",
            "bb87d33192094d81ae2e0f2392e0805d",
            "51dfec9cb4674c20804e373722d77c4a",
            "f18865975e704a0e917c77405d963b1e",
            "61be407700e0424f8e3747eee620fd44",
            "39084b595a934d1b8e6ea7db416fee08",
            "a609810447604191821b3eefc9e61626",
            "33dbbe8895db4fd18392eb972891adab",
            "b1c12bf3084c48ae8c7b57885d031890",
            "e60bbff269184bc9a1179395c5fc5433",
            "8de55d44ae5c43e1ba3645a8f491777b",
            "2c357bd9c6804dca83c447ab87f5db23",
            "64b36567035e471bb44b2d851f09a19d",
            "556cf465d99247f5b9515364638f67ca",
            "e9c7d079c509443abbbb23624d20e27b",
            "98e4f28ff9a941af9bedf70b942bf212",
            "22f8fe19536c4af2911a08148834c919",
            "56c5d8b85a2449489934de79259a0a01",
            "e515562f8a0d446f9f35f27e506a6942",
            "a82dfc92e3ec4b5a9b46258c8fc3f7c0",
            "c7be36a2fecc4756aee9c465c5ce4c26",
            "02be989b80ee4531be7e532e9c1f922d",
            "1487b2e62bc54b7c8979c783b8002467",
            "a8e1046b6e7a4f74b5262c5307e9e7ea",
            "f621223b9130491eb8d8b00366599048",
            "8108002720004899abfa3bf2b4d0197e",
            "13437c70b0f041088405d77a7f1e482a",
            "1c564135a76e472aa77b612a8cb5e4f1",
            "ff20f9830a424c5982046899aba40139",
            "66f76e1c1b914d09a9ccbc3f83276df6",
            "2d25bb0a92f4499b8bde6918e6affc33",
            "dc54f868106444e0a06f895a1d801843",
            "9b26e6c3c8884c5f9173e614a6151ee9",
            "f21a8db51ef44ddb84782fc8c7569d00",
            "48df18e1ff4c4f6f85e3eb58cd05926a",
            "08086d99f05640dabc1bad03808d2b25",
            "a296bba0d70048a0807ba446174d0b56",
            "5b8e5bcc3bc04dcfb828f9430b9ef379",
            "6c31624158424ab68643e934d9b942dc",
            "cf6c533424aa459691e443da4d6ddd7c",
            "e03ba59b969e402891d63552b9f0ce97",
            "f82bbb8dd6144ee8b40e513bacaf86b2",
            "4f83ea0107394a5badfe275bfa236b8c",
            "1dd297394d4443e3a927508af6d67c09",
            "b069220bd570424f9920d60fb6c4609a",
            "2d5ee4567e0249f88668e854d930a69c",
            "ffd53d251aff44398e2eecdabd8b1275",
            "ee5ff1757994493aac1a26b776b31d74",
            "d8bf3fd647d746e0b5542cec57efb6ab",
            "3d7cc94a2102430bb77a09f973fb476a",
            "51f5e387c2b148e0890863a3b6cfde53",
            "f9cb7c3114454cff8c320d3c6207852f",
            "7abb5f55b04f41b28623853b32326f18",
            "4a95f3db7548475ab2de4fd55775ad98",
            "652e2ff464264581b7f89f3bcbf10276",
            "e34a4928f3384aebbd9b38fdc978c70d",
            "517d5c1db3f04fc188fc04c3832565e1",
            "c4636e3a1ac945d4abf5bedae9bd3c31",
            "104e4a599a334f108de1e021097538a5",
            "f14820c0523a49eb8733d8505bb3fe8f",
            "aa3d8f91674f4beaa03080dcfd344415",
            "ca831e3ecb514f8f91968faef55ccdf6",
            "316979ae22a844878367b62614fdc84f",
            "68c88f914de54ad8b236ab08fd053e14",
            "84508e32b93a418182a8e8bc22a08c82",
            "b26021e070ef4ccb921ee5f3a5d9b02b",
            "763ce93c8e944b1bb87c28d6b9521b26",
            "049ee7ed77914667905d7c73ca59b168",
            "4f06927347fc45e4ab7b2b9b84396ef2",
            "020f1639100c4e618220f7d13d810336",
            "4d8dba67bce14472a16b9d7faf21417a",
            "9d214ebd6a944fe19af09b0c8d0ce69e",
            "7732efe8b5ff47b9af677eb763dc2c93",
            "41e3adef64744222a5b19259c1b99e99",
            "b73d8ba1ecb44c10b5b349db3d5c5c56",
            "5bc4719a41f54895a1aefcfd1d39b02e",
            "b0cd52597cb84ea38ff7b6cd2d6616f3",
            "0c6add894b2d4492a002f845659a2aea",
            "0f4379c5231a4e089d10db2d2fefb5fb",
            "125b23e0988a45bfb49e03d6894dd5ff",
            "add9720787694e4da28bef368f8b3717",
            "37e7988e28334df3b6454b93efbb3da0",
            "18d9cb62ad4e454eacc653a55b69b619",
            "069c84dd13cb4927b2d0198ed31a45f2",
            "a99f55365b2649e1a42381fa8be6f3e2",
            "c508c55b40ce48f7b67ec6316fa2a524",
            "afe08f19af874234aea2dbe7b8d63916",
            "1743660042d7400581f188647260c141",
            "37241c1669fb4268a6a820250936de4c",
            "5d6350c57c714a67a788d5f378acce29",
            "d6b9bda123aa4dfe9d6c9e8e2aee317f",
            "4f9d2d84ba864b598289773faec6fd0b",
            "dae7d86dab2743d398d8aa6f6042039a",
            "529b67981167497ab2eaf9314a294faf",
            "736795670bd445139a8c387a9feae186",
            "631c1529c9144289800ea27806c7538a",
            "4d6acc7e251949ef869282cef98093c5",
            "48447a9681074a6d819fb4edb36a417e",
            "677992de3fd747d3a64da98041a95c9d",
            "8830a339728e4aaaa305aa6878192141",
            "9b36c2ea6bed48f9ad9daba27361b3d2",
            "228d9d6c739a4507aec2627e978e898b",
            "9f190f14725a41f8bee4ab1983c29e7f",
            "5f3e552b59fc4ce4b7225f768318e607",
            "293fd47c430c4e6b9c402274877e88b4",
            "7d7539d248fd4cc09e04d23b941f7e39",
            "533c58817b484e50b0809315e34a9506",
            "e12b539aa6ce4d2eb47cbd70b900a582",
            "8647319170984b4a8565e278dfe1223d",
            "eebed845875942a9ac92993b73db4eff",
            "a68cf3d550624a3eabb8a541d202f90b",
            "254ec479fa734e3cb620c21c19e3f1de",
            "acac6980e02d4c4f8866226bbecc934a",
            "c75cad30d2364c5092a018350f15cfb7",
            "fbed890875054b88badf7d86421786aa",
            "643b14ed16f94f6cbb3a6231ec7c5fd3",
            "c7f00f88dd9648f8b97247e9e02d3914",
            "59f115b956c7484e9a7e6e0f3a66f824",
            "9f0622d68db54ad6924e85386e5d8023",
            "65208e2925004737bbe2c4fcd543d159",
            "eddf46d6e3004f4e9aa0d1e3cf215084",
            "1522d78b2fe64cfc9473f96063b9676e",
            "2abf26976abb438abe4ccca353851b7d",
            "e366ec77a74747c0a7da9002269531cd",
            "8b3a93df7af04f66af0185f219a93960",
            "3a6e6c361d04409fa49936ea94e942ca",
            "7e0459f0cdf24c4cb832da4c5bda28d4",
            "ba8e024623834ebd9740ba6317e90265",
            "5876797bc4934669b60fb409bbad7d31",
            "8e94f7d29df44ad78436215bd3047a92",
            "b1dbca823cc5476284157717e8184ecb",
            "ee41a2ad688e4ecc8b889ea6b9b2c28d",
            "5d759baf54de4087a68f72c60066bb22",
            "d8dcc7bc621740cab892516c8b150afd",
            "be4d6c8dc69a4351b70511112ac599e6",
            "52ed88f4b54046078d2fb5ec0071ace4",
            "9cea709705474e67b5d3c19801ac64da",
            "ad4d8ca36ff24fcc929593aabd5a1580",
            "019a8ea8713340759d2624fb3d44927a",
            "bb698e85d43042268964509e93cb9055",
            "21186bbbf02b46c190631bf512dc9e70",
            "ec17a0aa98f14d08bbbb2239ece160d0",
            "7d6789564cc34fdcab01d5af8c10a852",
            "872cba65d93e45e8a7aa73d2795f9f37",
            "84a7390720734281984e0ab9528813ec",
            "0562b0a5dfd64d4f9e883351b222127f",
            "110f28a182b04a49abc8225412945b1d",
            "8b9ee6a35b134255a30d429f4d2c182d",
            "80b82a1af1984a2697b7d02ad3d0ec1b",
            "dd13c64144e0476a9ac22a2b0395d5f4",
            "11aa357af6b94e32a769ec54118df5c4",
            "2243fcd6a723484295cb42681f93a364",
            "5e76b687210743f7904b0eadc07687b5",
            "baf11cd9bc9e4820b518f5c45453c3fe",
            "b7dd147e944a45d1a538faefa0a8713e",
            "2d5776c145e04e8ea9926975f2e2fd01",
            "85671f61d5524969b4de417068160f6d",
            "1cc6a18a75324e63a7b64bdb6d1aeba3",
            "8d81f68dee964331a89f04f0f709255c",
            "1aa3607a1c8e4baaa792a55343af8dc0",
            "b0320556ad2b49dd8b03bf62052854d8",
            "8e12a4f5b1424e27b7d3671713e7dc46",
            "f9abf5dca0aa4da297373b036a312383",
            "6644c6f222a348048a5bd76d85039684",
            "2272aaa5ee1f4e73a7c834a7de6a7e4f",
            "cd13c542db774a568bc9a17b21b25277",
            "cb225c10e03543669a4812f6d0c8c14b",
            "aec71c29c7e7481397a300069a093c79",
            "b8cec48849034e87b28b5aa6ddf16d13",
            "3e2073ed50dc4edd880c0448e3c50cb3",
            "e9bbc3d08dcf4c41a2a34543f9f327bc",
            "4ee55bc13c5d4aa490547127cc7196d5",
            "ee3d967b55f746e8ba34fcfeaad8953e",
            "5870ac718fc54ecf934aabacee1ac1a2",
            "e9431b63a36a41cc9d330faecf28d4cb",
            "775190e8b90d4b79bf32c12df96f42ae",
            "754fc8f13e034cdbbae6db6a709f854c",
            "3ab936d87b8d48fda0b235b602c109b1",
            "c79fa1a810d6465a8b45e185604d41e3",
            "432dbca93c1f4ed7ac1c960dd480174f",
            "7f6dc8e71d064e358e9f1ad99ca09e43",
            "53d616c0a0f24b419554051ea9d6f819",
            "41d3225a53834702a7c50764e9bd24fd",
            "cb977d0488234da4a81003a059d7bab5",
            "0452a71580c64000a48b509cb249a37f",
            "4f74616ae1c0432384e6388d56fe1287",
            "96e9efc525b643dba0379780118be2a7",
            "7a2947ffddd8487db5435a85f850158d",
            "bd8f2ea449134bad95a07698e21ab2f6",
            "f73e1944007f4f3eaf778b1693e04ca2",
            "08f650b96ac44cfbb5672507578d2c25",
            "0a6ada3efd544ade8c6b6ac4049f20a7",
            "4a41f93559df4e1fb1f6f39430baba82",
            "1ed01e18aa784c739cd5f94d75e11fb8",
            "bcd47fab37604221ab8c15168a146527",
            "23bc391b48f54747bfb6beefffd4e59c",
            "d5e142dab8fc4bc7a3f39fc851e6bac2",
            "bf6257261a2f4841ab35ff09df7c8805",
            "1747c7a2096440fa82170ca08125ae17",
            "87f2873e81a1494691a750e7bebe66cd",
            "ff44b273cb3442718e94f182ea3041f2",
            "80431aa355a64c15bddb8a089bd49820",
            "48582a39cf3442448641b36bf1001450",
            "b43b17d2af934062b3eb7020dca95580",
            "5a1d0bb9edab49d0990b4cb5e3874f25",
            "17f65be094a943c4a6fa632a8c90a6cd",
            "458070db3834401e801239b0363e347e",
            "2d9a84997d924e999dcdd5bb99574428",
            "015e879d37114cdfbc1d601820075083",
            "f30953e525a34152801e839c2e67939b",
            "7383ad50357e4cf39d80cbf77c803a85",
            "d958b73d59574948ade5a014ffc7d12a",
            "10bf3f0f428149ab929a026248faf522",
            "18b42ec0c5bf48ad98877bede6765908",
            "5d48afbfd99f43a5894df530f17a95b4",
            "703363678ceb4a6185c1f1e56d726eff",
            "f5a4b2497055430b9d6c9bd0671c9a4c",
            "24a9feb228ae4fb29c44b2c0e2178e2e",
            "1e5cb804f6444fc19508ac8876724115",
            "dd79b90adbea4c819be9c4dacfe9900e",
            "b81f21f4f02e49649b0f7d7c70bbdc98",
            "fa449926d7a64159b917029618703f6a",
            "fe0ff4ef383f4b4d8fc8012044ad7771",
            "8d9d59bd6b76488d9ccd528787b1c0ca",
            "b9448c5be63447ff999fa9420bb95ddc",
            "8a69facf398c4b0a863d78dcc1a9067e",
            "a112910f04f14231991368a85c2f8a2b",
            "135c3dd9a4384f4bbaac6587c2dcc95e",
            "c3d6a05d742f4309af1f5ad96d70ce95",
            "6000bd39daa043979b1cccbe79bfa387",
            "885b44cba0ae49938be41dc1bcb609e6",
            "5a9bb3928053422998011b52bf6fcd4d",
            "1fb15f2e70104ac086b3332b3e75dbd1",
            "b1a29a48faf142638da2a2ffddab675f",
            "2558b88213204f2c93dc9b01673745aa",
            "19f838a4a69648ce80e2cf8fbe2f0fbc",
            "61c8dad98b6c4f9cb25cc5587ab827f1",
            "52c7da1029024a9bbd69106ab2e92dc1",
            "16b9bc34ad61441db952633423e7fc06",
            "23e9623a077b4e5c8a8397ac79760642",
            "fa844eecb71c453ca1dd25023f82765c",
            "908c7f6bffe44ac3ae924ced420c25a8",
            "6704bf9dcd744ff69d425170c431c3c2",
            "0af0f262abfc44b4ac7695f70f274204",
            "34aedccb8a42469a8c0dffd02cbf4b8d",
            "1142903af15c437aa2cd899f2478f896",
            "e2edd172f5a240fabe1b4f3fb3eb4fa8",
            "655f01daa019465f9c4ed396393d689c",
            "15900100bf7f48b6b332a948374d0f88",
            "87706badc10e4cbea7ed095f56ec83a3",
            "e32863cc0b4747dfa69fd95b282ed589",
            "f8b0c0222f74401f8fb68d8265a75a2e",
            "0b59c16bafae496f813c37489b60c12f",
            "86ba202073c945f4b440e8c336dca62a",
            "502f7c9dfc8b4e788f40c6f4ad0e77cb",
            "3e10c2700af542aeb4d1622e2c11915a",
            "2b81aa0fc44a46cbb7277ae550b2cc1f",
            "4a16b0f36f464e7cbff82dec61b6488b",
            "ff08c52113bc428ba6fa8ba6d76098c8",
            "a5594beb8df64c578371ddab8b252de1",
            "63b38b437c6b436d9601cca0718536e8",
            "4673d5e74b5b4f31aa4a941d971bfa0e",
            "00e440f5364f4f848d731b3e1087ccd2",
            "c04977780fb84db3917fb08bbb3612a0",
            "47e3e0be02274aaa9df8d470372cf473",
            "8a250d668f7e4cf49f4c3ef0a53a784d",
            "88f1374e194249a1994ef6eea61927a3",
            "7b0de4a861a941d7af23edb055783782",
            "2ed28dacdacc4bc7a90c65316f8b3cca",
            "102a6753c418464ab767c8f156c9a6d9",
            "0b0fa574eb364602b44eab3c8cf15be8",
            "e709c17ef0b94ed4942e0dac641f61ff",
            "9cd741179a4141fbb3d528236c4b01b7",
            "6fd912a9001b4613bcab1dc62eabd4ad",
            "75c3b306bbf144a08746a983616d479b",
            "e914274e34e44a72957e079f8fb4fd5b",
            "92d350f39ffd4a9b88f86767d17eeabe",
            "033b9b1e26a54a0d87bc69009b0fc24e",
            "b9f4fa95332b4a528f9482d4e5181403",
            "d74373f65e624dc59074bff07c35db92",
            "d8f431a0002a41ccb41c7944c3d9247b",
            "abb0d74ebecb4ecab1f3c60db2de7299",
            "6fa01bce540c4b739129e50170151a27",
            "3fa433ab9abb43ff85c2c3c7617012de",
            "70af8778888c44d69029355f80fe3be5",
            "08a489e4445340b29aecad3fb345f7e1",
            "de1eb1ddc64941f3a9546e01610c53e5",
            "6915eccd1fdc4d169a8d97f3099cd9d1",
            "4f42890b09214191ae2dc7b4b5ecc610",
            "3611d58a068c4358a97ec301349ecee4",
            "ba7d6b1652c94d87993b2f1d2105753a",
            "6b1fab2930da422db196efa26f7d1a0d",
            "d55f823c31c14c5c8b2d604f8615929f",
            "8248a0ae988b4bf0a2c7c923e9c282f2",
            "ed9393f4dd4448e3a5443f9392cfa02a",
            "43b1c705046348f9898ae115deb02343",
            "13abb82b6ece4b669afcf51627670870",
            "9ea05992a621412c8cba9aca53222fe5",
            "e57088e7c1c1413a98462dd2bd1c589f",
            "129e2f9c0201491eae86788b5be6d108",
            "b83c84264c54419b9f59766cf33bb186",
            "7a6e5f4883e9425f8f6f73128f44e86c",
            "d2ea486eb5c648639a70dacd8dde3dcb",
            "2d0635dbd62a42bdb206a41b9d0c3820",
            "e3034330d69e47ba9853d57c1d50976d",
            "9abd60f825f24733b618f303f9279755",
            "03486b56d35d43aa80d80aae31d4116c",
            "09e9c875a99545828e18635bd48011c6",
            "a4a1ebcca19041488f06696d2ef4d8d2",
            "80a97dba159540048ae302876fb8e5e7",
            "9d8abf096e3c439182b0d337a5d95cda",
            "4354ef42a6f64fe7832351eb4899f0f9",
            "39899898001546c8a47d3ca1427c86f0",
            "7f8d7046c6c14375b98150d6c099ce92",
            "d485ffbb17984c159b64fe4d7d4d1b04",
            "1d6a2494a35f46f18fc3ae46bb0e85c5",
            "286497f3198146d0be819f6697b8bcba",
            "fdf58bd694fe4daa8fe96f766cbc433c",
            "62a7e12a94a44a8aba06f82c52304c85",
            "57b68c81aedd4fbc9f4964d9fe94d2e4",
            "dd1e980db2e6484b825517bf777088eb",
            "3c954328180b42ff92a7ed13380dfb76",
            "18b7f1e61d1641bcaefe3d1bdd520b77",
            "a610b3c680f8488c9fae0d5446a285ad",
            "28374e5171634cefbc3dc1a57cd1d33c",
            "36ba6a774845439899d5aa045cc0ae1d",
            "985f77ccd5dd4b139f8679417788ec3e",
            "57d4fe7d97b84d62991c0ad70a42d4e0",
            "60aa2024998e4435b5715d7f3c8db377",
            "c8c34f5f00d64cfcbd6fe8f37bb5ff5f",
            "84bff0e760014c04b625ae79a1208985",
            "130e2f3b22b042099927da4ce504bc60",
            "cbd8fa992df14257b6277ac49b544a4a",
            "b349b0d387e14742bc5cac9779b7af31",
            "32e05b9ccc364238a70a941782c0bc6d",
            "6eb39c0596cf44feb74123ebde5949f7",
            "b3458583315f4e5996bb22a5a2fd3d15",
            "f36dd20e2377443fb533a9f510c0eaf0",
            "64b2bc3ff97f4c79b86a570cfe4b96e9",
            "1353e12705694493a245b71b61399723",
            "4c17445c754f415b81c435c547f8720d",
            "0085e5098aae42a3b9652befdfebf6c5",
            "04bbefc0f415413a843685d03036401d",
            "4a879657e0884da198c3f4a1cccf60aa",
            "e8fc89f21b36464eb7746fbd33d6665a",
            "c9b03f20a30549f496455e37edd72171",
            "99212029081149329b1425c54f8efaa4",
            "4ffa9151a785412d9fff305015d7020e",
            "eb57fd88a8964ba1b7bed8dbb7bee848",
            "77fe17f37e184a9bb9f1aab2ef3959f4",
            "4e8e4b98815844f489d4c3cc78ab95c0",
            "84f562b3a26149be8b169fe4c9d8100f",
            "53f86c39341245baa7ca6fd74ecd9147",
            "cb19ae00ce7d459a8d66bbd4cec986b6",
            "77c314de36c7468e909dc9b5cf3d8ace",
            "7819cb83452642a5ae6141560cc5cb80",
            "2d5ca52afbba466db72c5b1807901266",
            "9b4025be38334bcfa4ed8fcc9cdee5bd",
            "d0fdacef993f4594817fc80365164b54",
            "2b233a1174df4b5a8e3985f11e827b69",
            "b66c6f58f0064e968d0e5a7f8da43e21",
            "94ce0b3ca5944f51bb67685b1ba71aab",
            "7e7a587b07df4add81661bdc269dfebb",
            "91d2dae9e3484b88adcd641d99e1deb2",
            "40b14545de2549179f1482ea2d734fe0",
            "edfc35d49a38407986baf480c3bbfdae",
            "9df7136125f14823be5e7f08ae83e224",
            "74c443646802410e8df671aef2fe7700",
            "85bf1e6cfae547789a7194c91a253aa4",
            "ff8eac9bf91d4e3e8a3174b489af683d",
            "3d6e49c949374a2b83531e17c475299d",
            "92d5a63e7fe246f286306be055720476",
            "80e75c6e2e22423dbb168e9be571975c",
            "f595255e9ff74dde8d81f6662c2b5c90",
            "d60a8ce1c511495faff5ad2c0f414163",
            "36d5300666914d559b72fbdcc10a3d4c",
            "f4aba1af8bc04ef7bb6664aeee33a07f",
            "78ccd4c0063a46d5b73ec5cea2c26425",
            "922a30563c4b4da1aa33037d8fdf94b9",
            "8405c55fd4d447238da0e44f05e077cd",
            "904f3dd5faca42299cabd885a143bdcf",
            "0599e0b8c47341c4aeecca41def33aa8",
            "a3328549728b49a5bc6651fd97d849e2",
            "5492104bafaf45a989d8a889ca744144",
            "17a71f7e0a04405c9ff2b7b56f2396cf",
            "ff99e04524d04b80a9594a8657f4eda5",
            "68cab414d2fb490facb07448dec648f5",
            "14bf988814a3438c937f768091c3afa8",
            "acb9fff62ac34093b0ff36c38334f808",
            "3cf1c9c3193248f68395537a6a0210d5",
            "4a45718564de4bba9cd7fc81dcc8cebb",
            "99668eaab2a0437bba913d017f21bb43",
            "3905fa0895c2443aa123827cf78f58be",
            "9d05391026ec4fce8495d8843bb17df4",
            "fc32a37a7a5f4229931c4e4e625a3828",
            "68e58e1f1d1042359c273b788e1dc08f",
            "02d56b5ba47f4da98bd860d831589b8e",
            "1c62299e0ed0430eb9f935f453b96cb3",
            "34ab68525e4c4df7a5c0e7249effdebe",
            "978eafa77ff841cca50e5209e84f56e1",
            "5d908efd0d964ba1a6880eb2300b557d",
            "ab4600413d00441a96f3262e8ad7e59f",
            "df9ebea6574140229aa23694e3a250ed",
            "1d85fb4346a54739b62b6ce9e27a7ed3",
            "a6337a9e122c4281a77836f29ffb08b6",
            "cd52647abdab47558183e2e082670bc8",
            "b4c49e3e930641bbb1d71e801c1dbef5",
            "d49bbab9e4ea4ac09b5e9430eebe7629",
            "185f818fda2e473e9abbbd7684df6e98",
            "816c4dbef31a4fa6a4d0ceac0052b468",
            "ee17927fd7554fd58b46ec6f1c998631",
            "14b336fd453648d096d8b801e8ecf19d",
            "6f519324e8b046629b15d83232780541",
            "aabec118b84349ad9a43517d76ff4134",
            "ca766f7634b14583b27ce143e8b97f84",
            "d75af458fcd64404a95dd8126ebebc51",
            "a8a4ab4005f740bf8d50b296c5ebe78a",
            "f8f90af623824331a139cc52cd2f6902",
            "c0ac8a40bd594aaf95129de31d685961",
            "bb0ce167c5604682afa882557caf8b7d",
            "0c36a3d1eb1a4f47934c8e0c262ba872",
            "0cb2eb80206448a8bc3d98990c565e62",
            "6c8cd897a4464beb92acb87d1e2438f3",
            "a6e6c8f3087f4a9f818dd3759bbf7e02",
            "d55642f947114b39b065a6fb15919138",
            "4bf14fcea53a4f3aa001daf3ceb009f5",
            "da3baabdf21c470d96ad5f9d5518b7b9",
            "46e516caf3ee4dbb929b5a055292618d",
            "8206e2417ff04cb4bc00aee92286d725",
            "d29bbc4ee44e462e8d6b06f30f8b4d17",
            "72eb405347f64e08b35fbed38991983a",
            "1d6d1c54521e4337aaca13c6efd419ff",
            "938f15a5303f4c839a0b4d0d44076208",
            "af7deb49da564a3c833b9da1c5a5dc0d",
            "85ab6a3d3b05402ea03f93a24197f033",
            "0dfc1619dc9e403b8d3024a8bb1c4205",
            "f2bf97af6b30451b948ebbdf6fb37294",
            "2e235aaad6c54fc094b1ae3c0bc92ad5",
            "55268df20efb4a5f80e01a8f7df9f814",
            "76fe963b8b4b420bb9883a2668821d1c",
            "76385f1d7e4f472db02e8cc57bd86c20",
            "506eebbcac254ceab8e7d758d1d04317",
            "0e1b9a73eff9450b94f35dde9562705d",
            "73c9f8c7098640ac883401a55b3ef189",
            "6d7a2474e116496c927fcebb61dd6eaf",
            "ee4e318f243d4b6a88eb5f872a259604",
            "57bb85df2df842c1970e72d576c23e77",
            "dbc36adbb5714a7087bda8a130021263",
            "3befaf5fd3224c0b8cd127495a6b2604",
            "5a009a57bef646859fbb14d2527b2f2c",
            "e29234d4e01243a69aaf58d1a66a115f",
            "ccc4220b77884ae5a98696b79c7a7868",
            "8f86c3997db24159bcba3dad247fbf92",
            "f0557169a67d43ed8f2bffc1e8b12262",
            "f3f81a63770a4d3dadc4f36c5aba9d6b",
            "a5dc426f794448a198840bcb0135583b",
            "a3bed14f6ff84efbbac51441a34d7f90",
            "05a1c6ec5f7548f1b61e290ac88c48d2",
            "b28bd741b7214df6a21cc91cbed37e8f",
            "7a918f8f0a174b57a41328b99328a54f",
            "59e1162e76ba4715bac96130cd4c12cb",
            "1208d8c3d60b4cce9d40ef0753c83eea",
            "df2e17fa79d4488b8e760d6c28693b6d",
            "6d5b98d6df4440c5a5a875966e7632ec",
            "751ba56c998d4637a3aff77191260256",
            "4b1897356c0c44eb9a973b4aa6666bfc",
            "c07fcad816784fae9a88030d016ddfd6",
            "08c14fb5967c4e1fadaed9717e238df4",
            "77116023d876415f915bfe677f5d5df6",
            "0d8fc0e3e70246e582cd3d3edb9bcf7f",
            "7ca7d2f0f37746c6a85685f01df89a38",
            "f9ab8c842ab54f0d910726b59a78c15f",
            "2139f65055ab4bdfa0ef6921b35df74f",
            "472bb05eee094c51952fa0f26460f1f6",
            "b8caab5d731649cbb2baf14f8a9c884d",
            "38bc635d6b7b423bba319c55330a622e",
            "69e3468e7bb148478090959c3b99480f",
            "2fb0ddf826dc499d920c3fe610f6ee9d",
            "6f837ad2e82046fbb56905149a020de9",
            "5f83d09b2598443ebbebd274a0521aca",
            "4627cb6a7edd4caba8c92adc647cbfb2",
            "be72a9f8d5ae4290a156655982fecf74",
            "b55a8e806efe40349c5d9a98e7b1a8ac",
            "f31b5305d8784830a0614040f282d65f",
            "96cb420605e543feb700df02d0732435",
            "53ffd6e8033549a9b3a15e9e505542e6",
            "c6ed98169e59451db783611f783f7907",
            "9f922bc166b44f1ca2975827948add5d",
            "00453e85fc724aa8be100c521939c5bd",
            "41eaf7b1a9f84a45828dd035e0338319",
            "b40f4006559244feb797255c4b142aaf",
            "b23ceff50c4a4b23bc34622007c4c1a9",
            "b66b1d1314214232858940b10263b1bc",
            "dcd6e2186e75462dbb964ad73d7d1fd0",
            "13ef8a8d61bf4aca845896aee7539acb",
            "c24931b3687c4c0db56f7fe169ca84b4",
            "90cc74bd2d4546a996547c2b9b9ca546",
            "7f6f4ed0f60b4c4b8574e7a313c7afcd",
            "c882083ca16c4e4abc63648d98be2291",
            "b963bb2a078e4dab88fcd0beb1cf1295",
            "6eb22095c578405b86ede74a7caf5e08",
            "230402a7950b44d28bcc225ad45c9d08",
            "e5507796d6d3492684416ddf62ea2236",
            "78ec4f33bc2441c98800a4ea7309e6e5",
            "5a345fc81562499894613ba736b04d91",
            "4f9fada712f44168ab589fd04c39101b",
            "01d8e868fa3f4032b2c5afc8e728dd89",
            "bdd1533b42d74b219ea2040f6d47f51f",
            "ff214082a7eb4a609fcf3d3cfc1b0345",
            "c30673228f564fb68f800cee9b772c8c",
            "6935698f162048f1b06a7c70554b92f2",
            "171a273e3cb44abb9db999bd2d6856e2",
            "c04deb32398a4c45844a579d12b762bf",
            "81c3f2fa523b4bb290c900309823ae3e",
            "7307d621a5b8454e91e02eea59581192",
            "7cbd6e9d71e446188ca4c6cbbb1a74ef",
            "636bedff522643b9a0b93e279f985816",
            "0bbdf71aafd545c1a686ef71b3f1b481",
            "2125347bf6e643db8a06ed1d54ff066a",
            "86666df0d7cb443584d0279a25d3a2ac",
            "75ad291cdcbb43b3be596cbb805d14b6",
            "8ee20185e0514480a370e1db4a536180",
            "ffa1f1fa91dd4c008dee841757f3fcf7",
            "3260dd0430e84856908bc5d8507faa99",
            "5fd5f2bdd7154248a9c65d6211c8c0d7",
            "7711746733604446bb89fe2eb1e83033",
            "6225b0b4c95e42b6882afac7f18c000c",
            "2cace83017ee4d559075c1d6e60e6df7",
            "178c04ea317f4be7a4e23a2ca5f704ee",
            "b712b0c349474ccebca02bb725f7bc1b",
            "e50c91e0998646eaae306f9297a06ae6",
            "8aa7bcf0828c4a7885f5e24d30e74fbe",
            "46f7f37fb2674d4ab737d999cb97b7a0",
            "c767daaf485648aab8c6aaeacbf9e933",
            "42fb0a6c248d44d7b0c3f18b7d714e5e",
            "eaf54aac0477449bae19d10503a4242c",
            "c248ee1df7fe429e8953a11e0cb55ef2",
            "b9badda52fb640ba96f69536cd5af1e2",
            "608c2cc1a5454b85a5e109b78e5952b3",
            "a23100c48bc14e72b1516d5e11e46ed5",
            "f4cfc610bec2477e8e9d38089a3af360",
            "72e471b8a5d2412987b3680b2da2d52f",
            "2b683eaff9d148afab8b7e6745123619",
            "c2adad9f51354c0395aab58586c6aea1",
            "fedea59b3a5f43ab8aac7e774342c777",
            "66005ba1061d4a0abac89af60bac1f38",
            "8c7f3c0914214868be1c6be76959d62e",
            "524a6708acd74a10bafdf2f3d91584b8",
            "d8787360379c4872b69874c53c41b60b",
            "83e4ea51c4d34af0ad10f8fd00914dec",
            "a72e4b1d6a424f4e8df39adc70f868af",
            "c3dc0595e31847079e27ab51a23a2510",
            "e6bf9342c3404c638ef88e4af2070e7a",
            "48c932815223481db9704b489dc7e802",
            "f5440527780c47dfa08ac333573630bc",
            "3c6f2449fbfc4b88852c27383a456575",
            "4c06b5009dd04875bb0f97f39e2be2b8",
            "839d6886678b45bfa58a1bffc0219243",
            "9e6856f47ea3487fbc5f1e0498cdd278",
            "01302307a92a4de39daa4d153c2186ed",
            "55fbbaf9ea404c3e95ed4cfbe8632d35",
            "be0d342e508947c39493f2a04e4bbb95",
            "9bf129c676824c82b6d26d20d5c560d3",
            "309e550147e5429e9160eea05ab6b348",
            "a24c730747424530a5d350367f605818",
            "86cd692ee62943338f096a4b65cbf521",
            "a255bf80002548cda461dbc136022f34",
            "9e34e513f5784deca59a1673afa2d664",
            "987e955b5ff94ca9810563970bb703ef",
            "548cdc33420d496c82f8bf7cf8c4c815",
            "dbe50b4b7f1e436a87cca674915dd47b",
            "e6ff920087ca4fdcabd1e5d6d88f5b7f",
            "24d7e6b0ae9c483a8aecf8b77966426e",
            "ad4fb75c0c5d47db98eaa15d0052e4d0",
            "a368e36361e94fd29a25d6ec4b6d93af",
            "642decd7fd404bf886a223dc377c55fe",
            "fc62ecd8de7944a8a7e873b27e52eb8e",
            "27f81132b221426ea7fc8cb90c1847ce",
            "f37813217555415dbe0ea32f9167d6ad",
            "87e79a9bbf924bc584117d3454267b96",
            "1966eaa25cdf47c8ad5a76a4476faa59",
            "588e28883d3945388df0b2e04d235f3e",
            "9c89f1908b1441f9824da747082c7a56",
            "33ec37053f4444b198564cc023c4ce3b",
            "0b529f1459d74d65b20cf4c230e107cb",
            "8f4cae4ff70343978646f343b84c22de",
            "63fe766e536a4a6c85f10281408fd6e3",
            "cf506e3ef86f4c8d921f3c933168a39d",
            "1214db3fcdec4adcb427fc9d0260919f",
            "0380b1003620407b990c614ad32f54f5",
            "dfb4db14386049b9a9d4b1fda6e6884d",
            "fe2067f8789845efb72c1b97c521b2c0",
            "4a9df2afabcd4a368e9313744903b8cf",
            "64c53219522341b98288e36b12ed7c27",
            "3ed9bd3118154589858fff8aa8b3f613",
            "3c590fb278c043459a51861a325d6fa4",
            "146b70e455834087a4cf6c37cb155537",
            "b9722afc8156482083cca09cc7c5bc75",
            "fc44bdb53316477db796e0e1a3885488",
            "c4131361c09f41ad90e64e4b714be54c",
            "1a157c9884f24b76a6dc0be1f04bf9aa",
            "4c9dd6a0fd614e7d9189087699dfb96e",
            "685b28f9d6b8466da423a9cb0d420d2a",
            "cef8f90c0fbe4b60a48dc3e9678f01fa",
            "00d74ca609e749f689ab756ef538b29c",
            "9e4b278495de46cd95ee2d3fc1d4015b",
            "511df310f3d5496283310c9264c65083",
            "470a81111a044d3eaa9307d3e9c61427",
            "23af660fd2104f9097cb4123aa2757fe",
            "03389a3b938547d1923079db6a487a19",
            "2cab9f4a093b45afbf9a51bd411fc07d",
            "e4a2187251db4aa19ec038d7317baee7",
            "6fdba1bebe2c4d188f898863afe42d50",
            "d5b251faa55d431abced52df9b3286fe",
            "abd2dd01693f43ba97adddbdabf77da2",
            "93fdb7438a574778a9e6cc9ea3ac44a3",
            "112aa80b4cc8481db7d08e253f0e8cc7",
            "4d88bb5ed352460299a4433c294809e4",
            "d59e16a1571b43b186f72576d41137ca",
            "71a7144decfb455cb0961256d994e307",
            "318fa0e20eae4ec7a76966268c9befa9",
            "723ba1da97624127a5b7e83221e98a2e",
            "04e949a806cb4d65999b8f1da96d3fa9",
            "91ecfdb1c921488fa16844d9af269e98",
            "db106b84ec884ed89c19b3a3c514f531",
            "74685c2287284144954bbdb666de7af5",
            "c27c2566f0d24257b3b65aeba569eb83",
            "9dded485b677431bb81310358ead55ba",
            "dfbfbf69824247f790865a8a28886a6e",
            "cfb26f4778a140c48a8590f9dcba25f3",
            "d74b5ee302e8498d98216bdc8c86605a",
            "bedde8e5232247ab80f844d939e4fb23",
            "ba35f1327862403190e1795a8179eb4d",
            "b8d637b1f5364c928a2c569e57a577ce",
            "7442679877004c0a9ee2a87d2b49cb51",
            "545aa871a2bd4001bc36e07c5e4902e0",
            "e2983cde65a84871b111f97ee5309c45",
            "0912cafd4b8148f5a122a2f221b85ca1",
            "0ed70223b0214f1a8333ac8d624e19f9",
            "2a4f6f64cfa24db7aa9598c937d2f159",
            "1f7093f8acc3401c8095534ac2e17b64",
            "da8a83b505f042c8be8107da0f615ff2",
            "abdeeb325efc4c2395efd8afeb57f136",
            "31fa12b7f45844f988af4a1d214eb0c6",
            "10c9dcb69a1e40069d504ed27f522c94",
            "bccec38f3d1843c9beedb5b0c6566e9a",
            "07a3054c271d4742aa9c7ed108c656a0",
            "8ec73d5e68f74ac2a22f93cd33d05b6f",
            "dd1adbcab3944bea86d479d6910f94bf",
            "effab9968b6047feab02b3a09de1d9e4",
            "7287f572ef8446d5bad17a5540b5e821",
            "1b04f5f018464e6d91177bd92578d624",
            "8b9d86a047d2420f827b280809671d44",
            "06031ee320a349489f98424df901cb9b",
            "64daa915466d4539884fbec52a7c806e",
            "b16df14641804762af8922d17627a8eb",
            "0778f880e9524a51bd1d9e0aa2ad367b",
            "e572ff7e24124e7fb61fb43574ea1950",
            "ea654b9e30c54811b37f97c858e73c31",
            "d70779d3e0904098b748acc888fa4b99",
            "0c84df40ec10456e840b91b34d3ddf0b",
            "0ac53de6681b462fb538a8a51a48855a"
          ]
        },
        "id": "i3lFS3orCGYH",
        "outputId": "43d0052e-e258-4cbd-b3ed-24427be593e8"
      },
      "execution_count": 1,
      "outputs": [
        {
          "output_type": "stream",
          "name": "stdout",
          "text": [
            "INFO 06-13 17:57:11 [__init__.py:239] Automatically detected platform cuda.\n",
            "\n",
            "\n",
            "Initializing the Skill Extractor...\n"
          ]
        },
        {
          "output_type": "display_data",
          "data": {
            "text/plain": [
              "modules.json:   0%|          | 0.00/349 [00:00<?, ?B/s]"
            ],
            "application/vnd.jupyter.widget-view+json": {
              "version_major": 2,
              "version_minor": 0,
              "model_id": "642daeaf0ee44c06a1e055ea4d621dd6"
            }
          },
          "metadata": {}
        },
        {
          "output_type": "display_data",
          "data": {
            "text/plain": [
              "config_sentence_transformers.json:   0%|          | 0.00/116 [00:00<?, ?B/s]"
            ],
            "application/vnd.jupyter.widget-view+json": {
              "version_major": 2,
              "version_minor": 0,
              "model_id": "f22a4128a2a74ccba98962b7ef15af51"
            }
          },
          "metadata": {}
        },
        {
          "output_type": "display_data",
          "data": {
            "text/plain": [
              "README.md:   0%|          | 0.00/10.4k [00:00<?, ?B/s]"
            ],
            "application/vnd.jupyter.widget-view+json": {
              "version_major": 2,
              "version_minor": 0,
              "model_id": "a4f39e5b111643a190231d364b7308b9"
            }
          },
          "metadata": {}
        },
        {
          "output_type": "display_data",
          "data": {
            "text/plain": [
              "sentence_bert_config.json:   0%|          | 0.00/53.0 [00:00<?, ?B/s]"
            ],
            "application/vnd.jupyter.widget-view+json": {
              "version_major": 2,
              "version_minor": 0,
              "model_id": "2db22e7966eb48989c869aa06a3e928a"
            }
          },
          "metadata": {}
        },
        {
          "output_type": "display_data",
          "data": {
            "text/plain": [
              "config.json:   0%|          | 0.00/571 [00:00<?, ?B/s]"
            ],
            "application/vnd.jupyter.widget-view+json": {
              "version_major": 2,
              "version_minor": 0,
              "model_id": "de642b4244d04970a5e5c58c8e4e1a3f"
            }
          },
          "metadata": {}
        },
        {
          "output_type": "display_data",
          "data": {
            "text/plain": [
              "model.safetensors:   0%|          | 0.00/438M [00:00<?, ?B/s]"
            ],
            "application/vnd.jupyter.widget-view+json": {
              "version_major": 2,
              "version_minor": 0,
              "model_id": "7fc9ed0c3d464143a0c9e8e0d20bf7e3"
            }
          },
          "metadata": {}
        },
        {
          "output_type": "display_data",
          "data": {
            "text/plain": [
              "tokenizer_config.json:   0%|          | 0.00/363 [00:00<?, ?B/s]"
            ],
            "application/vnd.jupyter.widget-view+json": {
              "version_major": 2,
              "version_minor": 0,
              "model_id": "7290851a2176449488cfed319fdb3a2d"
            }
          },
          "metadata": {}
        },
        {
          "output_type": "display_data",
          "data": {
            "text/plain": [
              "vocab.txt:   0%|          | 0.00/232k [00:00<?, ?B/s]"
            ],
            "application/vnd.jupyter.widget-view+json": {
              "version_major": 2,
              "version_minor": 0,
              "model_id": "3f7c460be9cb4e1ea86369d0156e3711"
            }
          },
          "metadata": {}
        },
        {
          "output_type": "display_data",
          "data": {
            "text/plain": [
              "tokenizer.json:   0%|          | 0.00/466k [00:00<?, ?B/s]"
            ],
            "application/vnd.jupyter.widget-view+json": {
              "version_major": 2,
              "version_minor": 0,
              "model_id": "262bfb4044c645f7bfa9d05356c8b32d"
            }
          },
          "metadata": {}
        },
        {
          "output_type": "display_data",
          "data": {
            "text/plain": [
              "special_tokens_map.json:   0%|          | 0.00/239 [00:00<?, ?B/s]"
            ],
            "application/vnd.jupyter.widget-view+json": {
              "version_major": 2,
              "version_minor": 0,
              "model_id": "726d32724e044fe4984628203d81c2cb"
            }
          },
          "metadata": {}
        },
        {
          "output_type": "display_data",
          "data": {
            "text/plain": [
              "config.json:   0%|          | 0.00/190 [00:00<?, ?B/s]"
            ],
            "application/vnd.jupyter.widget-view+json": {
              "version_major": 2,
              "version_minor": 0,
              "model_id": "f1738d99159b4a229cd84871b976b081"
            }
          },
          "metadata": {}
        },
        {
          "output_type": "stream",
          "name": "stdout",
          "text": [
            "Loading ESCO skill taxonomy data...\n",
            "Loading FAISS index for ESCO skills...\n",
            "Error loading FAISS index: FAISS index file not found at /usr/local/lib/python3.11/dist-packages/laiser/input/esco_faiss_index.index. Please ensure the file exists.\n",
            "ESCO FAISS index not found. Building a new index on system memory...\n",
            "Embedding ESCO skills...\n"
          ]
        },
        {
          "output_type": "display_data",
          "data": {
            "text/plain": [
              "Batches:   0%|          | 0/436 [00:00<?, ?it/s]"
            ],
            "application/vnd.jupyter.widget-view+json": {
              "version_major": 2,
              "version_minor": 0,
              "model_id": "b6c342e74a904771bdaad518a97cb9b8"
            }
          },
          "metadata": {}
        },
        {
          "output_type": "stream",
          "name": "stdout",
          "text": [
            "Saving FAISS index to disk...\n",
            "FAISS index for ESCO skills built and saved for reusability.\n",
            "Found 'en_core_web_lg' model. Loading...\n",
            "Downloading 'en_core_web_lg' model...\n",
            "\u001b[38;5;2m✔ Download and installation successful\u001b[0m\n",
            "You can now load the package via spacy.load('en_core_web_lg')\n",
            "\u001b[38;5;3m⚠ Restart to reload dependencies\u001b[0m\n",
            "If you are in a Jupyter or Colab notebook, you may need to restart Python in\n",
            "order to load all the package's dependencies. You can do this by selecting the\n",
            "'Restart kernel' or 'Restart runtime' option.\n",
            "GPU is available. Using GPU for Large Language model initialization...\n"
          ]
        },
        {
          "output_type": "display_data",
          "data": {
            "text/plain": [
              "config.json:   0%|          | 0.00/1.50k [00:00<?, ?B/s]"
            ],
            "application/vnd.jupyter.widget-view+json": {
              "version_major": 2,
              "version_minor": 0,
              "model_id": "02c2235cc9c741cb9e15ce4340e180e5"
            }
          },
          "metadata": {}
        },
        {
          "output_type": "stream",
          "name": "stdout",
          "text": [
            "INFO 06-13 17:59:04 [config.py:717] This model supports multiple tasks: {'embed', 'reward', 'score', 'classify', 'generate'}. Defaulting to 'generate'.\n",
            "INFO 06-13 17:59:06 [gptq_bitblas.py:168] Detected that the model can run with gptq_bitblas, however you specified quantization=gptq explicitly, so forcing gptq. Use quantization=gptq_bitblas for faster inference\n",
            "WARNING 06-13 17:59:06 [config.py:830] gptq quantization is not fully optimized yet. The speed can be slower than non-quantized models.\n",
            "WARNING 06-13 17:59:06 [arg_utils.py:1658] Compute Capability < 8.0 is not supported by the V1 Engine. Falling back to V0. \n",
            "INFO 06-13 17:59:06 [llm_engine.py:240] Initializing a V0 LLM engine (v0.8.5.post1) with config: model='marcsun13/gemma-2-9b-it-GPTQ', speculative_config=None, tokenizer='marcsun13/gemma-2-9b-it-GPTQ', skip_tokenizer_init=False, tokenizer_mode=auto, revision=None, override_neuron_config=None, tokenizer_revision=None, trust_remote_code=False, dtype=torch.float16, max_seq_len=8192, download_dir=None, load_format=LoadFormat.AUTO, tensor_parallel_size=1, pipeline_parallel_size=1, disable_custom_all_reduce=False, quantization=gptq, enforce_eager=False, kv_cache_dtype=auto,  device_config=cuda, decoding_config=DecodingConfig(guided_decoding_backend='auto', reasoning_backend=None), observability_config=ObservabilityConfig(show_hidden_metrics=False, otlp_traces_endpoint=None, collect_model_forward_time=False, collect_model_execute_time=False), seed=None, served_model_name=marcsun13/gemma-2-9b-it-GPTQ, num_scheduler_steps=1, multi_step_stream_outputs=True, enable_prefix_caching=None, chunked_prefill_enabled=False, use_async_output_proc=True, disable_mm_preprocessor_cache=False, mm_processor_kwargs=None, pooler_config=None, compilation_config={\"splitting_ops\":[],\"compile_sizes\":[],\"cudagraph_capture_sizes\":[256,248,240,232,224,216,208,200,192,184,176,168,160,152,144,136,128,120,112,104,96,88,80,72,64,56,48,40,32,24,16,8,4,2,1],\"max_capture_size\":256}, use_cached_outputs=False, \n"
          ]
        },
        {
          "output_type": "display_data",
          "data": {
            "text/plain": [
              "tokenizer_config.json:   0%|          | 0.00/40.6k [00:00<?, ?B/s]"
            ],
            "application/vnd.jupyter.widget-view+json": {
              "version_major": 2,
              "version_minor": 0,
              "model_id": "37462220d0a6467a87f2ca8030ef1405"
            }
          },
          "metadata": {}
        },
        {
          "output_type": "display_data",
          "data": {
            "text/plain": [
              "tokenizer.model:   0%|          | 0.00/4.24M [00:00<?, ?B/s]"
            ],
            "application/vnd.jupyter.widget-view+json": {
              "version_major": 2,
              "version_minor": 0,
              "model_id": "725e2decb8bb45088ef2493741f60d6e"
            }
          },
          "metadata": {}
        },
        {
          "output_type": "display_data",
          "data": {
            "text/plain": [
              "tokenizer.json:   0%|          | 0.00/17.5M [00:00<?, ?B/s]"
            ],
            "application/vnd.jupyter.widget-view+json": {
              "version_major": 2,
              "version_minor": 0,
              "model_id": "16d9740aa6864892a94bd00eec801146"
            }
          },
          "metadata": {}
        },
        {
          "output_type": "display_data",
          "data": {
            "text/plain": [
              "special_tokens_map.json:   0%|          | 0.00/636 [00:00<?, ?B/s]"
            ],
            "application/vnd.jupyter.widget-view+json": {
              "version_major": 2,
              "version_minor": 0,
              "model_id": "b7161cd526eb442ca42f5ef1e089d5ec"
            }
          },
          "metadata": {}
        },
        {
          "output_type": "display_data",
          "data": {
            "text/plain": [
              "generation_config.json:   0%|          | 0.00/173 [00:00<?, ?B/s]"
            ],
            "application/vnd.jupyter.widget-view+json": {
              "version_major": 2,
              "version_minor": 0,
              "model_id": "7bc7e948d00f4f61889b5200b2643d1a"
            }
          },
          "metadata": {}
        },
        {
          "output_type": "stream",
          "name": "stdout",
          "text": [
            "INFO 06-13 17:59:10 [cuda.py:240] Cannot use FlashAttention-2 backend for Volta and Turing GPUs.\n",
            "INFO 06-13 17:59:10 [cuda.py:289] Using XFormers backend.\n",
            "INFO 06-13 17:59:11 [parallel_state.py:1004] rank 0 in world size 1 is assigned as DP rank 0, PP rank 0, TP rank 0\n",
            "INFO 06-13 17:59:11 [model_runner.py:1108] Starting to load model marcsun13/gemma-2-9b-it-GPTQ...\n",
            "WARNING 06-13 17:59:11 [xformers.py:398] XFormers does not support logits soft cap. Outputs may be slightly off.\n",
            "INFO 06-13 17:59:12 [weight_utils.py:265] Using model weights format ['*.safetensors']\n"
          ]
        },
        {
          "output_type": "display_data",
          "data": {
            "text/plain": [
              "model-00001-of-00002.safetensors:   0%|          | 0.00/4.98G [00:00<?, ?B/s]"
            ],
            "application/vnd.jupyter.widget-view+json": {
              "version_major": 2,
              "version_minor": 0,
              "model_id": "d5fca531d28f4cfa89a238da237fb3d7"
            }
          },
          "metadata": {}
        },
        {
          "output_type": "display_data",
          "data": {
            "text/plain": [
              "model-00002-of-00002.safetensors:   0%|          | 0.00/1.19G [00:00<?, ?B/s]"
            ],
            "application/vnd.jupyter.widget-view+json": {
              "version_major": 2,
              "version_minor": 0,
              "model_id": "caf2f9e57f764d4aa8a2e3c27bde5ae6"
            }
          },
          "metadata": {}
        },
        {
          "output_type": "stream",
          "name": "stdout",
          "text": [
            "INFO 06-13 18:05:01 [weight_utils.py:281] Time spent downloading weights for marcsun13/gemma-2-9b-it-GPTQ: 348.850452 seconds\n"
          ]
        },
        {
          "output_type": "display_data",
          "data": {
            "text/plain": [
              "model.safetensors.index.json:   0%|          | 0.00/134k [00:00<?, ?B/s]"
            ],
            "application/vnd.jupyter.widget-view+json": {
              "version_major": 2,
              "version_minor": 0,
              "model_id": "7b6e5426691246d88e3dbd611c5dbd81"
            }
          },
          "metadata": {}
        },
        {
          "output_type": "display_data",
          "data": {
            "text/plain": [
              "Loading safetensors checkpoint shards:   0% Completed | 0/2 [00:00<?, ?it/s]\n"
            ],
            "application/vnd.jupyter.widget-view+json": {
              "version_major": 2,
              "version_minor": 0,
              "model_id": "2a5027db9ed149f4afbcabf45e1855b5"
            }
          },
          "metadata": {}
        },
        {
          "output_type": "stream",
          "name": "stdout",
          "text": [
            "INFO 06-13 18:05:22 [loader.py:458] Loading weights took 21.01 seconds\n",
            "INFO 06-13 18:05:23 [model_runner.py:1140] Model loading took 5.7919 GiB and 371.023818 seconds\n",
            "INFO 06-13 18:05:37 [worker.py:287] Memory profiling takes 13.59 seconds\n",
            "INFO 06-13 18:05:37 [worker.py:287] the current vLLM instance can use total_gpu_memory (14.74GiB) x gpu_memory_utilization (0.90) = 13.27GiB\n",
            "INFO 06-13 18:05:37 [worker.py:287] model weights take 5.79GiB; non_torch_memory takes 0.02GiB; PyTorch activation peak memory takes 2.37GiB; the rest of the memory reserved for KV Cache is 5.08GiB.\n",
            "INFO 06-13 18:05:37 [executor_base.py:112] # cuda blocks: 990, # CPU blocks: 780\n",
            "INFO 06-13 18:05:37 [executor_base.py:117] Maximum concurrency for 8192 tokens per request: 1.93x\n",
            "INFO 06-13 18:05:41 [model_runner.py:1450] Capturing cudagraphs for decoding. This may lead to unexpected consequences if the model is not static. To run the model in eager mode, set 'enforce_eager=True' or use '--enforce-eager' in the CLI. If out-of-memory error occurs during cudagraph capture, consider decreasing `gpu_memory_utilization` or switching to eager mode. You can also reduce the `max_num_seqs` as needed to decrease memory usage.\n"
          ]
        },
        {
          "output_type": "display_data",
          "data": {
            "text/plain": [
              "Capturing CUDA graph shapes:   0%|          | 0/35 [00:00<?, ?it/s]"
            ],
            "application/vnd.jupyter.widget-view+json": {
              "version_major": 2,
              "version_minor": 0,
              "model_id": "524a7b21cc7542b3820ba7f8be18e914"
            }
          },
          "metadata": {}
        },
        {
          "output_type": "stream",
          "name": "stdout",
          "text": [
            "INFO 06-13 18:07:23 [model_runner.py:1592] Graph capturing finished in 103 secs, took 0.53 GiB\n",
            "INFO 06-13 18:07:23 [llm_engine.py:437] init engine (profile, create kv cache, warmup model) took 120.92 seconds\n",
            "The Skill Extractor has been initialized successfully!\n",
            "\n",
            "\n",
            "\n",
            "Loading a sample dataset of 50 jobs...\n",
            "The sample jobs dataset has been loaded successfully!\n",
            "\n",
            "The sample dataset has been filtered successfully!\n",
            "\n",
            "Head of the sample:\n",
            "                                          description  job_id\n",
            "1  \\nJob description\\nAre you interested in worki...       2\n",
            "2  \\nJob description\\nWeb Developer (Programmer)\\...       3\n"
          ]
        },
        {
          "output_type": "display_data",
          "data": {
            "text/plain": [
              "Processed prompts:   0%|          | 0/1 [00:00<?, ?it/s, est. speed input: 0.00 toks/s, output: 0.00 toks/s]"
            ],
            "application/vnd.jupyter.widget-view+json": {
              "version_major": 2,
              "version_minor": 0,
              "model_id": "d6c6378f692f4952a2ef239ee5480156"
            }
          },
          "metadata": {}
        },
        {
          "output_type": "display_data",
          "data": {
            "text/plain": [
              "Processed prompts:   0%|          | 0/1 [00:00<?, ?it/s, est. speed input: 0.00 toks/s, output: 0.00 toks/s]"
            ],
            "application/vnd.jupyter.widget-view+json": {
              "version_major": 2,
              "version_minor": 0,
              "model_id": "b7e7ec53126d4503a00311a54518dd39"
            }
          },
          "metadata": {}
        },
        {
          "output_type": "display_data",
          "data": {
            "text/plain": [
              "Processed prompts:   0%|          | 0/1 [00:00<?, ?it/s, est. speed input: 0.00 toks/s, output: 0.00 toks/s]"
            ],
            "application/vnd.jupyter.widget-view+json": {
              "version_major": 2,
              "version_minor": 0,
              "model_id": "16dfe7513a5e459e887433fd32276735"
            }
          },
          "metadata": {}
        },
        {
          "output_type": "display_data",
          "data": {
            "text/plain": [
              "Processed prompts:   0%|          | 0/1 [00:00<?, ?it/s, est. speed input: 0.00 toks/s, output: 0.00 toks/s]"
            ],
            "application/vnd.jupyter.widget-view+json": {
              "version_major": 2,
              "version_minor": 0,
              "model_id": "b277e04723ab4282acbaaeab7cf83a82"
            }
          },
          "metadata": {}
        },
        {
          "output_type": "display_data",
          "data": {
            "text/plain": [
              "Processed prompts:   0%|          | 0/1 [00:00<?, ?it/s, est. speed input: 0.00 toks/s, output: 0.00 toks/s]"
            ],
            "application/vnd.jupyter.widget-view+json": {
              "version_major": 2,
              "version_minor": 0,
              "model_id": "e5d8fe9cb48f4b3bb8d10267f08f2f1c"
            }
          },
          "metadata": {}
        },
        {
          "output_type": "display_data",
          "data": {
            "text/plain": [
              "Processed prompts:   0%|          | 0/1 [00:00<?, ?it/s, est. speed input: 0.00 toks/s, output: 0.00 toks/s]"
            ],
            "application/vnd.jupyter.widget-view+json": {
              "version_major": 2,
              "version_minor": 0,
              "model_id": "5fc722078d97489eb26d56d72086cec3"
            }
          },
          "metadata": {}
        },
        {
          "output_type": "display_data",
          "data": {
            "text/plain": [
              "Processed prompts:   0%|          | 0/1 [00:00<?, ?it/s, est. speed input: 0.00 toks/s, output: 0.00 toks/s]"
            ],
            "application/vnd.jupyter.widget-view+json": {
              "version_major": 2,
              "version_minor": 0,
              "model_id": "fdacae48268f4f65a5c47c8881c748e3"
            }
          },
          "metadata": {}
        },
        {
          "output_type": "display_data",
          "data": {
            "text/plain": [
              "Processed prompts:   0%|          | 0/1 [00:00<?, ?it/s, est. speed input: 0.00 toks/s, output: 0.00 toks/s]"
            ],
            "application/vnd.jupyter.widget-view+json": {
              "version_major": 2,
              "version_minor": 0,
              "model_id": "9fb01c61bb4f4e7c9df5aa20ef8be3dd"
            }
          },
          "metadata": {}
        },
        {
          "output_type": "display_data",
          "data": {
            "text/plain": [
              "Processed prompts:   0%|          | 0/1 [00:00<?, ?it/s, est. speed input: 0.00 toks/s, output: 0.00 toks/s]"
            ],
            "application/vnd.jupyter.widget-view+json": {
              "version_major": 2,
              "version_minor": 0,
              "model_id": "59de2cb097994a14a3b4dac49dce0bdd"
            }
          },
          "metadata": {}
        },
        {
          "output_type": "display_data",
          "data": {
            "text/plain": [
              "Processed prompts:   0%|          | 0/1 [00:00<?, ?it/s, est. speed input: 0.00 toks/s, output: 0.00 toks/s]"
            ],
            "application/vnd.jupyter.widget-view+json": {
              "version_major": 2,
              "version_minor": 0,
              "model_id": "cfd3a1f3e855466ab2c1346d936db914"
            }
          },
          "metadata": {}
        },
        {
          "output_type": "display_data",
          "data": {
            "text/plain": [
              "Processed prompts:   0%|          | 0/1 [00:00<?, ?it/s, est. speed input: 0.00 toks/s, output: 0.00 toks/s]"
            ],
            "application/vnd.jupyter.widget-view+json": {
              "version_major": 2,
              "version_minor": 0,
              "model_id": "f1ad5f2a94884cfaba98aeec87b4c606"
            }
          },
          "metadata": {}
        },
        {
          "output_type": "display_data",
          "data": {
            "text/plain": [
              "Processed prompts:   0%|          | 0/1 [00:00<?, ?it/s, est. speed input: 0.00 toks/s, output: 0.00 toks/s]"
            ],
            "application/vnd.jupyter.widget-view+json": {
              "version_major": 2,
              "version_minor": 0,
              "model_id": "1915f0ccff37452f8b59913fb5d59b55"
            }
          },
          "metadata": {}
        },
        {
          "output_type": "display_data",
          "data": {
            "text/plain": [
              "Processed prompts:   0%|          | 0/1 [00:00<?, ?it/s, est. speed input: 0.00 toks/s, output: 0.00 toks/s]"
            ],
            "application/vnd.jupyter.widget-view+json": {
              "version_major": 2,
              "version_minor": 0,
              "model_id": "193e41b57fd54f01a33e6e23d478adf2"
            }
          },
          "metadata": {}
        },
        {
          "output_type": "display_data",
          "data": {
            "text/plain": [
              "Processed prompts:   0%|          | 0/1 [00:00<?, ?it/s, est. speed input: 0.00 toks/s, output: 0.00 toks/s]"
            ],
            "application/vnd.jupyter.widget-view+json": {
              "version_major": 2,
              "version_minor": 0,
              "model_id": "aec3dd2a4462432694781de95851f1d2"
            }
          },
          "metadata": {}
        },
        {
          "output_type": "display_data",
          "data": {
            "text/plain": [
              "Processed prompts:   0%|          | 0/1 [00:00<?, ?it/s, est. speed input: 0.00 toks/s, output: 0.00 toks/s]"
            ],
            "application/vnd.jupyter.widget-view+json": {
              "version_major": 2,
              "version_minor": 0,
              "model_id": "e388ea167e1240e7ba798c9779a17a6d"
            }
          },
          "metadata": {}
        },
        {
          "output_type": "display_data",
          "data": {
            "text/plain": [
              "Processed prompts:   0%|          | 0/1 [00:00<?, ?it/s, est. speed input: 0.00 toks/s, output: 0.00 toks/s]"
            ],
            "application/vnd.jupyter.widget-view+json": {
              "version_major": 2,
              "version_minor": 0,
              "model_id": "611d034639bf46cc8cd87d877afab2d7"
            }
          },
          "metadata": {}
        },
        {
          "output_type": "display_data",
          "data": {
            "text/plain": [
              "Processed prompts:   0%|          | 0/1 [00:00<?, ?it/s, est. speed input: 0.00 toks/s, output: 0.00 toks/s]"
            ],
            "application/vnd.jupyter.widget-view+json": {
              "version_major": 2,
              "version_minor": 0,
              "model_id": "2d9edecb7a2c43b9a32a3e452049d92e"
            }
          },
          "metadata": {}
        },
        {
          "output_type": "display_data",
          "data": {
            "text/plain": [
              "Processed prompts:   0%|          | 0/1 [00:00<?, ?it/s, est. speed input: 0.00 toks/s, output: 0.00 toks/s]"
            ],
            "application/vnd.jupyter.widget-view+json": {
              "version_major": 2,
              "version_minor": 0,
              "model_id": "ae1896c6e960471f99e292c8aa70d8dc"
            }
          },
          "metadata": {}
        },
        {
          "output_type": "display_data",
          "data": {
            "text/plain": [
              "Processed prompts:   0%|          | 0/1 [00:00<?, ?it/s, est. speed input: 0.00 toks/s, output: 0.00 toks/s]"
            ],
            "application/vnd.jupyter.widget-view+json": {
              "version_major": 2,
              "version_minor": 0,
              "model_id": "c1c13d2d3e6147999e277a8da6f4ebc0"
            }
          },
          "metadata": {}
        },
        {
          "output_type": "display_data",
          "data": {
            "text/plain": [
              "Processed prompts:   0%|          | 0/1 [00:00<?, ?it/s, est. speed input: 0.00 toks/s, output: 0.00 toks/s]"
            ],
            "application/vnd.jupyter.widget-view+json": {
              "version_major": 2,
              "version_minor": 0,
              "model_id": "ecc29197296547d1bb1d795f31cba3bf"
            }
          },
          "metadata": {}
        },
        {
          "output_type": "display_data",
          "data": {
            "text/plain": [
              "Processed prompts:   0%|          | 0/1 [00:00<?, ?it/s, est. speed input: 0.00 toks/s, output: 0.00 toks/s]"
            ],
            "application/vnd.jupyter.widget-view+json": {
              "version_major": 2,
              "version_minor": 0,
              "model_id": "4e7244725c334c0183aa61dda9fd090c"
            }
          },
          "metadata": {}
        },
        {
          "output_type": "display_data",
          "data": {
            "text/plain": [
              "Processed prompts:   0%|          | 0/1 [00:00<?, ?it/s, est. speed input: 0.00 toks/s, output: 0.00 toks/s]"
            ],
            "application/vnd.jupyter.widget-view+json": {
              "version_major": 2,
              "version_minor": 0,
              "model_id": "d0fbecaf1ea84d269b9af70bc7b04516"
            }
          },
          "metadata": {}
        },
        {
          "output_type": "display_data",
          "data": {
            "text/plain": [
              "Processed prompts:   0%|          | 0/1 [00:00<?, ?it/s, est. speed input: 0.00 toks/s, output: 0.00 toks/s]"
            ],
            "application/vnd.jupyter.widget-view+json": {
              "version_major": 2,
              "version_minor": 0,
              "model_id": "8a8ed6caad2a4369a7cd2a5fdf553d3b"
            }
          },
          "metadata": {}
        },
        {
          "output_type": "display_data",
          "data": {
            "text/plain": [
              "Processed prompts:   0%|          | 0/1 [00:00<?, ?it/s, est. speed input: 0.00 toks/s, output: 0.00 toks/s]"
            ],
            "application/vnd.jupyter.widget-view+json": {
              "version_major": 2,
              "version_minor": 0,
              "model_id": "cd68e58b9f2444c5944e611c6397983b"
            }
          },
          "metadata": {}
        },
        {
          "output_type": "display_data",
          "data": {
            "text/plain": [
              "Processed prompts:   0%|          | 0/1 [00:00<?, ?it/s, est. speed input: 0.00 toks/s, output: 0.00 toks/s]"
            ],
            "application/vnd.jupyter.widget-view+json": {
              "version_major": 2,
              "version_minor": 0,
              "model_id": "6d313f3181274c1e85f21f99e14844d2"
            }
          },
          "metadata": {}
        },
        {
          "output_type": "display_data",
          "data": {
            "text/plain": [
              "Processed prompts:   0%|          | 0/1 [00:00<?, ?it/s, est. speed input: 0.00 toks/s, output: 0.00 toks/s]"
            ],
            "application/vnd.jupyter.widget-view+json": {
              "version_major": 2,
              "version_minor": 0,
              "model_id": "a9075dd425d146ffbb5728c9ebaa08f6"
            }
          },
          "metadata": {}
        },
        {
          "output_type": "display_data",
          "data": {
            "text/plain": [
              "Processed prompts:   0%|          | 0/1 [00:00<?, ?it/s, est. speed input: 0.00 toks/s, output: 0.00 toks/s]"
            ],
            "application/vnd.jupyter.widget-view+json": {
              "version_major": 2,
              "version_minor": 0,
              "model_id": "373612fb0cd7480f85d95376f62a6a9d"
            }
          },
          "metadata": {}
        },
        {
          "output_type": "display_data",
          "data": {
            "text/plain": [
              "Processed prompts:   0%|          | 0/1 [00:00<?, ?it/s, est. speed input: 0.00 toks/s, output: 0.00 toks/s]"
            ],
            "application/vnd.jupyter.widget-view+json": {
              "version_major": 2,
              "version_minor": 0,
              "model_id": "cc35aaef56d14f58bf8dea7059b46e5a"
            }
          },
          "metadata": {}
        },
        {
          "output_type": "display_data",
          "data": {
            "text/plain": [
              "Processed prompts:   0%|          | 0/1 [00:00<?, ?it/s, est. speed input: 0.00 toks/s, output: 0.00 toks/s]"
            ],
            "application/vnd.jupyter.widget-view+json": {
              "version_major": 2,
              "version_minor": 0,
              "model_id": "5d08b4fce13247a8b0ec0984967b7206"
            }
          },
          "metadata": {}
        },
        {
          "output_type": "display_data",
          "data": {
            "text/plain": [
              "Processed prompts:   0%|          | 0/1 [00:00<?, ?it/s, est. speed input: 0.00 toks/s, output: 0.00 toks/s]"
            ],
            "application/vnd.jupyter.widget-view+json": {
              "version_major": 2,
              "version_minor": 0,
              "model_id": "5648a75bcbd24089aa40f97975b0786d"
            }
          },
          "metadata": {}
        },
        {
          "output_type": "display_data",
          "data": {
            "text/plain": [
              "Processed prompts:   0%|          | 0/1 [00:00<?, ?it/s, est. speed input: 0.00 toks/s, output: 0.00 toks/s]"
            ],
            "application/vnd.jupyter.widget-view+json": {
              "version_major": 2,
              "version_minor": 0,
              "model_id": "ad53329e499f4ae59b77cd503ec3f84a"
            }
          },
          "metadata": {}
        },
        {
          "output_type": "display_data",
          "data": {
            "text/plain": [
              "Processed prompts:   0%|          | 0/1 [00:00<?, ?it/s, est. speed input: 0.00 toks/s, output: 0.00 toks/s]"
            ],
            "application/vnd.jupyter.widget-view+json": {
              "version_major": 2,
              "version_minor": 0,
              "model_id": "2a8291eae0b7480d9dd3a3ed90f45ff3"
            }
          },
          "metadata": {}
        },
        {
          "output_type": "display_data",
          "data": {
            "text/plain": [
              "Processed prompts:   0%|          | 0/1 [00:00<?, ?it/s, est. speed input: 0.00 toks/s, output: 0.00 toks/s]"
            ],
            "application/vnd.jupyter.widget-view+json": {
              "version_major": 2,
              "version_minor": 0,
              "model_id": "abc0d0368ce546bc92dda4f541976815"
            }
          },
          "metadata": {}
        },
        {
          "output_type": "display_data",
          "data": {
            "text/plain": [
              "Processed prompts:   0%|          | 0/1 [00:00<?, ?it/s, est. speed input: 0.00 toks/s, output: 0.00 toks/s]"
            ],
            "application/vnd.jupyter.widget-view+json": {
              "version_major": 2,
              "version_minor": 0,
              "model_id": "fb3559efa399447e96117207113e3cf5"
            }
          },
          "metadata": {}
        },
        {
          "output_type": "display_data",
          "data": {
            "text/plain": [
              "Processed prompts:   0%|          | 0/1 [00:00<?, ?it/s, est. speed input: 0.00 toks/s, output: 0.00 toks/s]"
            ],
            "application/vnd.jupyter.widget-view+json": {
              "version_major": 2,
              "version_minor": 0,
              "model_id": "d1abe01517454066bc61461a27cbb141"
            }
          },
          "metadata": {}
        },
        {
          "output_type": "display_data",
          "data": {
            "text/plain": [
              "Processed prompts:   0%|          | 0/1 [00:00<?, ?it/s, est. speed input: 0.00 toks/s, output: 0.00 toks/s]"
            ],
            "application/vnd.jupyter.widget-view+json": {
              "version_major": 2,
              "version_minor": 0,
              "model_id": "9ab666b5c4fd4d7795a5c476d0b5e942"
            }
          },
          "metadata": {}
        },
        {
          "output_type": "display_data",
          "data": {
            "text/plain": [
              "Processed prompts:   0%|          | 0/1 [00:00<?, ?it/s, est. speed input: 0.00 toks/s, output: 0.00 toks/s]"
            ],
            "application/vnd.jupyter.widget-view+json": {
              "version_major": 2,
              "version_minor": 0,
              "model_id": "81dcdc23a48f457081f4dfd1d73824f0"
            }
          },
          "metadata": {}
        },
        {
          "output_type": "display_data",
          "data": {
            "text/plain": [
              "Processed prompts:   0%|          | 0/1 [00:00<?, ?it/s, est. speed input: 0.00 toks/s, output: 0.00 toks/s]"
            ],
            "application/vnd.jupyter.widget-view+json": {
              "version_major": 2,
              "version_minor": 0,
              "model_id": "fcabfabe59194e9dbb381a04b39dc287"
            }
          },
          "metadata": {}
        },
        {
          "output_type": "display_data",
          "data": {
            "text/plain": [
              "Processed prompts:   0%|          | 0/1 [00:00<?, ?it/s, est. speed input: 0.00 toks/s, output: 0.00 toks/s]"
            ],
            "application/vnd.jupyter.widget-view+json": {
              "version_major": 2,
              "version_minor": 0,
              "model_id": "80da7455d0f74b9eb2bc9b901aaada12"
            }
          },
          "metadata": {}
        },
        {
          "output_type": "display_data",
          "data": {
            "text/plain": [
              "Processed prompts:   0%|          | 0/1 [00:00<?, ?it/s, est. speed input: 0.00 toks/s, output: 0.00 toks/s]"
            ],
            "application/vnd.jupyter.widget-view+json": {
              "version_major": 2,
              "version_minor": 0,
              "model_id": "dab018ada5df4161b72bb1e72dce37d0"
            }
          },
          "metadata": {}
        },
        {
          "output_type": "display_data",
          "data": {
            "text/plain": [
              "Processed prompts:   0%|          | 0/1 [00:00<?, ?it/s, est. speed input: 0.00 toks/s, output: 0.00 toks/s]"
            ],
            "application/vnd.jupyter.widget-view+json": {
              "version_major": 2,
              "version_minor": 0,
              "model_id": "33d7dc7b492343eea765e372145f0c4f"
            }
          },
          "metadata": {}
        },
        {
          "output_type": "display_data",
          "data": {
            "text/plain": [
              "Processed prompts:   0%|          | 0/1 [00:00<?, ?it/s, est. speed input: 0.00 toks/s, output: 0.00 toks/s]"
            ],
            "application/vnd.jupyter.widget-view+json": {
              "version_major": 2,
              "version_minor": 0,
              "model_id": "22ac242d62524c3f9207a59496d919f0"
            }
          },
          "metadata": {}
        },
        {
          "output_type": "display_data",
          "data": {
            "text/plain": [
              "Processed prompts:   0%|          | 0/1 [00:00<?, ?it/s, est. speed input: 0.00 toks/s, output: 0.00 toks/s]"
            ],
            "application/vnd.jupyter.widget-view+json": {
              "version_major": 2,
              "version_minor": 0,
              "model_id": "191282a77b764f7692f94eea5e89fbb4"
            }
          },
          "metadata": {}
        },
        {
          "output_type": "display_data",
          "data": {
            "text/plain": [
              "Processed prompts:   0%|          | 0/1 [00:00<?, ?it/s, est. speed input: 0.00 toks/s, output: 0.00 toks/s]"
            ],
            "application/vnd.jupyter.widget-view+json": {
              "version_major": 2,
              "version_minor": 0,
              "model_id": "8b8062ac514443b98f7c1cf9ecbbed5c"
            }
          },
          "metadata": {}
        },
        {
          "output_type": "display_data",
          "data": {
            "text/plain": [
              "Processed prompts:   0%|          | 0/1 [00:00<?, ?it/s, est. speed input: 0.00 toks/s, output: 0.00 toks/s]"
            ],
            "application/vnd.jupyter.widget-view+json": {
              "version_major": 2,
              "version_minor": 0,
              "model_id": "5a61cd4e7f2447869ea68a285e0bdce7"
            }
          },
          "metadata": {}
        },
        {
          "output_type": "display_data",
          "data": {
            "text/plain": [
              "Processed prompts:   0%|          | 0/1 [00:00<?, ?it/s, est. speed input: 0.00 toks/s, output: 0.00 toks/s]"
            ],
            "application/vnd.jupyter.widget-view+json": {
              "version_major": 2,
              "version_minor": 0,
              "model_id": "95a80f0797d447ac8ebaa031b2e61ca3"
            }
          },
          "metadata": {}
        },
        {
          "output_type": "display_data",
          "data": {
            "text/plain": [
              "Processed prompts:   0%|          | 0/1 [00:00<?, ?it/s, est. speed input: 0.00 toks/s, output: 0.00 toks/s]"
            ],
            "application/vnd.jupyter.widget-view+json": {
              "version_major": 2,
              "version_minor": 0,
              "model_id": "65219d6ebacb42409db1a9864352d81a"
            }
          },
          "metadata": {}
        },
        {
          "output_type": "display_data",
          "data": {
            "text/plain": [
              "Processed prompts:   0%|          | 0/1 [00:00<?, ?it/s, est. speed input: 0.00 toks/s, output: 0.00 toks/s]"
            ],
            "application/vnd.jupyter.widget-view+json": {
              "version_major": 2,
              "version_minor": 0,
              "model_id": "509a10c437d245aaba779efe5a4c1cf3"
            }
          },
          "metadata": {}
        },
        {
          "output_type": "display_data",
          "data": {
            "text/plain": [
              "Processed prompts:   0%|          | 0/1 [00:00<?, ?it/s, est. speed input: 0.00 toks/s, output: 0.00 toks/s]"
            ],
            "application/vnd.jupyter.widget-view+json": {
              "version_major": 2,
              "version_minor": 0,
              "model_id": "e13fa7a2b97b46978c3fb68aad8bec14"
            }
          },
          "metadata": {}
        },
        {
          "output_type": "display_data",
          "data": {
            "text/plain": [
              "Processed prompts:   0%|          | 0/1 [00:00<?, ?it/s, est. speed input: 0.00 toks/s, output: 0.00 toks/s]"
            ],
            "application/vnd.jupyter.widget-view+json": {
              "version_major": 2,
              "version_minor": 0,
              "model_id": "90080f6bfb9b4145b81b40e3d6d80d51"
            }
          },
          "metadata": {}
        },
        {
          "output_type": "display_data",
          "data": {
            "text/plain": [
              "Processed prompts:   0%|          | 0/1 [00:00<?, ?it/s, est. speed input: 0.00 toks/s, output: 0.00 toks/s]"
            ],
            "application/vnd.jupyter.widget-view+json": {
              "version_major": 2,
              "version_minor": 0,
              "model_id": "7106da3f101543ff85f6fadd6d939675"
            }
          },
          "metadata": {}
        },
        {
          "output_type": "display_data",
          "data": {
            "text/plain": [
              "Processed prompts:   0%|          | 0/1 [00:00<?, ?it/s, est. speed input: 0.00 toks/s, output: 0.00 toks/s]"
            ],
            "application/vnd.jupyter.widget-view+json": {
              "version_major": 2,
              "version_minor": 0,
              "model_id": "4c7d00232a764969b882dac2f5e339f2"
            }
          },
          "metadata": {}
        },
        {
          "output_type": "display_data",
          "data": {
            "text/plain": [
              "Processed prompts:   0%|          | 0/1 [00:00<?, ?it/s, est. speed input: 0.00 toks/s, output: 0.00 toks/s]"
            ],
            "application/vnd.jupyter.widget-view+json": {
              "version_major": 2,
              "version_minor": 0,
              "model_id": "7625e261c1d24833b642bd4163d02cc7"
            }
          },
          "metadata": {}
        },
        {
          "output_type": "display_data",
          "data": {
            "text/plain": [
              "Processed prompts:   0%|          | 0/1 [00:00<?, ?it/s, est. speed input: 0.00 toks/s, output: 0.00 toks/s]"
            ],
            "application/vnd.jupyter.widget-view+json": {
              "version_major": 2,
              "version_minor": 0,
              "model_id": "646caeae9f4c439592f6785f3fb27981"
            }
          },
          "metadata": {}
        },
        {
          "output_type": "display_data",
          "data": {
            "text/plain": [
              "Processed prompts:   0%|          | 0/1 [00:00<?, ?it/s, est. speed input: 0.00 toks/s, output: 0.00 toks/s]"
            ],
            "application/vnd.jupyter.widget-view+json": {
              "version_major": 2,
              "version_minor": 0,
              "model_id": "925db67eff2b4a63a65d44d7289adf44"
            }
          },
          "metadata": {}
        },
        {
          "output_type": "display_data",
          "data": {
            "text/plain": [
              "Processed prompts:   0%|          | 0/1 [00:00<?, ?it/s, est. speed input: 0.00 toks/s, output: 0.00 toks/s]"
            ],
            "application/vnd.jupyter.widget-view+json": {
              "version_major": 2,
              "version_minor": 0,
              "model_id": "3a792e81f1624a9d9c165b128d98b4e4"
            }
          },
          "metadata": {}
        },
        {
          "output_type": "display_data",
          "data": {
            "text/plain": [
              "Processed prompts:   0%|          | 0/1 [00:00<?, ?it/s, est. speed input: 0.00 toks/s, output: 0.00 toks/s]"
            ],
            "application/vnd.jupyter.widget-view+json": {
              "version_major": 2,
              "version_minor": 0,
              "model_id": "20fee9623f7247f99b8b2fca7b886fdc"
            }
          },
          "metadata": {}
        },
        {
          "output_type": "display_data",
          "data": {
            "text/plain": [
              "Processed prompts:   0%|          | 0/1 [00:00<?, ?it/s, est. speed input: 0.00 toks/s, output: 0.00 toks/s]"
            ],
            "application/vnd.jupyter.widget-view+json": {
              "version_major": 2,
              "version_minor": 0,
              "model_id": "9d8dc354c2934f07b7f8b0cf1f742fa6"
            }
          },
          "metadata": {}
        },
        {
          "output_type": "display_data",
          "data": {
            "text/plain": [
              "Processed prompts:   0%|          | 0/1 [00:00<?, ?it/s, est. speed input: 0.00 toks/s, output: 0.00 toks/s]"
            ],
            "application/vnd.jupyter.widget-view+json": {
              "version_major": 2,
              "version_minor": 0,
              "model_id": "dc398a57bd5b43a997af20c74954e73d"
            }
          },
          "metadata": {}
        },
        {
          "output_type": "display_data",
          "data": {
            "text/plain": [
              "Processed prompts:   0%|          | 0/1 [00:00<?, ?it/s, est. speed input: 0.00 toks/s, output: 0.00 toks/s]"
            ],
            "application/vnd.jupyter.widget-view+json": {
              "version_major": 2,
              "version_minor": 0,
              "model_id": "20197498ad0f4ae2a929076c540b8cf2"
            }
          },
          "metadata": {}
        },
        {
          "output_type": "display_data",
          "data": {
            "text/plain": [
              "Processed prompts:   0%|          | 0/1 [00:00<?, ?it/s, est. speed input: 0.00 toks/s, output: 0.00 toks/s]"
            ],
            "application/vnd.jupyter.widget-view+json": {
              "version_major": 2,
              "version_minor": 0,
              "model_id": "f73356ef69d0481a9e58f8d50aad908a"
            }
          },
          "metadata": {}
        },
        {
          "output_type": "display_data",
          "data": {
            "text/plain": [
              "Processed prompts:   0%|          | 0/1 [00:00<?, ?it/s, est. speed input: 0.00 toks/s, output: 0.00 toks/s]"
            ],
            "application/vnd.jupyter.widget-view+json": {
              "version_major": 2,
              "version_minor": 0,
              "model_id": "62d47341e2044b3f9af868d7425bab56"
            }
          },
          "metadata": {}
        },
        {
          "output_type": "display_data",
          "data": {
            "text/plain": [
              "Processed prompts:   0%|          | 0/1 [00:00<?, ?it/s, est. speed input: 0.00 toks/s, output: 0.00 toks/s]"
            ],
            "application/vnd.jupyter.widget-view+json": {
              "version_major": 2,
              "version_minor": 0,
              "model_id": "87a1c01783cd49b2b2369b223bf87ff7"
            }
          },
          "metadata": {}
        },
        {
          "output_type": "display_data",
          "data": {
            "text/plain": [
              "Processed prompts:   0%|          | 0/1 [00:00<?, ?it/s, est. speed input: 0.00 toks/s, output: 0.00 toks/s]"
            ],
            "application/vnd.jupyter.widget-view+json": {
              "version_major": 2,
              "version_minor": 0,
              "model_id": "84e9553e57da4efbab0c87fe9b5858db"
            }
          },
          "metadata": {}
        },
        {
          "output_type": "stream",
          "name": "stdout",
          "text": [
            "The skills have been extracted from jobs data successfully...\n",
            "\n",
            "    Research ID                                        Description  \\\n",
            "0             2  \\nJob description\\nAre you interested in worki...   \n",
            "1             2  \\nJob description\\nAre you interested in worki...   \n",
            "2             2  \\nJob description\\nAre you interested in worki...   \n",
            "3             2  \\nJob description\\nAre you interested in worki...   \n",
            "4             2  \\nJob description\\nAre you interested in worki...   \n",
            "..          ...                                                ...   \n",
            "59            3  \\nJob description\\nWeb Developer (Programmer)\\...   \n",
            "60            3  \\nJob description\\nWeb Developer (Programmer)\\...   \n",
            "61            3  \\nJob description\\nWeb Developer (Programmer)\\...   \n",
            "62            3  \\nJob description\\nWeb Developer (Programmer)\\...   \n",
            "63            3  \\nJob description\\nWeb Developer (Programmer)\\...   \n",
            "\n",
            "                                      Raw Skill  \\\n",
            "0                           cognitive computing   \n",
            "1                                 deep learning   \n",
            "2                         business intelligence   \n",
            "3                     ML (computer programming)   \n",
            "4            provide assistance with job search   \n",
            "..                                          ...   \n",
            "59               satisfy technical requirements   \n",
            "60                    environmental engineering   \n",
            "61  develop occupational classification systems   \n",
            "62         develop data processing applications   \n",
            "63                          provide ICT support   \n",
            "\n",
            "                                   Knowledge Required  \\\n",
            "0    [Machine learning, Cloud computing, AI concepts]   \n",
            "1   [Deep learning algorithms, Machine learning fr...   \n",
            "2   [Data analysis, Business trends, Metrics repor...   \n",
            "3   [Python programming, Cloud computing, ML algor...   \n",
            "4   [Cloud computing, Machine learning, Software d...   \n",
            "..                                                ...   \n",
            "59  [AWS programming, Database management, Web dev...   \n",
            "60  [Data Management, Web Development, Programming...   \n",
            "61  [Occupational classification theory, Statistic...   \n",
            "62  [Data structures, Database design, Algorithm d...   \n",
            "63  [Web Development, Database Management, AWS Ser...   \n",
            "\n",
            "                                       Task Abilities   Skill Tag  \\\n",
            "0      [Develop APIs, Build models, Deploy solutions]  ESCO.11008   \n",
            "1   [Deploy AI models, Optimize model performance,...  ESCO.12832   \n",
            "2   [Interpret data, Identify patterns, Generate r...   ESCO.1079   \n",
            "3    [Code unit tests, Design services, Debug issues]   ESCO.9017   \n",
            "4      [Code writing, System design, Problem solving]   ESCO.6666   \n",
            "..                                                ...         ...   \n",
            "59  [Develop web services, Manage existing service...   ESCO.4634   \n",
            "60  [Design Websites, Develop Applications, Manage...   ESCO.9678   \n",
            "61  [Develop classification criteria, Analyze job ...   ESCO.8412   \n",
            "62  [Data integration, System deployment, API deve...  ESCO.13557   \n",
            "63  [Develop Software, Troubleshoot Issues, Provid...  ESCO.10541   \n",
            "\n",
            "    Correlation Coefficient  \n",
            "0                  0.423501  \n",
            "1                  0.421497  \n",
            "2                  0.383663  \n",
            "3                  0.381421  \n",
            "4                  0.371732  \n",
            "..                      ...  \n",
            "59                 0.375612  \n",
            "60                 0.373934  \n",
            "61                 0.373601  \n",
            "62                 0.373205  \n",
            "63                 0.370005  \n",
            "\n",
            "[64 rows x 7 columns]\n",
            "The extracted skills have been saved to the file named: extracted_skills_for_2Jobs.csv\n",
            "\n",
            "\n",
            "Loading a sample dataset of 50 syllabi...\n",
            "The sample syllabi dataset has been loaded successfully!\n",
            "\n",
            "The sample dataset has been filtered successfully!\n",
            "\n",
            "Head of the sample:\n",
            "               id                                        description  \\\n",
            "1   661424964946  you will be provided with a practical understa...   \n",
            "2  6004364299427  there is a subtle balance between improvements...   \n",
            "\n",
            "                                   learning_outcomes  \n",
            "1  employ statistics to solve problems . use stat...  \n",
            "2                                                NaN  \n"
          ]
        },
        {
          "output_type": "display_data",
          "data": {
            "text/plain": [
              "Processed prompts:   0%|          | 0/1 [00:00<?, ?it/s, est. speed input: 0.00 toks/s, output: 0.00 toks/s]"
            ],
            "application/vnd.jupyter.widget-view+json": {
              "version_major": 2,
              "version_minor": 0,
              "model_id": "c004a106b8ba4c409d77a59cb5ccbfe7"
            }
          },
          "metadata": {}
        },
        {
          "output_type": "display_data",
          "data": {
            "text/plain": [
              "Processed prompts:   0%|          | 0/1 [00:00<?, ?it/s, est. speed input: 0.00 toks/s, output: 0.00 toks/s]"
            ],
            "application/vnd.jupyter.widget-view+json": {
              "version_major": 2,
              "version_minor": 0,
              "model_id": "29a752c9a5a6443c9ea633387e8c8dcf"
            }
          },
          "metadata": {}
        },
        {
          "output_type": "display_data",
          "data": {
            "text/plain": [
              "Processed prompts:   0%|          | 0/1 [00:00<?, ?it/s, est. speed input: 0.00 toks/s, output: 0.00 toks/s]"
            ],
            "application/vnd.jupyter.widget-view+json": {
              "version_major": 2,
              "version_minor": 0,
              "model_id": "ff97d5c7a94943f4bfabc25409d31b4b"
            }
          },
          "metadata": {}
        },
        {
          "output_type": "display_data",
          "data": {
            "text/plain": [
              "Processed prompts:   0%|          | 0/1 [00:00<?, ?it/s, est. speed input: 0.00 toks/s, output: 0.00 toks/s]"
            ],
            "application/vnd.jupyter.widget-view+json": {
              "version_major": 2,
              "version_minor": 0,
              "model_id": "9880b250534749fca9f9cf99706a9bcd"
            }
          },
          "metadata": {}
        },
        {
          "output_type": "display_data",
          "data": {
            "text/plain": [
              "Processed prompts:   0%|          | 0/1 [00:00<?, ?it/s, est. speed input: 0.00 toks/s, output: 0.00 toks/s]"
            ],
            "application/vnd.jupyter.widget-view+json": {
              "version_major": 2,
              "version_minor": 0,
              "model_id": "51dfec9cb4674c20804e373722d77c4a"
            }
          },
          "metadata": {}
        },
        {
          "output_type": "display_data",
          "data": {
            "text/plain": [
              "Processed prompts:   0%|          | 0/1 [00:00<?, ?it/s, est. speed input: 0.00 toks/s, output: 0.00 toks/s]"
            ],
            "application/vnd.jupyter.widget-view+json": {
              "version_major": 2,
              "version_minor": 0,
              "model_id": "556cf465d99247f5b9515364638f67ca"
            }
          },
          "metadata": {}
        },
        {
          "output_type": "display_data",
          "data": {
            "text/plain": [
              "Processed prompts:   0%|          | 0/1 [00:00<?, ?it/s, est. speed input: 0.00 toks/s, output: 0.00 toks/s]"
            ],
            "application/vnd.jupyter.widget-view+json": {
              "version_major": 2,
              "version_minor": 0,
              "model_id": "f621223b9130491eb8d8b00366599048"
            }
          },
          "metadata": {}
        },
        {
          "output_type": "display_data",
          "data": {
            "text/plain": [
              "Processed prompts:   0%|          | 0/1 [00:00<?, ?it/s, est. speed input: 0.00 toks/s, output: 0.00 toks/s]"
            ],
            "application/vnd.jupyter.widget-view+json": {
              "version_major": 2,
              "version_minor": 0,
              "model_id": "08086d99f05640dabc1bad03808d2b25"
            }
          },
          "metadata": {}
        },
        {
          "output_type": "display_data",
          "data": {
            "text/plain": [
              "Processed prompts:   0%|          | 0/1 [00:00<?, ?it/s, est. speed input: 0.00 toks/s, output: 0.00 toks/s]"
            ],
            "application/vnd.jupyter.widget-view+json": {
              "version_major": 2,
              "version_minor": 0,
              "model_id": "ffd53d251aff44398e2eecdabd8b1275"
            }
          },
          "metadata": {}
        },
        {
          "output_type": "display_data",
          "data": {
            "text/plain": [
              "Processed prompts:   0%|          | 0/1 [00:00<?, ?it/s, est. speed input: 0.00 toks/s, output: 0.00 toks/s]"
            ],
            "application/vnd.jupyter.widget-view+json": {
              "version_major": 2,
              "version_minor": 0,
              "model_id": "c4636e3a1ac945d4abf5bedae9bd3c31"
            }
          },
          "metadata": {}
        },
        {
          "output_type": "display_data",
          "data": {
            "text/plain": [
              "Processed prompts:   0%|          | 0/1 [00:00<?, ?it/s, est. speed input: 0.00 toks/s, output: 0.00 toks/s]"
            ],
            "application/vnd.jupyter.widget-view+json": {
              "version_major": 2,
              "version_minor": 0,
              "model_id": "4f06927347fc45e4ab7b2b9b84396ef2"
            }
          },
          "metadata": {}
        },
        {
          "output_type": "display_data",
          "data": {
            "text/plain": [
              "Processed prompts:   0%|          | 0/1 [00:00<?, ?it/s, est. speed input: 0.00 toks/s, output: 0.00 toks/s]"
            ],
            "application/vnd.jupyter.widget-view+json": {
              "version_major": 2,
              "version_minor": 0,
              "model_id": "125b23e0988a45bfb49e03d6894dd5ff"
            }
          },
          "metadata": {}
        },
        {
          "output_type": "display_data",
          "data": {
            "text/plain": [
              "Processed prompts:   0%|          | 0/1 [00:00<?, ?it/s, est. speed input: 0.00 toks/s, output: 0.00 toks/s]"
            ],
            "application/vnd.jupyter.widget-view+json": {
              "version_major": 2,
              "version_minor": 0,
              "model_id": "d6b9bda123aa4dfe9d6c9e8e2aee317f"
            }
          },
          "metadata": {}
        },
        {
          "output_type": "display_data",
          "data": {
            "text/plain": [
              "Processed prompts:   0%|          | 0/1 [00:00<?, ?it/s, est. speed input: 0.00 toks/s, output: 0.00 toks/s]"
            ],
            "application/vnd.jupyter.widget-view+json": {
              "version_major": 2,
              "version_minor": 0,
              "model_id": "228d9d6c739a4507aec2627e978e898b"
            }
          },
          "metadata": {}
        },
        {
          "output_type": "display_data",
          "data": {
            "text/plain": [
              "Processed prompts:   0%|          | 0/1 [00:00<?, ?it/s, est. speed input: 0.00 toks/s, output: 0.00 toks/s]"
            ],
            "application/vnd.jupyter.widget-view+json": {
              "version_major": 2,
              "version_minor": 0,
              "model_id": "acac6980e02d4c4f8866226bbecc934a"
            }
          },
          "metadata": {}
        },
        {
          "output_type": "display_data",
          "data": {
            "text/plain": [
              "Processed prompts:   0%|          | 0/1 [00:00<?, ?it/s, est. speed input: 0.00 toks/s, output: 0.00 toks/s]"
            ],
            "application/vnd.jupyter.widget-view+json": {
              "version_major": 2,
              "version_minor": 0,
              "model_id": "e366ec77a74747c0a7da9002269531cd"
            }
          },
          "metadata": {}
        },
        {
          "output_type": "display_data",
          "data": {
            "text/plain": [
              "Processed prompts:   0%|          | 0/1 [00:00<?, ?it/s, est. speed input: 0.00 toks/s, output: 0.00 toks/s]"
            ],
            "application/vnd.jupyter.widget-view+json": {
              "version_major": 2,
              "version_minor": 0,
              "model_id": "be4d6c8dc69a4351b70511112ac599e6"
            }
          },
          "metadata": {}
        },
        {
          "output_type": "display_data",
          "data": {
            "text/plain": [
              "Processed prompts:   0%|          | 0/1 [00:00<?, ?it/s, est. speed input: 0.00 toks/s, output: 0.00 toks/s]"
            ],
            "application/vnd.jupyter.widget-view+json": {
              "version_major": 2,
              "version_minor": 0,
              "model_id": "0562b0a5dfd64d4f9e883351b222127f"
            }
          },
          "metadata": {}
        },
        {
          "output_type": "display_data",
          "data": {
            "text/plain": [
              "Processed prompts:   0%|          | 0/1 [00:00<?, ?it/s, est. speed input: 0.00 toks/s, output: 0.00 toks/s]"
            ],
            "application/vnd.jupyter.widget-view+json": {
              "version_major": 2,
              "version_minor": 0,
              "model_id": "85671f61d5524969b4de417068160f6d"
            }
          },
          "metadata": {}
        },
        {
          "output_type": "display_data",
          "data": {
            "text/plain": [
              "Processed prompts:   0%|          | 0/1 [00:00<?, ?it/s, est. speed input: 0.00 toks/s, output: 0.00 toks/s]"
            ],
            "application/vnd.jupyter.widget-view+json": {
              "version_major": 2,
              "version_minor": 0,
              "model_id": "aec71c29c7e7481397a300069a093c79"
            }
          },
          "metadata": {}
        },
        {
          "output_type": "display_data",
          "data": {
            "text/plain": [
              "Processed prompts:   0%|          | 0/1 [00:00<?, ?it/s, est. speed input: 0.00 toks/s, output: 0.00 toks/s]"
            ],
            "application/vnd.jupyter.widget-view+json": {
              "version_major": 2,
              "version_minor": 0,
              "model_id": "c79fa1a810d6465a8b45e185604d41e3"
            }
          },
          "metadata": {}
        },
        {
          "output_type": "display_data",
          "data": {
            "text/plain": [
              "Processed prompts:   0%|          | 0/1 [00:00<?, ?it/s, est. speed input: 0.00 toks/s, output: 0.00 toks/s]"
            ],
            "application/vnd.jupyter.widget-view+json": {
              "version_major": 2,
              "version_minor": 0,
              "model_id": "f73e1944007f4f3eaf778b1693e04ca2"
            }
          },
          "metadata": {}
        },
        {
          "output_type": "display_data",
          "data": {
            "text/plain": [
              "Processed prompts:   0%|          | 0/1 [00:00<?, ?it/s, est. speed input: 0.00 toks/s, output: 0.00 toks/s]"
            ],
            "application/vnd.jupyter.widget-view+json": {
              "version_major": 2,
              "version_minor": 0,
              "model_id": "ff44b273cb3442718e94f182ea3041f2"
            }
          },
          "metadata": {}
        },
        {
          "output_type": "display_data",
          "data": {
            "text/plain": [
              "Processed prompts:   0%|          | 0/1 [00:00<?, ?it/s, est. speed input: 0.00 toks/s, output: 0.00 toks/s]"
            ],
            "application/vnd.jupyter.widget-view+json": {
              "version_major": 2,
              "version_minor": 0,
              "model_id": "d958b73d59574948ade5a014ffc7d12a"
            }
          },
          "metadata": {}
        },
        {
          "output_type": "display_data",
          "data": {
            "text/plain": [
              "Processed prompts:   0%|          | 0/1 [00:00<?, ?it/s, est. speed input: 0.00 toks/s, output: 0.00 toks/s]"
            ],
            "application/vnd.jupyter.widget-view+json": {
              "version_major": 2,
              "version_minor": 0,
              "model_id": "fe0ff4ef383f4b4d8fc8012044ad7771"
            }
          },
          "metadata": {}
        },
        {
          "output_type": "display_data",
          "data": {
            "text/plain": [
              "Processed prompts:   0%|          | 0/1 [00:00<?, ?it/s, est. speed input: 0.00 toks/s, output: 0.00 toks/s]"
            ],
            "application/vnd.jupyter.widget-view+json": {
              "version_major": 2,
              "version_minor": 0,
              "model_id": "b1a29a48faf142638da2a2ffddab675f"
            }
          },
          "metadata": {}
        },
        {
          "output_type": "display_data",
          "data": {
            "text/plain": [
              "Processed prompts:   0%|          | 0/1 [00:00<?, ?it/s, est. speed input: 0.00 toks/s, output: 0.00 toks/s]"
            ],
            "application/vnd.jupyter.widget-view+json": {
              "version_major": 2,
              "version_minor": 0,
              "model_id": "34aedccb8a42469a8c0dffd02cbf4b8d"
            }
          },
          "metadata": {}
        },
        {
          "output_type": "display_data",
          "data": {
            "text/plain": [
              "Processed prompts:   0%|          | 0/1 [00:00<?, ?it/s, est. speed input: 0.00 toks/s, output: 0.00 toks/s]"
            ],
            "application/vnd.jupyter.widget-view+json": {
              "version_major": 2,
              "version_minor": 0,
              "model_id": "3e10c2700af542aeb4d1622e2c11915a"
            }
          },
          "metadata": {}
        },
        {
          "output_type": "display_data",
          "data": {
            "text/plain": [
              "Processed prompts:   0%|          | 0/1 [00:00<?, ?it/s, est. speed input: 0.00 toks/s, output: 0.00 toks/s]"
            ],
            "application/vnd.jupyter.widget-view+json": {
              "version_major": 2,
              "version_minor": 0,
              "model_id": "88f1374e194249a1994ef6eea61927a3"
            }
          },
          "metadata": {}
        },
        {
          "output_type": "display_data",
          "data": {
            "text/plain": [
              "Processed prompts:   0%|          | 0/1 [00:00<?, ?it/s, est. speed input: 0.00 toks/s, output: 0.00 toks/s]"
            ],
            "application/vnd.jupyter.widget-view+json": {
              "version_major": 2,
              "version_minor": 0,
              "model_id": "033b9b1e26a54a0d87bc69009b0fc24e"
            }
          },
          "metadata": {}
        },
        {
          "output_type": "display_data",
          "data": {
            "text/plain": [
              "Processed prompts:   0%|          | 0/1 [00:00<?, ?it/s, est. speed input: 0.00 toks/s, output: 0.00 toks/s]"
            ],
            "application/vnd.jupyter.widget-view+json": {
              "version_major": 2,
              "version_minor": 0,
              "model_id": "4f42890b09214191ae2dc7b4b5ecc610"
            }
          },
          "metadata": {}
        },
        {
          "output_type": "display_data",
          "data": {
            "text/plain": [
              "Processed prompts:   0%|          | 0/1 [00:00<?, ?it/s, est. speed input: 0.00 toks/s, output: 0.00 toks/s]"
            ],
            "application/vnd.jupyter.widget-view+json": {
              "version_major": 2,
              "version_minor": 0,
              "model_id": "129e2f9c0201491eae86788b5be6d108"
            }
          },
          "metadata": {}
        },
        {
          "output_type": "display_data",
          "data": {
            "text/plain": [
              "Processed prompts:   0%|          | 0/1 [00:00<?, ?it/s, est. speed input: 0.00 toks/s, output: 0.00 toks/s]"
            ],
            "application/vnd.jupyter.widget-view+json": {
              "version_major": 2,
              "version_minor": 0,
              "model_id": "9d8abf096e3c439182b0d337a5d95cda"
            }
          },
          "metadata": {}
        },
        {
          "output_type": "display_data",
          "data": {
            "text/plain": [
              "Processed prompts:   0%|          | 0/1 [00:00<?, ?it/s, est. speed input: 0.00 toks/s, output: 0.00 toks/s]"
            ],
            "application/vnd.jupyter.widget-view+json": {
              "version_major": 2,
              "version_minor": 0,
              "model_id": "3c954328180b42ff92a7ed13380dfb76"
            }
          },
          "metadata": {}
        },
        {
          "output_type": "display_data",
          "data": {
            "text/plain": [
              "Processed prompts:   0%|          | 0/1 [00:00<?, ?it/s, est. speed input: 0.00 toks/s, output: 0.00 toks/s]"
            ],
            "application/vnd.jupyter.widget-view+json": {
              "version_major": 2,
              "version_minor": 0,
              "model_id": "cbd8fa992df14257b6277ac49b544a4a"
            }
          },
          "metadata": {}
        },
        {
          "output_type": "display_data",
          "data": {
            "text/plain": [
              "Processed prompts:   0%|          | 0/1 [00:00<?, ?it/s, est. speed input: 0.00 toks/s, output: 0.00 toks/s]"
            ],
            "application/vnd.jupyter.widget-view+json": {
              "version_major": 2,
              "version_minor": 0,
              "model_id": "4a879657e0884da198c3f4a1cccf60aa"
            }
          },
          "metadata": {}
        },
        {
          "output_type": "display_data",
          "data": {
            "text/plain": [
              "Processed prompts:   0%|          | 0/1 [00:00<?, ?it/s, est. speed input: 0.00 toks/s, output: 0.00 toks/s]"
            ],
            "application/vnd.jupyter.widget-view+json": {
              "version_major": 2,
              "version_minor": 0,
              "model_id": "77c314de36c7468e909dc9b5cf3d8ace"
            }
          },
          "metadata": {}
        },
        {
          "output_type": "display_data",
          "data": {
            "text/plain": [
              "Processed prompts:   0%|          | 0/1 [00:00<?, ?it/s, est. speed input: 0.00 toks/s, output: 0.00 toks/s]"
            ],
            "application/vnd.jupyter.widget-view+json": {
              "version_major": 2,
              "version_minor": 0,
              "model_id": "edfc35d49a38407986baf480c3bbfdae"
            }
          },
          "metadata": {}
        },
        {
          "output_type": "display_data",
          "data": {
            "text/plain": [
              "Processed prompts:   0%|          | 0/1 [00:00<?, ?it/s, est. speed input: 0.00 toks/s, output: 0.00 toks/s]"
            ],
            "application/vnd.jupyter.widget-view+json": {
              "version_major": 2,
              "version_minor": 0,
              "model_id": "f4aba1af8bc04ef7bb6664aeee33a07f"
            }
          },
          "metadata": {}
        },
        {
          "output_type": "display_data",
          "data": {
            "text/plain": [
              "Processed prompts:   0%|          | 0/1 [00:00<?, ?it/s, est. speed input: 0.00 toks/s, output: 0.00 toks/s]"
            ],
            "application/vnd.jupyter.widget-view+json": {
              "version_major": 2,
              "version_minor": 0,
              "model_id": "14bf988814a3438c937f768091c3afa8"
            }
          },
          "metadata": {}
        },
        {
          "output_type": "display_data",
          "data": {
            "text/plain": [
              "Processed prompts:   0%|          | 0/1 [00:00<?, ?it/s, est. speed input: 0.00 toks/s, output: 0.00 toks/s]"
            ],
            "application/vnd.jupyter.widget-view+json": {
              "version_major": 2,
              "version_minor": 0,
              "model_id": "34ab68525e4c4df7a5c0e7249effdebe"
            }
          },
          "metadata": {}
        },
        {
          "output_type": "display_data",
          "data": {
            "text/plain": [
              "Processed prompts:   0%|          | 0/1 [00:00<?, ?it/s, est. speed input: 0.00 toks/s, output: 0.00 toks/s]"
            ],
            "application/vnd.jupyter.widget-view+json": {
              "version_major": 2,
              "version_minor": 0,
              "model_id": "816c4dbef31a4fa6a4d0ceac0052b468"
            }
          },
          "metadata": {}
        },
        {
          "output_type": "display_data",
          "data": {
            "text/plain": [
              "Processed prompts:   0%|          | 0/1 [00:00<?, ?it/s, est. speed input: 0.00 toks/s, output: 0.00 toks/s]"
            ],
            "application/vnd.jupyter.widget-view+json": {
              "version_major": 2,
              "version_minor": 0,
              "model_id": "0c36a3d1eb1a4f47934c8e0c262ba872"
            }
          },
          "metadata": {}
        },
        {
          "output_type": "display_data",
          "data": {
            "text/plain": [
              "Processed prompts:   0%|          | 0/1 [00:00<?, ?it/s, est. speed input: 0.00 toks/s, output: 0.00 toks/s]"
            ],
            "application/vnd.jupyter.widget-view+json": {
              "version_major": 2,
              "version_minor": 0,
              "model_id": "1d6d1c54521e4337aaca13c6efd419ff"
            }
          },
          "metadata": {}
        },
        {
          "output_type": "display_data",
          "data": {
            "text/plain": [
              "Processed prompts:   0%|          | 0/1 [00:00<?, ?it/s, est. speed input: 0.00 toks/s, output: 0.00 toks/s]"
            ],
            "application/vnd.jupyter.widget-view+json": {
              "version_major": 2,
              "version_minor": 0,
              "model_id": "0e1b9a73eff9450b94f35dde9562705d"
            }
          },
          "metadata": {}
        },
        {
          "output_type": "display_data",
          "data": {
            "text/plain": [
              "Processed prompts:   0%|          | 0/1 [00:00<?, ?it/s, est. speed input: 0.00 toks/s, output: 0.00 toks/s]"
            ],
            "application/vnd.jupyter.widget-view+json": {
              "version_major": 2,
              "version_minor": 0,
              "model_id": "f0557169a67d43ed8f2bffc1e8b12262"
            }
          },
          "metadata": {}
        },
        {
          "output_type": "display_data",
          "data": {
            "text/plain": [
              "Processed prompts:   0%|          | 0/1 [00:00<?, ?it/s, est. speed input: 0.00 toks/s, output: 0.00 toks/s]"
            ],
            "application/vnd.jupyter.widget-view+json": {
              "version_major": 2,
              "version_minor": 0,
              "model_id": "751ba56c998d4637a3aff77191260256"
            }
          },
          "metadata": {}
        },
        {
          "output_type": "display_data",
          "data": {
            "text/plain": [
              "Processed prompts:   0%|          | 0/1 [00:00<?, ?it/s, est. speed input: 0.00 toks/s, output: 0.00 toks/s]"
            ],
            "application/vnd.jupyter.widget-view+json": {
              "version_major": 2,
              "version_minor": 0,
              "model_id": "38bc635d6b7b423bba319c55330a622e"
            }
          },
          "metadata": {}
        },
        {
          "output_type": "display_data",
          "data": {
            "text/plain": [
              "Processed prompts:   0%|          | 0/1 [00:00<?, ?it/s, est. speed input: 0.00 toks/s, output: 0.00 toks/s]"
            ],
            "application/vnd.jupyter.widget-view+json": {
              "version_major": 2,
              "version_minor": 0,
              "model_id": "c6ed98169e59451db783611f783f7907"
            }
          },
          "metadata": {}
        },
        {
          "output_type": "display_data",
          "data": {
            "text/plain": [
              "Processed prompts:   0%|          | 0/1 [00:00<?, ?it/s, est. speed input: 0.00 toks/s, output: 0.00 toks/s]"
            ],
            "application/vnd.jupyter.widget-view+json": {
              "version_major": 2,
              "version_minor": 0,
              "model_id": "7f6f4ed0f60b4c4b8574e7a313c7afcd"
            }
          },
          "metadata": {}
        },
        {
          "output_type": "display_data",
          "data": {
            "text/plain": [
              "Processed prompts:   0%|          | 0/1 [00:00<?, ?it/s, est. speed input: 0.00 toks/s, output: 0.00 toks/s]"
            ],
            "application/vnd.jupyter.widget-view+json": {
              "version_major": 2,
              "version_minor": 0,
              "model_id": "ff214082a7eb4a609fcf3d3cfc1b0345"
            }
          },
          "metadata": {}
        },
        {
          "output_type": "display_data",
          "data": {
            "text/plain": [
              "Processed prompts:   0%|          | 0/1 [00:00<?, ?it/s, est. speed input: 0.00 toks/s, output: 0.00 toks/s]"
            ],
            "application/vnd.jupyter.widget-view+json": {
              "version_major": 2,
              "version_minor": 0,
              "model_id": "86666df0d7cb443584d0279a25d3a2ac"
            }
          },
          "metadata": {}
        },
        {
          "output_type": "display_data",
          "data": {
            "text/plain": [
              "Processed prompts:   0%|          | 0/1 [00:00<?, ?it/s, est. speed input: 0.00 toks/s, output: 0.00 toks/s]"
            ],
            "application/vnd.jupyter.widget-view+json": {
              "version_major": 2,
              "version_minor": 0,
              "model_id": "e50c91e0998646eaae306f9297a06ae6"
            }
          },
          "metadata": {}
        },
        {
          "output_type": "display_data",
          "data": {
            "text/plain": [
              "Processed prompts:   0%|          | 0/1 [00:00<?, ?it/s, est. speed input: 0.00 toks/s, output: 0.00 toks/s]"
            ],
            "application/vnd.jupyter.widget-view+json": {
              "version_major": 2,
              "version_minor": 0,
              "model_id": "72e471b8a5d2412987b3680b2da2d52f"
            }
          },
          "metadata": {}
        },
        {
          "output_type": "display_data",
          "data": {
            "text/plain": [
              "Processed prompts:   0%|          | 0/1 [00:00<?, ?it/s, est. speed input: 0.00 toks/s, output: 0.00 toks/s]"
            ],
            "application/vnd.jupyter.widget-view+json": {
              "version_major": 2,
              "version_minor": 0,
              "model_id": "e6bf9342c3404c638ef88e4af2070e7a"
            }
          },
          "metadata": {}
        },
        {
          "output_type": "display_data",
          "data": {
            "text/plain": [
              "Processed prompts:   0%|          | 0/1 [00:00<?, ?it/s, est. speed input: 0.00 toks/s, output: 0.00 toks/s]"
            ],
            "application/vnd.jupyter.widget-view+json": {
              "version_major": 2,
              "version_minor": 0,
              "model_id": "309e550147e5429e9160eea05ab6b348"
            }
          },
          "metadata": {}
        },
        {
          "output_type": "display_data",
          "data": {
            "text/plain": [
              "Processed prompts:   0%|          | 0/1 [00:00<?, ?it/s, est. speed input: 0.00 toks/s, output: 0.00 toks/s]"
            ],
            "application/vnd.jupyter.widget-view+json": {
              "version_major": 2,
              "version_minor": 0,
              "model_id": "a368e36361e94fd29a25d6ec4b6d93af"
            }
          },
          "metadata": {}
        },
        {
          "output_type": "display_data",
          "data": {
            "text/plain": [
              "Processed prompts:   0%|          | 0/1 [00:00<?, ?it/s, est. speed input: 0.00 toks/s, output: 0.00 toks/s]"
            ],
            "application/vnd.jupyter.widget-view+json": {
              "version_major": 2,
              "version_minor": 0,
              "model_id": "8f4cae4ff70343978646f343b84c22de"
            }
          },
          "metadata": {}
        },
        {
          "output_type": "display_data",
          "data": {
            "text/plain": [
              "Processed prompts:   0%|          | 0/1 [00:00<?, ?it/s, est. speed input: 0.00 toks/s, output: 0.00 toks/s]"
            ],
            "application/vnd.jupyter.widget-view+json": {
              "version_major": 2,
              "version_minor": 0,
              "model_id": "146b70e455834087a4cf6c37cb155537"
            }
          },
          "metadata": {}
        },
        {
          "output_type": "display_data",
          "data": {
            "text/plain": [
              "Processed prompts:   0%|          | 0/1 [00:00<?, ?it/s, est. speed input: 0.00 toks/s, output: 0.00 toks/s]"
            ],
            "application/vnd.jupyter.widget-view+json": {
              "version_major": 2,
              "version_minor": 0,
              "model_id": "470a81111a044d3eaa9307d3e9c61427"
            }
          },
          "metadata": {}
        },
        {
          "output_type": "display_data",
          "data": {
            "text/plain": [
              "Processed prompts:   0%|          | 0/1 [00:00<?, ?it/s, est. speed input: 0.00 toks/s, output: 0.00 toks/s]"
            ],
            "application/vnd.jupyter.widget-view+json": {
              "version_major": 2,
              "version_minor": 0,
              "model_id": "d59e16a1571b43b186f72576d41137ca"
            }
          },
          "metadata": {}
        },
        {
          "output_type": "display_data",
          "data": {
            "text/plain": [
              "Processed prompts:   0%|          | 0/1 [00:00<?, ?it/s, est. speed input: 0.00 toks/s, output: 0.00 toks/s]"
            ],
            "application/vnd.jupyter.widget-view+json": {
              "version_major": 2,
              "version_minor": 0,
              "model_id": "cfb26f4778a140c48a8590f9dcba25f3"
            }
          },
          "metadata": {}
        },
        {
          "output_type": "display_data",
          "data": {
            "text/plain": [
              "Processed prompts:   0%|          | 0/1 [00:00<?, ?it/s, est. speed input: 0.00 toks/s, output: 0.00 toks/s]"
            ],
            "application/vnd.jupyter.widget-view+json": {
              "version_major": 2,
              "version_minor": 0,
              "model_id": "1f7093f8acc3401c8095534ac2e17b64"
            }
          },
          "metadata": {}
        },
        {
          "output_type": "display_data",
          "data": {
            "text/plain": [
              "Processed prompts:   0%|          | 0/1 [00:00<?, ?it/s, est. speed input: 0.00 toks/s, output: 0.00 toks/s]"
            ],
            "application/vnd.jupyter.widget-view+json": {
              "version_major": 2,
              "version_minor": 0,
              "model_id": "1b04f5f018464e6d91177bd92578d624"
            }
          },
          "metadata": {}
        },
        {
          "output_type": "stream",
          "name": "stdout",
          "text": [
            "The skills have been extracted from syllabi data successfully...\n",
            "\n",
            "      Research ID                                        Description  \\\n",
            "0    661424964946  Course Description: you will be provided with ...   \n",
            "1    661424964946  Course Description: you will be provided with ...   \n",
            "2    661424964946  Course Description: you will be provided with ...   \n",
            "3    661424964946  Course Description: you will be provided with ...   \n",
            "4    661424964946  Course Description: you will be provided with ...   \n",
            "..            ...                                                ...   \n",
            "59  6004364299427  Course Description: there is a subtle balance ...   \n",
            "60  6004364299427  Course Description: there is a subtle balance ...   \n",
            "61  6004364299427  Course Description: there is a subtle balance ...   \n",
            "62  6004364299427  Course Description: there is a subtle balance ...   \n",
            "63  6004364299427  Course Description: there is a subtle balance ...   \n",
            "\n",
            "                                Raw Skill  \\\n",
            "0                 quality control systems   \n",
            "1             statistical quality control   \n",
            "2        conduct quality control analysis   \n",
            "3                 oversee quality control   \n",
            "4    implement quality management systems   \n",
            "..                                    ...   \n",
            "59                        data protection   \n",
            "60        record customers' personal data   \n",
            "61                         news analytics   \n",
            "62  implement data warehousing techniques   \n",
            "63             monitor customer behaviour   \n",
            "\n",
            "                                   Knowledge Required  \\\n",
            "0   [Statistical process control, Quality improvem...   \n",
            "1   [Statistics fundamentals, Quality improvement ...   \n",
            "2   [Statistics fundamentals, Quality improvement ...   \n",
            "3   [Quality standards, Defect detection methods, ...   \n",
            "4   [Quality standards, Improvement methods, Stati...   \n",
            "..                                                ...   \n",
            "59  [Data privacy laws, Security best practices, E...   \n",
            "60  [Data privacy laws, GDPR compliance, Customer ...   \n",
            "61  [Data mining techniques, Statistical analysis ...   \n",
            "62  [Data modeling, ETL processes, Database concepts]   \n",
            "63  [Customer behaviour, Data analytics tools, Pri...   \n",
            "\n",
            "                                       Task Abilities   Skill Tag  \\\n",
            "0   [Implement control charts, Analyze process cap...  ESCO.11595   \n",
            "1   [Interpret control charts, Develop control cha...  ESCO.12311   \n",
            "2   [Analyze process data, Develop control charts,...   ESCO.3585   \n",
            "3   [Implement control charts, Analyze quality dat...   ESCO.5110   \n",
            "4   [Design systems, Implement procedures, Monitor...   ESCO.6319   \n",
            "..                                                ...         ...   \n",
            "59  [Identify risks, Implement safeguards, Comply ...   ESCO.8985   \n",
            "60  [Secure data storage, Anonymize data, Obtain c...   ESCO.7015   \n",
            "61  [Identify trends in news, Analyze news sentime...  ESCO.11579   \n",
            "62  [Design schemas, Extract data, Load data wareh...  ESCO.13785   \n",
            "63  [Identify trends, Analyze customer data, Predi...  ESCO.11144   \n",
            "\n",
            "    Correlation Coefficient  \n",
            "0                  0.665041  \n",
            "1                  0.660395  \n",
            "2                  0.648281  \n",
            "3                  0.631553  \n",
            "4                  0.621934  \n",
            "..                      ...  \n",
            "59                 0.407806  \n",
            "60                 0.407669  \n",
            "61                 0.406565  \n",
            "62                 0.404675  \n",
            "63                 0.403492  \n",
            "\n",
            "[64 rows x 7 columns]\n",
            "The extracted skills have been saved to the file named: extracted_skills_for_2Syllabi.csv\n"
          ]
        }
      ]
    },
    {
      "cell_type": "code",
      "source": [],
      "metadata": {
        "id": "FfXafD8qFspt"
      },
      "execution_count": null,
      "outputs": []
    }
  ]
}